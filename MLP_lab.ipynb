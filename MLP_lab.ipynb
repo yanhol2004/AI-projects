{
  "cells": [
    {
      "cell_type": "markdown",
      "metadata": {
        "id": "65e57a8b"
      },
      "source": [
        "* * *\n",
        "<pre> NYU Paris            <i> Machine Learning - Summer 2023 </i></pre>\n",
        "* * *\n",
        "\n",
        "\n",
        "<h1 align=\"center\"> Lab: the multilayer perceptron </h1>\n",
        "\n",
        "<pre align=\"left\"> June 07th 2023               <i> Author: Guillaume Staerman </i></pre>\n",
        "* * *\n",
        "\n",
        "\n",
        "##### Goal:\n",
        "- Implement your Multilayer perceptron model"
      ],
      "id": "65e57a8b"
    },
    {
      "cell_type": "markdown",
      "metadata": {
        "id": "5a657681"
      },
      "source": [
        "## Installing and importing Pytorch"
      ],
      "id": "5a657681"
    },
    {
      "cell_type": "code",
      "execution_count": 125,
      "metadata": {
        "id": "6767c076"
      },
      "outputs": [],
      "source": [
        "import torch\n",
        "from torchvision import datasets\n",
        "from torchvision.transforms import ToTensor\n",
        "\n",
        "\n",
        "# Versions of torch and torchvision have to be compatible.\n",
        "# check here: https://github.com/pytorch/pytorch/wiki/PyTorch-Versions"
      ],
      "id": "6767c076"
    },
    {
      "cell_type": "code",
      "execution_count": 126,
      "metadata": {
        "id": "1aeedfa1"
      },
      "outputs": [],
      "source": [
        "import torchvision"
      ],
      "id": "1aeedfa1"
    },
    {
      "cell_type": "code",
      "execution_count": 127,
      "metadata": {
        "colab": {
          "base_uri": "https://localhost:8080/"
        },
        "id": "db6d62e3",
        "outputId": "8aa45c5b-70e2-4c03-b694-8d0c623175fc"
      },
      "outputs": [
        {
          "output_type": "stream",
          "name": "stdout",
          "text": [
            "2.1.0+cu121\n",
            "0.16.0+cu121\n"
          ]
        }
      ],
      "source": [
        "print(torch.__version__)\n",
        "print(torchvision.__version__)"
      ],
      "id": "db6d62e3"
    },
    {
      "cell_type": "markdown",
      "metadata": {
        "id": "99193052"
      },
      "source": [
        "### Loading and preparing the MNIST dataset"
      ],
      "id": "99193052"
    },
    {
      "cell_type": "code",
      "execution_count": 128,
      "metadata": {
        "id": "0de880eb"
      },
      "outputs": [],
      "source": [
        "# Define training and testing data using the functions in the cell above.\n",
        "\n",
        "train_data = datasets.MNIST(\n",
        "    root=\"data\",\n",
        "    train=True,\n",
        "    download=True,\n",
        "    transform=ToTensor()\n",
        ")\n",
        "\n",
        "test_data = datasets.MNIST(\n",
        "    root=\"data\",\n",
        "    train=False,\n",
        "    download=True,\n",
        "    transform=ToTensor()\n",
        ")"
      ],
      "id": "0de880eb"
    },
    {
      "cell_type": "markdown",
      "metadata": {
        "id": "75119177"
      },
      "source": [
        "## Question 1\n",
        "\n",
        "### Visualize some elements of the dataset:"
      ],
      "id": "75119177"
    },
    {
      "cell_type": "code",
      "execution_count": 129,
      "metadata": {
        "colab": {
          "base_uri": "https://localhost:8080/",
          "height": 709
        },
        "id": "a58802b5",
        "outputId": "56304ce2-6c91-4dc3-9a50-7b226b7aa61e"
      },
      "outputs": [
        {
          "output_type": "stream",
          "name": "stdout",
          "text": [
            "torch.Size([60000, 28, 28])\n",
            "torch.Size([10000, 28, 28])\n"
          ]
        },
        {
          "output_type": "display_data",
          "data": {
            "text/plain": [
              "<Figure size 800x800 with 9 Axes>"
            ],
            "image/png": "[encoded data removed]"
          },
          "metadata": {}
        }
      ],
      "source": [
        "import matplotlib.pyplot as plt\n",
        "# Visualize some images of the MNIST dataset\n",
        "# Size of training data\n",
        "print(train_data.data.shape)\n",
        "\n",
        "# Size of testing data\n",
        "print(test_data.data.shape)\n",
        "\n",
        "labels_map = {\n",
        "    0: \"0\",\n",
        "    1: \"1\",\n",
        "    2: \"2\",\n",
        "    3: \"3\",\n",
        "    4: \"4\",\n",
        "    5: \"5\",\n",
        "    6: \"6\",\n",
        "    7: \"7\",\n",
        "    8: \"8\",\n",
        "    9: \"9\",\n",
        "}\n",
        "\n",
        "figure = plt.figure(figsize=(8, 8))\n",
        "cols, rows = 3, 3\n",
        "for i in range(1, cols * rows + 1):\n",
        "    sample_idx = i\n",
        "    img, label = train_data[sample_idx][:-1][0], train_data[sample_idx][-1]\n",
        "    figure.add_subplot(rows, cols, i)\n",
        "    plt.title(labels_map[label])\n",
        "    plt.axis(\"off\")\n",
        "    plt.imshow(img.squeeze(), cmap=\"gray\")\n",
        "plt.show()"
      ],
      "id": "a58802b5"
    },
    {
      "cell_type": "code",
      "execution_count": 130,
      "metadata": {
        "colab": {
          "base_uri": "https://localhost:8080/"
        },
        "id": "3c458a20",
        "outputId": "b87e049d-e1ba-4a31-dc4b-0e8e275704e5"
      },
      "outputs": [
        {
          "output_type": "execute_result",
          "data": {
            "text/plain": [
              "5"
            ]
          },
          "metadata": {},
          "execution_count": 130
        }
      ],
      "source": [
        "train_data.targets[0].item()"
      ],
      "id": "3c458a20"
    },
    {
      "cell_type": "markdown",
      "metadata": {
        "id": "0f2a9a20"
      },
      "source": [
        "## Question 2\n",
        "\n",
        "### Define a dataloader to construct a batch-wise iterator from your train/test data\n"
      ],
      "id": "0f2a9a20"
    },
    {
      "cell_type": "code",
      "execution_count": 131,
      "metadata": {
        "id": "de33cb41"
      },
      "outputs": [],
      "source": [
        "from torch.utils.data import DataLoader\n",
        "\n",
        "BATCH_SIZE = 4\n",
        "trainloader = DataLoader(train_data, batch_size=BATCH_SIZE, shuffle=True, num_workers=2)\n",
        "testloader = DataLoader(test_data, batch_size=BATCH_SIZE, shuffle=False, num_workers=2)"
      ],
      "id": "de33cb41"
    },
    {
      "cell_type": "markdown",
      "metadata": {
        "id": "f805dc4e"
      },
      "source": [
        "## Question 3\n",
        "\n",
        "### Design your own Neural Network"
      ],
      "id": "f805dc4e"
    },
    {
      "cell_type": "code",
      "execution_count": 132,
      "metadata": {
        "id": "ee19c7e6"
      },
      "outputs": [],
      "source": [
        "import torch.nn as nn\n",
        "import torch.nn.functional as F\n",
        "# number of features (len of X cols)\n",
        "input_dim = 28 * 28\n",
        "\n",
        "# number of hidden layers\n",
        "hidden_dim = 256\n",
        "\n",
        "# number of classes (unique of y)\n",
        "output_dim = 10\n",
        "\n",
        "class MLP(nn.Module):\n",
        "    def __init__(self):\n",
        "        super(MLP, self).__init__()\n",
        "        self.linear1 = nn.Linear(input_dim, hidden_dim)\n",
        "        self.linear2 = nn.Linear(hidden_dim, output_dim)\n",
        "\n",
        "    def forward(self, x):\n",
        "        h_relu = F.relu(self.linear1(x.view(BATCH_SIZE,-1)))\n",
        "        y_pred = self.linear2(h_relu)\n",
        "        return y_pred"
      ],
      "id": "ee19c7e6"
    },
    {
      "cell_type": "markdown",
      "metadata": {
        "id": "fa46e6fb"
      },
      "source": [
        "## Question 4\n",
        "\n",
        "### Train your neural network on the trainloader"
      ],
      "id": "fa46e6fb"
    },
    {
      "cell_type": "code",
      "execution_count": 133,
      "metadata": {
        "colab": {
          "base_uri": "https://localhost:8080/"
        },
        "id": "9549e4dd",
        "outputId": "6a0a48c8-30be-4887-b45d-10d9f60db2e9"
      },
      "outputs": [
        {
          "output_type": "stream",
          "name": "stdout",
          "text": [
            "<bound method Module.parameters of MLP(\n",
            "  (linear1): Linear(in_features=784, out_features=256, bias=True)\n",
            "  (linear2): Linear(in_features=256, out_features=10, bias=True)\n",
            ")>\n",
            "0 0 2.2080416679382324\n",
            "0 2000 2.218386650085449\n",
            "0 4000 2.2581677436828613\n",
            "0 6000 2.1700167655944824\n",
            "0 8000 2.172699451446533\n",
            "0 10000 2.158163547515869\n",
            "0 12000 1.7158749103546143\n",
            "0 14000 1.9823225736618042\n",
            "1 0 1.9271173477172852\n",
            "1 2000 1.8872544765472412\n",
            "1 4000 1.9060211181640625\n",
            "1 6000 1.9362854957580566\n",
            "1 8000 1.399822473526001\n",
            "1 10000 1.374732494354248\n",
            "1 12000 1.2345325946807861\n",
            "1 14000 1.5562185049057007\n"
          ]
        }
      ],
      "source": [
        "from torch.nn.functional import nll_loss, cross_entropy\n",
        "import torch.optim as optim\n",
        "\n",
        "mlp = MLP()\n",
        "print(mlp.parameters)\n",
        "\n",
        "# Optimizer\n",
        "epochs = 2\n",
        "learning_rate = 1e-6\n",
        "optimizer = optim.Adam(mlp.parameters(), lr=learning_rate)\n",
        "\n",
        "# Choice of the loss\n",
        "criterion = cross_entropy # nll_loss\n",
        "\n",
        "losses = []\n",
        "for t in range(epochs):\n",
        "    for i, data in enumerate(trainloader):\n",
        "        inputs, labels = data\n",
        "\n",
        "        # set optimizer to zero grad to remove previous epoch gradients\n",
        "        optimizer.zero_grad()\n",
        "\n",
        "        # Evaluate the loss\n",
        "        # outputs = mlp.forward(inputs)\n",
        "        outputs = mlp(inputs)\n",
        "        # loss = nll_loss(outputs, labels)\n",
        "        loss = criterion(outputs, labels)\n",
        "\n",
        "        # backward propagation\n",
        "        loss.backward()\n",
        "\n",
        "        # One optimization step\n",
        "        optimizer.step()\n",
        "        losses.append(loss.item())\n",
        "\n",
        "        if not i % 2000:\n",
        "            print(t, i, loss.item())"
      ],
      "id": "9549e4dd"
    },
    {
      "cell_type": "markdown",
      "metadata": {
        "id": "62787efd"
      },
      "source": [
        "## Question 5\n",
        "\n",
        "### Inspect the optimization procedure through the loss (plot the loss), what do you observe?"
      ],
      "id": "62787efd"
    },
    {
      "cell_type": "code",
      "execution_count": 134,
      "metadata": {
        "id": "dd5615eb",
        "colab": {
          "base_uri": "https://localhost:8080/",
          "height": 480
        },
        "outputId": "a3ebec68-6b88-4e24-9756-bc9c45ec6938"
      },
      "outputs": [
        {
          "output_type": "display_data",
          "data": {
            "text/plain": [
              "<Figure size 640x480 with 1 Axes>"
            ],
            "image/png": "[encoded data removed]"
          },
          "metadata": {}
        },
        {
          "output_type": "stream",
          "name": "stdout",
          "text": [
            "Final Loss 1.4596428871154785\n"
          ]
        }
      ],
      "source": [
        "plt.plot(losses)\n",
        "plt.xlabel(\"Iterations\", size=20)\n",
        "plt.ylabel(\"Loss values\", size=20)\n",
        "plt.show()\n",
        "print(\"Final Loss\", losses[-1])"
      ],
      "id": "dd5615eb"
    },
    {
      "cell_type": "markdown",
      "source": [
        "We observe very big oscillations of the loss curve. However, the mean of oscillations still gradually decreased."
      ],
      "metadata": {
        "id": "o1jzBnp1E-FQ"
      },
      "id": "o1jzBnp1E-FQ"
    },
    {
      "cell_type": "markdown",
      "metadata": {
        "id": "0e421890"
      },
      "source": [
        "## Question 6\n",
        "\n",
        "### Evaluate the quality of your classifier on the test set"
      ],
      "id": "0e421890"
    },
    {
      "cell_type": "code",
      "execution_count": 135,
      "metadata": {
        "id": "91eddf4d",
        "outputId": "e54198b6-3712-457b-bdef-2af8a08f9b6c",
        "colab": {
          "base_uri": "https://localhost:8080/"
        }
      },
      "outputs": [
        {
          "output_type": "stream",
          "name": "stdout",
          "text": [
            "tensor(0.8036)\n"
          ]
        }
      ],
      "source": [
        "size_test = test_data.data.shape[0]\n",
        "\n",
        "correct = 0\n",
        "for data in testloader:\n",
        "    inputs, labels = data\n",
        "    outputs = mlp(inputs)\n",
        "    loss = criterion(outputs, labels)\n",
        "    predicted = torch.max(outputs.data, 1)[1]\n",
        "    correct += (predicted == labels).sum()\n",
        "\n",
        "final_accuracy =  correct/size_test\n",
        "\n",
        "print(final_accuracy)"
      ],
      "id": "91eddf4d"
    },
    {
      "cell_type": "markdown",
      "metadata": {
        "id": "308cf736"
      },
      "source": [
        "## Question 7 (Bonus)\n",
        "\n",
        "### Repeat this training with different loss (nll/cross_entropy...) and different number of epochs. What do you observe?"
      ],
      "id": "308cf736"
    },
    {
      "cell_type": "code",
      "execution_count": 136,
      "metadata": {
        "id": "6990dc64",
        "colab": {
          "base_uri": "https://localhost:8080/"
        },
        "outputId": "66fd329e-1b9f-4fb5-e8de-dd710a880b52"
      },
      "outputs": [
        {
          "output_type": "stream",
          "name": "stdout",
          "text": [
            "<bound method Module.parameters of MLP(\n",
            "  (linear1): Linear(in_features=784, out_features=256, bias=True)\n",
            "  (linear2): Linear(in_features=256, out_features=10, bias=True)\n",
            ")>\n",
            "0 0 2.2929916381835938\n",
            "0 2000 2.242219924926758\n",
            "0 4000 2.162976026535034\n",
            "0 6000 2.155136823654175\n",
            "0 8000 2.117424964904785\n",
            "0 10000 2.0963990688323975\n",
            "0 12000 2.1271328926086426\n",
            "0 14000 1.6485735177993774\n",
            "1 0 2.01924729347229\n",
            "1 2000 1.658145546913147\n",
            "1 4000 1.6832311153411865\n",
            "1 6000 1.4413007497787476\n",
            "1 8000 1.829797387123108\n",
            "1 10000 1.41432785987854\n",
            "1 12000 1.7112014293670654\n",
            "1 14000 1.3936690092086792\n",
            "2 0 1.5698986053466797\n",
            "2 2000 1.2914341688156128\n",
            "2 4000 1.3988229036331177\n",
            "2 6000 1.6144170761108398\n",
            "2 8000 1.4303820133209229\n",
            "2 10000 1.4383063316345215\n",
            "2 12000 1.2299294471740723\n",
            "2 14000 1.3954195976257324\n",
            "3 0 0.8501061797142029\n",
            "3 2000 1.2734944820404053\n",
            "3 4000 1.2075345516204834\n",
            "3 6000 1.5850350856781006\n",
            "3 8000 1.1390817165374756\n",
            "3 10000 0.5806649327278137\n",
            "3 12000 1.0321698188781738\n",
            "3 14000 0.6645190119743347\n",
            "4 0 0.8697581887245178\n",
            "4 2000 0.6494309306144714\n",
            "4 4000 0.7224462628364563\n",
            "4 6000 0.9332459568977356\n",
            "4 8000 0.6368740200996399\n",
            "4 10000 0.908661961555481\n",
            "4 12000 1.3650281429290771\n",
            "4 14000 0.5674509406089783\n",
            "5 0 0.8274182677268982\n",
            "5 2000 0.824859619140625\n",
            "5 4000 0.3404945135116577\n",
            "5 6000 0.9496150016784668\n",
            "5 8000 0.9552278518676758\n",
            "5 10000 0.29504266381263733\n",
            "5 12000 0.7455962896347046\n",
            "5 14000 0.5086973309516907\n",
            "6 0 1.134418249130249\n",
            "6 2000 0.48382827639579773\n",
            "6 4000 0.546810507774353\n",
            "6 6000 0.3138848841190338\n",
            "6 8000 0.5934807062149048\n",
            "6 10000 0.5665852427482605\n",
            "6 12000 0.20805801451206207\n",
            "6 14000 0.5722375512123108\n",
            "7 0 1.450899600982666\n",
            "7 2000 1.0823084115982056\n",
            "7 4000 0.7214980721473694\n",
            "7 6000 0.43887248635292053\n",
            "7 8000 0.30435895919799805\n",
            "7 10000 1.1224278211593628\n",
            "7 12000 0.13146691024303436\n",
            "7 14000 0.6614435315132141\n",
            "8 0 0.7937183380126953\n",
            "8 2000 0.9055109620094299\n",
            "8 4000 0.8687440156936646\n",
            "8 6000 0.3815995156764984\n",
            "8 8000 0.3085371255874634\n",
            "8 10000 0.33800309896469116\n",
            "8 12000 0.4471696615219116\n",
            "8 14000 0.5679065585136414\n",
            "9 0 0.6948323845863342\n",
            "9 2000 0.23543137311935425\n",
            "9 4000 0.6382108926773071\n",
            "9 6000 0.8386870622634888\n",
            "9 8000 0.37601280212402344\n",
            "9 10000 0.9784986972808838\n",
            "9 12000 0.30143672227859497\n",
            "9 14000 0.3202832043170929\n"
          ]
        }
      ],
      "source": [
        "mlp = MLP()\n",
        "print(mlp.parameters)\n",
        "\n",
        "# Optimizer\n",
        "epochs = 10\n",
        "learning_rate = 1e-6\n",
        "optimizer = optim.Adam(mlp.parameters(), lr=learning_rate)\n",
        "\n",
        "# Choice of the loss\n",
        "criterion = nn.CrossEntropyLoss() # nll_loss\n",
        "\n",
        "losses = []\n",
        "for t in range(epochs):\n",
        "    for i, data in enumerate(trainloader):\n",
        "        inputs, labels = data\n",
        "\n",
        "        # set optimizer to zero grad to remove previous epoch gradients\n",
        "        optimizer.zero_grad()\n",
        "\n",
        "        # Evaluate the loss\n",
        "        # outputs = mlp.forward(inputs)\n",
        "        outputs = mlp(inputs)\n",
        "        # loss = nll_loss(outputs, labels)\n",
        "        loss = criterion(outputs, labels)\n",
        "\n",
        "        # backward propagation\n",
        "        loss.backward()\n",
        "\n",
        "        # One optimization step\n",
        "        optimizer.step()\n",
        "        losses.append(loss.item())\n",
        "\n",
        "        if not i % 2000:\n",
        "            print(t, i, loss.item())"
      ],
      "id": "6990dc64"
    },
    {
      "cell_type": "code",
      "source": [
        "plt.plot(losses)\n",
        "plt.xlabel(\"Iterations\", size=20)\n",
        "plt.ylabel(\"Loss values\", size=20)\n",
        "plt.show()\n",
        "print(\"Final Loss\", losses[-1])"
      ],
      "metadata": {
        "colab": {
          "base_uri": "https://localhost:8080/",
          "height": 481
        },
        "id": "I5IiiGBmi74T",
        "outputId": "c4eee239-9500-48d6-f2d1-b46310cd38ec"
      },
      "id": "I5IiiGBmi74T",
      "execution_count": 137,
      "outputs": [
        {
          "output_type": "display_data",
          "data": {
            "text/plain": [
              "<Figure size 640x480 with 1 Axes>"
            ],
            "image/png": "[encoded data removed]"
          },
          "metadata": {}
        },
        {
          "output_type": "stream",
          "name": "stdout",
          "text": [
            "Final Loss 0.8601624965667725\n"
          ]
        }
      ]
    },
    {
      "cell_type": "code",
      "source": [
        "size_test = test_data.data.shape[0]\n",
        "\n",
        "correct = 0\n",
        "for data in testloader:\n",
        "    inputs, labels = data\n",
        "    outputs = mlp(inputs)\n",
        "    loss = criterion(outputs, labels)\n",
        "    predicted = torch.max(outputs.data, 1)[1]\n",
        "    correct += (predicted == labels).sum()\n",
        "\n",
        "final_accuracy =  correct/size_test\n",
        "\n",
        "print(final_accuracy)"
      ],
      "metadata": {
        "colab": {
          "base_uri": "https://localhost:8080/"
        },
        "id": "Lg0L2mHWpF-2",
        "outputId": "e33835a5-ad68-4178-82d0-21da746a5c1e"
      },
      "id": "Lg0L2mHWpF-2",
      "execution_count": 138,
      "outputs": [
        {
          "output_type": "stream",
          "name": "stdout",
          "text": [
            "tensor(0.8843)\n"
          ]
        }
      ]
    },
    {
      "cell_type": "markdown",
      "source": [
        "With bigger number of epochs accuracy improved by 8%. But still curve oscilates a lot."
      ],
      "metadata": {
        "id": "lNQZ3hEpqCei"
      },
      "id": "lNQZ3hEpqCei"
    }
  ],
  "metadata": {
    "colab": {
      "provenance": []
    },
    "kernelspec": {
      "display_name": "Python 3 (ipykernel)",
      "language": "python",
      "name": "python3"
    },
    "language_info": {
      "codemirror_mode": {
        "name": "ipython",
        "version": 3
      },
      "file_extension": ".py",
      "mimetype": "text/x-python",
      "name": "python",
      "nbconvert_exporter": "python",
      "pygments_lexer": "ipython3",
      "version": "3.9.12"
    }
  },
  "nbformat": 4,
  "nbformat_minor": 5
}