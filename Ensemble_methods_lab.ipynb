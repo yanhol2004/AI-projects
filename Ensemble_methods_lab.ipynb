{
  "cells": [
    {
      "cell_type": "markdown",
      "metadata": {
        "id": "cbUyXgwtQzGx"
      },
      "source": [
        "# Lab 4 - Ensemble methods\n",
        "### Analysis of the data set [accidents de voiture en 2021](https://www.data.gouv.fr/fr/datasets/bases-de-donnees-annuelles-des-accidents-corporels-de-la-circulation-routiere-annees-de-2005-a-2021/) on *data.gouv.fr*"
      ]
    },
    {
      "cell_type": "markdown",
      "metadata": {
        "id": "T3PgUkVkQzGz"
      },
      "source": [
        "We are going to work on three files resulting from a small cleaning of the car accident database for 2021.\n",
        "\n",
        "carac_accidents_2021.csv : accidents data   \n",
        "vehicules_2021.csv : vehicle data   \n",
        "usagers_2021.csv : victims data\n",
        "\n",
        "The aim is first to perform some exploratory data analysis (EDA), and then to predict the severity of an accident, based on features (type of vehicle, luminosity, speed, etc.)\n",
        "\n",
        "You should provide answers to the questions marked with the symbol ⏩"
      ]
    },
    {
      "cell_type": "code",
      "execution_count": 2,
      "metadata": {
        "id": "CrtQRyX7QzGz"
      },
      "outputs": [],
      "source": [
        "import numpy as np\n",
        "import matplotlib.pyplot as plt\n",
        "import pandas as pd\n",
        "import sklearn as sk\n",
        "import seaborn as sns"
      ]
    },
    {
      "cell_type": "code",
      "source": [
        "filename = 'accident'\n",
        "\n",
        "from urllib.request import urlretrieve\n",
        "urlretrieve(\"https://bianchi.wp.imt.fr/files/2023/12/accident.zip\", filename + '.zip')\n",
        "\n",
        "import os\n",
        "zip_file = os.path.join(os.getcwd(), filename + '.zip')\n",
        "\n",
        "import zipfile\n",
        "with zipfile.ZipFile(zip_file, 'r') as zip_ref:\n",
        "    zip_ref.extractall(os.getcwd())"
      ],
      "metadata": {
        "id": "1YEyxWHSE5X0"
      },
      "execution_count": 3,
      "outputs": []
    },
    {
      "cell_type": "markdown",
      "metadata": {
        "id": "aJsq1229QzG0"
      },
      "source": [
        "## Loading Data, Merging into a Single DataFrame, and Cleanups"
      ]
    },
    {
      "cell_type": "code",
      "execution_count": 4,
      "metadata": {
        "id": "NLzME2kFQzG0",
        "colab": {
          "base_uri": "https://localhost:8080/",
          "height": 204
        },
        "outputId": "4ce8183c-fde3-41b9-e977-4ad14fec066d"
      },
      "outputs": [
        {
          "output_type": "execute_result",
          "data": {
            "text/plain": [
              "            Num_Acc  jour  mois    an   hrmn  lum dep  agg  int  atm  col  \\\n",
              "56513  202100056514     1     1  2021  06:10    3  33    1    1    5    6   \n",
              "56514  202100056515     1     1  2021  10:20    1  38    1    1    2    6   \n",
              "56515  202100056516     1     1  2021  18:00    3  26    1    1    2    1   \n",
              "56516  202100056517     1     1  2021  10:55    1  33    1    2    1    6   \n",
              "56517  202100056518     2     1  2021  18:00    3  78    1    1    3    1   \n",
              "\n",
              "                 lat            long  catr  circ  nbv  prof  surf  vma  \n",
              "56513  44,5266190000   -0,1955440000     1     3    4     2     2  130  \n",
              "56514  45,3802910000    5,7049140000     3     2    2     1     5   80  \n",
              "56515  44,9112100000    5,0196360000     3     2    2     2     2   80  \n",
              "56516  44,9542747363   -0,5179211363     4     2    2     1     2   80  \n",
              "56517  48,7966700000    2,0505000000     3     2    2     1     2   70  "
            ],
            "text/html": [
              "\n",
              "  <div id=\"df-7be04b68-d8f2-479d-8f91-beccd257482c\" class=\"colab-df-container\">\n",
              "    <div>\n",
              "<style scoped>\n",
              "    .dataframe tbody tr th:only-of-type {\n",
              "        vertical-align: middle;\n",
              "    }\n",
              "\n",
              "    .dataframe tbody tr th {\n",
              "        vertical-align: top;\n",
              "    }\n",
              "\n",
              "    .dataframe thead th {\n",
              "        text-align: right;\n",
              "    }\n",
              "</style>\n",
              "<table border=\"1\" class=\"dataframe\">\n",
              "  <thead>\n",
              "    <tr style=\"text-align: right;\">\n",
              "      <th></th>\n",
              "      <th>Num_Acc</th>\n",
              "      <th>jour</th>\n",
              "      <th>mois</th>\n",
              "      <th>an</th>\n",
              "      <th>hrmn</th>\n",
              "      <th>lum</th>\n",
              "      <th>dep</th>\n",
              "      <th>agg</th>\n",
              "      <th>int</th>\n",
              "      <th>atm</th>\n",
              "      <th>col</th>\n",
              "      <th>lat</th>\n",
              "      <th>long</th>\n",
              "      <th>catr</th>\n",
              "      <th>circ</th>\n",
              "      <th>nbv</th>\n",
              "      <th>prof</th>\n",
              "      <th>surf</th>\n",
              "      <th>vma</th>\n",
              "    </tr>\n",
              "  </thead>\n",
              "  <tbody>\n",
              "    <tr>\n",
              "      <th>56513</th>\n",
              "      <td>202100056514</td>\n",
              "      <td>1</td>\n",
              "      <td>1</td>\n",
              "      <td>2021</td>\n",
              "      <td>06:10</td>\n",
              "      <td>3</td>\n",
              "      <td>33</td>\n",
              "      <td>1</td>\n",
              "      <td>1</td>\n",
              "      <td>5</td>\n",
              "      <td>6</td>\n",
              "      <td>44,5266190000</td>\n",
              "      <td>-0,1955440000</td>\n",
              "      <td>1</td>\n",
              "      <td>3</td>\n",
              "      <td>4</td>\n",
              "      <td>2</td>\n",
              "      <td>2</td>\n",
              "      <td>130</td>\n",
              "    </tr>\n",
              "    <tr>\n",
              "      <th>56514</th>\n",
              "      <td>202100056515</td>\n",
              "      <td>1</td>\n",
              "      <td>1</td>\n",
              "      <td>2021</td>\n",
              "      <td>10:20</td>\n",
              "      <td>1</td>\n",
              "      <td>38</td>\n",
              "      <td>1</td>\n",
              "      <td>1</td>\n",
              "      <td>2</td>\n",
              "      <td>6</td>\n",
              "      <td>45,3802910000</td>\n",
              "      <td>5,7049140000</td>\n",
              "      <td>3</td>\n",
              "      <td>2</td>\n",
              "      <td>2</td>\n",
              "      <td>1</td>\n",
              "      <td>5</td>\n",
              "      <td>80</td>\n",
              "    </tr>\n",
              "    <tr>\n",
              "      <th>56515</th>\n",
              "      <td>202100056516</td>\n",
              "      <td>1</td>\n",
              "      <td>1</td>\n",
              "      <td>2021</td>\n",
              "      <td>18:00</td>\n",
              "      <td>3</td>\n",
              "      <td>26</td>\n",
              "      <td>1</td>\n",
              "      <td>1</td>\n",
              "      <td>2</td>\n",
              "      <td>1</td>\n",
              "      <td>44,9112100000</td>\n",
              "      <td>5,0196360000</td>\n",
              "      <td>3</td>\n",
              "      <td>2</td>\n",
              "      <td>2</td>\n",
              "      <td>2</td>\n",
              "      <td>2</td>\n",
              "      <td>80</td>\n",
              "    </tr>\n",
              "    <tr>\n",
              "      <th>56516</th>\n",
              "      <td>202100056517</td>\n",
              "      <td>1</td>\n",
              "      <td>1</td>\n",
              "      <td>2021</td>\n",
              "      <td>10:55</td>\n",
              "      <td>1</td>\n",
              "      <td>33</td>\n",
              "      <td>1</td>\n",
              "      <td>2</td>\n",
              "      <td>1</td>\n",
              "      <td>6</td>\n",
              "      <td>44,9542747363</td>\n",
              "      <td>-0,5179211363</td>\n",
              "      <td>4</td>\n",
              "      <td>2</td>\n",
              "      <td>2</td>\n",
              "      <td>1</td>\n",
              "      <td>2</td>\n",
              "      <td>80</td>\n",
              "    </tr>\n",
              "    <tr>\n",
              "      <th>56517</th>\n",
              "      <td>202100056518</td>\n",
              "      <td>2</td>\n",
              "      <td>1</td>\n",
              "      <td>2021</td>\n",
              "      <td>18:00</td>\n",
              "      <td>3</td>\n",
              "      <td>78</td>\n",
              "      <td>1</td>\n",
              "      <td>1</td>\n",
              "      <td>3</td>\n",
              "      <td>1</td>\n",
              "      <td>48,7966700000</td>\n",
              "      <td>2,0505000000</td>\n",
              "      <td>3</td>\n",
              "      <td>2</td>\n",
              "      <td>2</td>\n",
              "      <td>1</td>\n",
              "      <td>2</td>\n",
              "      <td>70</td>\n",
              "    </tr>\n",
              "  </tbody>\n",
              "</table>\n",
              "</div>\n",
              "    <div class=\"colab-df-buttons\">\n",
              "\n",
              "  <div class=\"colab-df-container\">\n",
              "    <button class=\"colab-df-convert\" onclick=\"convertToInteractive('df-7be04b68-d8f2-479d-8f91-beccd257482c')\"\n",
              "            title=\"Convert this dataframe to an interactive table.\"\n",
              "            style=\"display:none;\">\n",
              "\n",
              "  <svg xmlns=\"http://www.w3.org/2000/svg\" height=\"24px\" viewBox=\"0 -960 960 960\">\n",
              "    <path d=\"M120-120v-720h720v720H120Zm60-500h600v-160H180v160Zm220 220h160v-160H400v160Zm0 220h160v-160H400v160ZM180-400h160v-160H180v160Zm440 0h160v-160H620v160ZM180-180h160v-160H180v160Zm440 0h160v-160H620v160Z\"/>\n",
              "  </svg>\n",
              "    </button>\n",
              "\n",
              "  <style>\n",
              "    .colab-df-container {\n",
              "      display:flex;\n",
              "      gap: 12px;\n",
              "    }\n",
              "\n",
              "    .colab-df-convert {\n",
              "      background-color: #E8F0FE;\n",
              "      border: none;\n",
              "      border-radius: 50%;\n",
              "      cursor: pointer;\n",
              "      display: none;\n",
              "      fill: #1967D2;\n",
              "      height: 32px;\n",
              "      padding: 0 0 0 0;\n",
              "      width: 32px;\n",
              "    }\n",
              "\n",
              "    .colab-df-convert:hover {\n",
              "      background-color: #E2EBFA;\n",
              "      box-shadow: 0px 1px 2px rgba(60, 64, 67, 0.3), 0px 1px 3px 1px rgba(60, 64, 67, 0.15);\n",
              "      fill: #174EA6;\n",
              "    }\n",
              "\n",
              "    .colab-df-buttons div {\n",
              "      margin-bottom: 4px;\n",
              "    }\n",
              "\n",
              "    [theme=dark] .colab-df-convert {\n",
              "      background-color: #3B4455;\n",
              "      fill: #D2E3FC;\n",
              "    }\n",
              "\n",
              "    [theme=dark] .colab-df-convert:hover {\n",
              "      background-color: #434B5C;\n",
              "      box-shadow: 0px 1px 3px 1px rgba(0, 0, 0, 0.15);\n",
              "      filter: drop-shadow(0px 1px 2px rgba(0, 0, 0, 0.3));\n",
              "      fill: #FFFFFF;\n",
              "    }\n",
              "  </style>\n",
              "\n",
              "    <script>\n",
              "      const buttonEl =\n",
              "        document.querySelector('#df-7be04b68-d8f2-479d-8f91-beccd257482c button.colab-df-convert');\n",
              "      buttonEl.style.display =\n",
              "        google.colab.kernel.accessAllowed ? 'block' : 'none';\n",
              "\n",
              "      async function convertToInteractive(key) {\n",
              "        const element = document.querySelector('#df-7be04b68-d8f2-479d-8f91-beccd257482c');\n",
              "        const dataTable =\n",
              "          await google.colab.kernel.invokeFunction('convertToInteractive',\n",
              "                                                    [key], {});\n",
              "        if (!dataTable) return;\n",
              "\n",
              "        const docLinkHtml = 'Like what you see? Visit the ' +\n",
              "          '<a target=\"_blank\" href=https://colab.research.google.com/notebooks/data_table.ipynb>data table notebook</a>'\n",
              "          + ' to learn more about interactive tables.';\n",
              "        element.innerHTML = '';\n",
              "        dataTable['output_type'] = 'display_data';\n",
              "        await google.colab.output.renderOutput(dataTable, element);\n",
              "        const docLink = document.createElement('div');\n",
              "        docLink.innerHTML = docLinkHtml;\n",
              "        element.appendChild(docLink);\n",
              "      }\n",
              "    </script>\n",
              "  </div>\n",
              "\n",
              "\n",
              "<div id=\"df-9b00c3af-515b-486b-b600-49cb64193719\">\n",
              "  <button class=\"colab-df-quickchart\" onclick=\"quickchart('df-9b00c3af-515b-486b-b600-49cb64193719')\"\n",
              "            title=\"Suggest charts\"\n",
              "            style=\"display:none;\">\n",
              "\n",
              "<svg xmlns=\"http://www.w3.org/2000/svg\" height=\"24px\"viewBox=\"0 0 24 24\"\n",
              "     width=\"24px\">\n",
              "    <g>\n",
              "        <path d=\"M19 3H5c-1.1 0-2 .9-2 2v14c0 1.1.9 2 2 2h14c1.1 0 2-.9 2-2V5c0-1.1-.9-2-2-2zM9 17H7v-7h2v7zm4 0h-2V7h2v10zm4 0h-2v-4h2v4z\"/>\n",
              "    </g>\n",
              "</svg>\n",
              "  </button>\n",
              "\n",
              "<style>\n",
              "  .colab-df-quickchart {\n",
              "      --bg-color: #E8F0FE;\n",
              "      --fill-color: #1967D2;\n",
              "      --hover-bg-color: #E2EBFA;\n",
              "      --hover-fill-color: #174EA6;\n",
              "      --disabled-fill-color: #AAA;\n",
              "      --disabled-bg-color: #DDD;\n",
              "  }\n",
              "\n",
              "  [theme=dark] .colab-df-quickchart {\n",
              "      --bg-color: #3B4455;\n",
              "      --fill-color: #D2E3FC;\n",
              "      --hover-bg-color: #434B5C;\n",
              "      --hover-fill-color: #FFFFFF;\n",
              "      --disabled-bg-color: #3B4455;\n",
              "      --disabled-fill-color: #666;\n",
              "  }\n",
              "\n",
              "  .colab-df-quickchart {\n",
              "    background-color: var(--bg-color);\n",
              "    border: none;\n",
              "    border-radius: 50%;\n",
              "    cursor: pointer;\n",
              "    display: none;\n",
              "    fill: var(--fill-color);\n",
              "    height: 32px;\n",
              "    padding: 0;\n",
              "    width: 32px;\n",
              "  }\n",
              "\n",
              "  .colab-df-quickchart:hover {\n",
              "    background-color: var(--hover-bg-color);\n",
              "    box-shadow: 0 1px 2px rgba(60, 64, 67, 0.3), 0 1px 3px 1px rgba(60, 64, 67, 0.15);\n",
              "    fill: var(--button-hover-fill-color);\n",
              "  }\n",
              "\n",
              "  .colab-df-quickchart-complete:disabled,\n",
              "  .colab-df-quickchart-complete:disabled:hover {\n",
              "    background-color: var(--disabled-bg-color);\n",
              "    fill: var(--disabled-fill-color);\n",
              "    box-shadow: none;\n",
              "  }\n",
              "\n",
              "  .colab-df-spinner {\n",
              "    border: 2px solid var(--fill-color);\n",
              "    border-color: transparent;\n",
              "    border-bottom-color: var(--fill-color);\n",
              "    animation:\n",
              "      spin 1s steps(1) infinite;\n",
              "  }\n",
              "\n",
              "  @keyframes spin {\n",
              "    0% {\n",
              "      border-color: transparent;\n",
              "      border-bottom-color: var(--fill-color);\n",
              "      border-left-color: var(--fill-color);\n",
              "    }\n",
              "    20% {\n",
              "      border-color: transparent;\n",
              "      border-left-color: var(--fill-color);\n",
              "      border-top-color: var(--fill-color);\n",
              "    }\n",
              "    30% {\n",
              "      border-color: transparent;\n",
              "      border-left-color: var(--fill-color);\n",
              "      border-top-color: var(--fill-color);\n",
              "      border-right-color: var(--fill-color);\n",
              "    }\n",
              "    40% {\n",
              "      border-color: transparent;\n",
              "      border-right-color: var(--fill-color);\n",
              "      border-top-color: var(--fill-color);\n",
              "    }\n",
              "    60% {\n",
              "      border-color: transparent;\n",
              "      border-right-color: var(--fill-color);\n",
              "    }\n",
              "    80% {\n",
              "      border-color: transparent;\n",
              "      border-right-color: var(--fill-color);\n",
              "      border-bottom-color: var(--fill-color);\n",
              "    }\n",
              "    90% {\n",
              "      border-color: transparent;\n",
              "      border-bottom-color: var(--fill-color);\n",
              "    }\n",
              "  }\n",
              "</style>\n",
              "\n",
              "  <script>\n",
              "    async function quickchart(key) {\n",
              "      const quickchartButtonEl =\n",
              "        document.querySelector('#' + key + ' button');\n",
              "      quickchartButtonEl.disabled = true;  // To prevent multiple clicks.\n",
              "      quickchartButtonEl.classList.add('colab-df-spinner');\n",
              "      try {\n",
              "        const charts = await google.colab.kernel.invokeFunction(\n",
              "            'suggestCharts', [key], {});\n",
              "      } catch (error) {\n",
              "        console.error('Error during call to suggestCharts:', error);\n",
              "      }\n",
              "      quickchartButtonEl.classList.remove('colab-df-spinner');\n",
              "      quickchartButtonEl.classList.add('colab-df-quickchart-complete');\n",
              "    }\n",
              "    (() => {\n",
              "      let quickchartButtonEl =\n",
              "        document.querySelector('#df-9b00c3af-515b-486b-b600-49cb64193719 button');\n",
              "      quickchartButtonEl.style.display =\n",
              "        google.colab.kernel.accessAllowed ? 'block' : 'none';\n",
              "    })();\n",
              "  </script>\n",
              "</div>\n",
              "    </div>\n",
              "  </div>\n"
            ],
            "application/vnd.google.colaboratory.intrinsic+json": {
              "type": "dataframe",
              "repr_error": "0"
            }
          },
          "metadata": {},
          "execution_count": 4
        }
      ],
      "source": [
        "carac=pd.read_csv(\"carac_accidents_2021.csv\")\n",
        "carac.tail()"
      ]
    },
    {
      "cell_type": "code",
      "execution_count": 5,
      "metadata": {
        "id": "MOXUGvWJQzG1",
        "colab": {
          "base_uri": "https://localhost:8080/",
          "height": 204
        },
        "outputId": "ff0a194e-c32b-4b86-fe80-0ed7ec3baafc"
      },
      "outputs": [
        {
          "output_type": "execute_result",
          "data": {
            "text/plain": [
              "            Num_Acc id_vehicule  catv  obs  obsm  motor  occutc\n",
              "97310  202100056516     100 885     7    0     2      1     NaN\n",
              "97311  202100056516     100 886     7    0     2      1     NaN\n",
              "97312  202100056517     100 884     7    6     0      1     NaN\n",
              "97313  202100056518     100 882     7    0     2      1     NaN\n",
              "97314  202100056518     100 883     7    0     2      1     NaN"
            ],
            "text/html": [
              "\n",
              "  <div id=\"df-b9a27cf5-31f1-4a4e-be5b-bce6698b94a5\" class=\"colab-df-container\">\n",
              "    <div>\n",
              "<style scoped>\n",
              "    .dataframe tbody tr th:only-of-type {\n",
              "        vertical-align: middle;\n",
              "    }\n",
              "\n",
              "    .dataframe tbody tr th {\n",
              "        vertical-align: top;\n",
              "    }\n",
              "\n",
              "    .dataframe thead th {\n",
              "        text-align: right;\n",
              "    }\n",
              "</style>\n",
              "<table border=\"1\" class=\"dataframe\">\n",
              "  <thead>\n",
              "    <tr style=\"text-align: right;\">\n",
              "      <th></th>\n",
              "      <th>Num_Acc</th>\n",
              "      <th>id_vehicule</th>\n",
              "      <th>catv</th>\n",
              "      <th>obs</th>\n",
              "      <th>obsm</th>\n",
              "      <th>motor</th>\n",
              "      <th>occutc</th>\n",
              "    </tr>\n",
              "  </thead>\n",
              "  <tbody>\n",
              "    <tr>\n",
              "      <th>97310</th>\n",
              "      <td>202100056516</td>\n",
              "      <td>100 885</td>\n",
              "      <td>7</td>\n",
              "      <td>0</td>\n",
              "      <td>2</td>\n",
              "      <td>1</td>\n",
              "      <td>NaN</td>\n",
              "    </tr>\n",
              "    <tr>\n",
              "      <th>97311</th>\n",
              "      <td>202100056516</td>\n",
              "      <td>100 886</td>\n",
              "      <td>7</td>\n",
              "      <td>0</td>\n",
              "      <td>2</td>\n",
              "      <td>1</td>\n",
              "      <td>NaN</td>\n",
              "    </tr>\n",
              "    <tr>\n",
              "      <th>97312</th>\n",
              "      <td>202100056517</td>\n",
              "      <td>100 884</td>\n",
              "      <td>7</td>\n",
              "      <td>6</td>\n",
              "      <td>0</td>\n",
              "      <td>1</td>\n",
              "      <td>NaN</td>\n",
              "    </tr>\n",
              "    <tr>\n",
              "      <th>97313</th>\n",
              "      <td>202100056518</td>\n",
              "      <td>100 882</td>\n",
              "      <td>7</td>\n",
              "      <td>0</td>\n",
              "      <td>2</td>\n",
              "      <td>1</td>\n",
              "      <td>NaN</td>\n",
              "    </tr>\n",
              "    <tr>\n",
              "      <th>97314</th>\n",
              "      <td>202100056518</td>\n",
              "      <td>100 883</td>\n",
              "      <td>7</td>\n",
              "      <td>0</td>\n",
              "      <td>2</td>\n",
              "      <td>1</td>\n",
              "      <td>NaN</td>\n",
              "    </tr>\n",
              "  </tbody>\n",
              "</table>\n",
              "</div>\n",
              "    <div class=\"colab-df-buttons\">\n",
              "\n",
              "  <div class=\"colab-df-container\">\n",
              "    <button class=\"colab-df-convert\" onclick=\"convertToInteractive('df-b9a27cf5-31f1-4a4e-be5b-bce6698b94a5')\"\n",
              "            title=\"Convert this dataframe to an interactive table.\"\n",
              "            style=\"display:none;\">\n",
              "\n",
              "  <svg xmlns=\"http://www.w3.org/2000/svg\" height=\"24px\" viewBox=\"0 -960 960 960\">\n",
              "    <path d=\"M120-120v-720h720v720H120Zm60-500h600v-160H180v160Zm220 220h160v-160H400v160Zm0 220h160v-160H400v160ZM180-400h160v-160H180v160Zm440 0h160v-160H620v160ZM180-180h160v-160H180v160Zm440 0h160v-160H620v160Z\"/>\n",
              "  </svg>\n",
              "    </button>\n",
              "\n",
              "  <style>\n",
              "    .colab-df-container {\n",
              "      display:flex;\n",
              "      gap: 12px;\n",
              "    }\n",
              "\n",
              "    .colab-df-convert {\n",
              "      background-color: #E8F0FE;\n",
              "      border: none;\n",
              "      border-radius: 50%;\n",
              "      cursor: pointer;\n",
              "      display: none;\n",
              "      fill: #1967D2;\n",
              "      height: 32px;\n",
              "      padding: 0 0 0 0;\n",
              "      width: 32px;\n",
              "    }\n",
              "\n",
              "    .colab-df-convert:hover {\n",
              "      background-color: #E2EBFA;\n",
              "      box-shadow: 0px 1px 2px rgba(60, 64, 67, 0.3), 0px 1px 3px 1px rgba(60, 64, 67, 0.15);\n",
              "      fill: #174EA6;\n",
              "    }\n",
              "\n",
              "    .colab-df-buttons div {\n",
              "      margin-bottom: 4px;\n",
              "    }\n",
              "\n",
              "    [theme=dark] .colab-df-convert {\n",
              "      background-color: #3B4455;\n",
              "      fill: #D2E3FC;\n",
              "    }\n",
              "\n",
              "    [theme=dark] .colab-df-convert:hover {\n",
              "      background-color: #434B5C;\n",
              "      box-shadow: 0px 1px 3px 1px rgba(0, 0, 0, 0.15);\n",
              "      filter: drop-shadow(0px 1px 2px rgba(0, 0, 0, 0.3));\n",
              "      fill: #FFFFFF;\n",
              "    }\n",
              "  </style>\n",
              "\n",
              "    <script>\n",
              "      const buttonEl =\n",
              "        document.querySelector('#df-b9a27cf5-31f1-4a4e-be5b-bce6698b94a5 button.colab-df-convert');\n",
              "      buttonEl.style.display =\n",
              "        google.colab.kernel.accessAllowed ? 'block' : 'none';\n",
              "\n",
              "      async function convertToInteractive(key) {\n",
              "        const element = document.querySelector('#df-b9a27cf5-31f1-4a4e-be5b-bce6698b94a5');\n",
              "        const dataTable =\n",
              "          await google.colab.kernel.invokeFunction('convertToInteractive',\n",
              "                                                    [key], {});\n",
              "        if (!dataTable) return;\n",
              "\n",
              "        const docLinkHtml = 'Like what you see? Visit the ' +\n",
              "          '<a target=\"_blank\" href=https://colab.research.google.com/notebooks/data_table.ipynb>data table notebook</a>'\n",
              "          + ' to learn more about interactive tables.';\n",
              "        element.innerHTML = '';\n",
              "        dataTable['output_type'] = 'display_data';\n",
              "        await google.colab.output.renderOutput(dataTable, element);\n",
              "        const docLink = document.createElement('div');\n",
              "        docLink.innerHTML = docLinkHtml;\n",
              "        element.appendChild(docLink);\n",
              "      }\n",
              "    </script>\n",
              "  </div>\n",
              "\n",
              "\n",
              "<div id=\"df-4047937d-6c3b-40d0-a9ca-be8295bd5ae3\">\n",
              "  <button class=\"colab-df-quickchart\" onclick=\"quickchart('df-4047937d-6c3b-40d0-a9ca-be8295bd5ae3')\"\n",
              "            title=\"Suggest charts\"\n",
              "            style=\"display:none;\">\n",
              "\n",
              "<svg xmlns=\"http://www.w3.org/2000/svg\" height=\"24px\"viewBox=\"0 0 24 24\"\n",
              "     width=\"24px\">\n",
              "    <g>\n",
              "        <path d=\"M19 3H5c-1.1 0-2 .9-2 2v14c0 1.1.9 2 2 2h14c1.1 0 2-.9 2-2V5c0-1.1-.9-2-2-2zM9 17H7v-7h2v7zm4 0h-2V7h2v10zm4 0h-2v-4h2v4z\"/>\n",
              "    </g>\n",
              "</svg>\n",
              "  </button>\n",
              "\n",
              "<style>\n",
              "  .colab-df-quickchart {\n",
              "      --bg-color: #E8F0FE;\n",
              "      --fill-color: #1967D2;\n",
              "      --hover-bg-color: #E2EBFA;\n",
              "      --hover-fill-color: #174EA6;\n",
              "      --disabled-fill-color: #AAA;\n",
              "      --disabled-bg-color: #DDD;\n",
              "  }\n",
              "\n",
              "  [theme=dark] .colab-df-quickchart {\n",
              "      --bg-color: #3B4455;\n",
              "      --fill-color: #D2E3FC;\n",
              "      --hover-bg-color: #434B5C;\n",
              "      --hover-fill-color: #FFFFFF;\n",
              "      --disabled-bg-color: #3B4455;\n",
              "      --disabled-fill-color: #666;\n",
              "  }\n",
              "\n",
              "  .colab-df-quickchart {\n",
              "    background-color: var(--bg-color);\n",
              "    border: none;\n",
              "    border-radius: 50%;\n",
              "    cursor: pointer;\n",
              "    display: none;\n",
              "    fill: var(--fill-color);\n",
              "    height: 32px;\n",
              "    padding: 0;\n",
              "    width: 32px;\n",
              "  }\n",
              "\n",
              "  .colab-df-quickchart:hover {\n",
              "    background-color: var(--hover-bg-color);\n",
              "    box-shadow: 0 1px 2px rgba(60, 64, 67, 0.3), 0 1px 3px 1px rgba(60, 64, 67, 0.15);\n",
              "    fill: var(--button-hover-fill-color);\n",
              "  }\n",
              "\n",
              "  .colab-df-quickchart-complete:disabled,\n",
              "  .colab-df-quickchart-complete:disabled:hover {\n",
              "    background-color: var(--disabled-bg-color);\n",
              "    fill: var(--disabled-fill-color);\n",
              "    box-shadow: none;\n",
              "  }\n",
              "\n",
              "  .colab-df-spinner {\n",
              "    border: 2px solid var(--fill-color);\n",
              "    border-color: transparent;\n",
              "    border-bottom-color: var(--fill-color);\n",
              "    animation:\n",
              "      spin 1s steps(1) infinite;\n",
              "  }\n",
              "\n",
              "  @keyframes spin {\n",
              "    0% {\n",
              "      border-color: transparent;\n",
              "      border-bottom-color: var(--fill-color);\n",
              "      border-left-color: var(--fill-color);\n",
              "    }\n",
              "    20% {\n",
              "      border-color: transparent;\n",
              "      border-left-color: var(--fill-color);\n",
              "      border-top-color: var(--fill-color);\n",
              "    }\n",
              "    30% {\n",
              "      border-color: transparent;\n",
              "      border-left-color: var(--fill-color);\n",
              "      border-top-color: var(--fill-color);\n",
              "      border-right-color: var(--fill-color);\n",
              "    }\n",
              "    40% {\n",
              "      border-color: transparent;\n",
              "      border-right-color: var(--fill-color);\n",
              "      border-top-color: var(--fill-color);\n",
              "    }\n",
              "    60% {\n",
              "      border-color: transparent;\n",
              "      border-right-color: var(--fill-color);\n",
              "    }\n",
              "    80% {\n",
              "      border-color: transparent;\n",
              "      border-right-color: var(--fill-color);\n",
              "      border-bottom-color: var(--fill-color);\n",
              "    }\n",
              "    90% {\n",
              "      border-color: transparent;\n",
              "      border-bottom-color: var(--fill-color);\n",
              "    }\n",
              "  }\n",
              "</style>\n",
              "\n",
              "  <script>\n",
              "    async function quickchart(key) {\n",
              "      const quickchartButtonEl =\n",
              "        document.querySelector('#' + key + ' button');\n",
              "      quickchartButtonEl.disabled = true;  // To prevent multiple clicks.\n",
              "      quickchartButtonEl.classList.add('colab-df-spinner');\n",
              "      try {\n",
              "        const charts = await google.colab.kernel.invokeFunction(\n",
              "            'suggestCharts', [key], {});\n",
              "      } catch (error) {\n",
              "        console.error('Error during call to suggestCharts:', error);\n",
              "      }\n",
              "      quickchartButtonEl.classList.remove('colab-df-spinner');\n",
              "      quickchartButtonEl.classList.add('colab-df-quickchart-complete');\n",
              "    }\n",
              "    (() => {\n",
              "      let quickchartButtonEl =\n",
              "        document.querySelector('#df-4047937d-6c3b-40d0-a9ca-be8295bd5ae3 button');\n",
              "      quickchartButtonEl.style.display =\n",
              "        google.colab.kernel.accessAllowed ? 'block' : 'none';\n",
              "    })();\n",
              "  </script>\n",
              "</div>\n",
              "    </div>\n",
              "  </div>\n"
            ],
            "application/vnd.google.colaboratory.intrinsic+json": {
              "type": "dataframe",
              "summary": "{\n  \"name\": \"vhc\",\n  \"rows\": 5,\n  \"fields\": [\n    {\n      \"column\": \"Num_Acc\",\n      \"properties\": {\n        \"dtype\": \"number\",\n        \"std\": 1,\n        \"min\": 202100056516,\n        \"max\": 202100056518,\n        \"num_unique_values\": 3,\n        \"samples\": [\n          202100056516,\n          202100056517,\n          202100056518\n        ],\n        \"semantic_type\": \"\",\n        \"description\": \"\"\n      }\n    },\n    {\n      \"column\": \"id_vehicule\",\n      \"properties\": {\n        \"dtype\": \"string\",\n        \"num_unique_values\": 5,\n        \"samples\": [\n          \"100\\u00a0886\",\n          \"100\\u00a0883\",\n          \"100\\u00a0884\"\n        ],\n        \"semantic_type\": \"\",\n        \"description\": \"\"\n      }\n    },\n    {\n      \"column\": \"catv\",\n      \"properties\": {\n        \"dtype\": \"number\",\n        \"std\": 0,\n        \"min\": 7,\n        \"max\": 7,\n        \"num_unique_values\": 1,\n        \"samples\": [\n          7\n        ],\n        \"semantic_type\": \"\",\n        \"description\": \"\"\n      }\n    },\n    {\n      \"column\": \"obs\",\n      \"properties\": {\n        \"dtype\": \"number\",\n        \"std\": 2,\n        \"min\": 0,\n        \"max\": 6,\n        \"num_unique_values\": 2,\n        \"samples\": [\n          6\n        ],\n        \"semantic_type\": \"\",\n        \"description\": \"\"\n      }\n    },\n    {\n      \"column\": \"obsm\",\n      \"properties\": {\n        \"dtype\": \"number\",\n        \"std\": 0,\n        \"min\": 0,\n        \"max\": 2,\n        \"num_unique_values\": 2,\n        \"samples\": [\n          0\n        ],\n        \"semantic_type\": \"\",\n        \"description\": \"\"\n      }\n    },\n    {\n      \"column\": \"motor\",\n      \"properties\": {\n        \"dtype\": \"number\",\n        \"std\": 0,\n        \"min\": 1,\n        \"max\": 1,\n        \"num_unique_values\": 1,\n        \"samples\": [\n          1\n        ],\n        \"semantic_type\": \"\",\n        \"description\": \"\"\n      }\n    },\n    {\n      \"column\": \"occutc\",\n      \"properties\": {\n        \"dtype\": \"number\",\n        \"std\": null,\n        \"min\": null,\n        \"max\": null,\n        \"num_unique_values\": 0,\n        \"samples\": [],\n        \"semantic_type\": \"\",\n        \"description\": \"\"\n      }\n    }\n  ]\n}"
            }
          },
          "metadata": {},
          "execution_count": 5
        }
      ],
      "source": [
        "vhc=pd.read_csv(\"vehicules_2021.csv\")\n",
        "vhc.tail()"
      ]
    },
    {
      "cell_type": "code",
      "execution_count": 6,
      "metadata": {
        "id": "z8QTSOTcQzG1",
        "colab": {
          "base_uri": "https://localhost:8080/",
          "height": 204
        },
        "outputId": "d0944f97-b01c-43ba-e97f-c48d90190720"
      },
      "outputs": [
        {
          "output_type": "execute_result",
          "data": {
            "text/plain": [
              "             Num_Acc id_vehicule  place  catu  grav  sexe  an_nais  trajet  \\\n",
              "129148  202100056516     100 885      1     1     4     1   1975.0       0   \n",
              "129149  202100056516     100 886      1     1     4     1   2002.0       5   \n",
              "129150  202100056517     100 884      1     1     3     1   1999.0       0   \n",
              "129151  202100056518     100 882      1     1     3     1   1968.0       3   \n",
              "129152  202100056518     100 883      1     1     3     1   1985.0       3   \n",
              "\n",
              "        secu1  secu2  secu3  locp actp  etatp  \n",
              "129148      1     -1     -1     0    0     -1  \n",
              "129149      1     -1     -1     0    0     -1  \n",
              "129150      0     -1     -1     0    0     -1  \n",
              "129151      1      0     -1    -1   -1     -1  \n",
              "129152      1      0     -1    -1   -1     -1  "
            ],
            "text/html": [
              "\n",
              "  <div id=\"df-75c98f4f-4bdf-4b34-8ba8-e40a5e6d30ec\" class=\"colab-df-container\">\n",
              "    <div>\n",
              "<style scoped>\n",
              "    .dataframe tbody tr th:only-of-type {\n",
              "        vertical-align: middle;\n",
              "    }\n",
              "\n",
              "    .dataframe tbody tr th {\n",
              "        vertical-align: top;\n",
              "    }\n",
              "\n",
              "    .dataframe thead th {\n",
              "        text-align: right;\n",
              "    }\n",
              "</style>\n",
              "<table border=\"1\" class=\"dataframe\">\n",
              "  <thead>\n",
              "    <tr style=\"text-align: right;\">\n",
              "      <th></th>\n",
              "      <th>Num_Acc</th>\n",
              "      <th>id_vehicule</th>\n",
              "      <th>place</th>\n",
              "      <th>catu</th>\n",
              "      <th>grav</th>\n",
              "      <th>sexe</th>\n",
              "      <th>an_nais</th>\n",
              "      <th>trajet</th>\n",
              "      <th>secu1</th>\n",
              "      <th>secu2</th>\n",
              "      <th>secu3</th>\n",
              "      <th>locp</th>\n",
              "      <th>actp</th>\n",
              "      <th>etatp</th>\n",
              "    </tr>\n",
              "  </thead>\n",
              "  <tbody>\n",
              "    <tr>\n",
              "      <th>129148</th>\n",
              "      <td>202100056516</td>\n",
              "      <td>100 885</td>\n",
              "      <td>1</td>\n",
              "      <td>1</td>\n",
              "      <td>4</td>\n",
              "      <td>1</td>\n",
              "      <td>1975.0</td>\n",
              "      <td>0</td>\n",
              "      <td>1</td>\n",
              "      <td>-1</td>\n",
              "      <td>-1</td>\n",
              "      <td>0</td>\n",
              "      <td>0</td>\n",
              "      <td>-1</td>\n",
              "    </tr>\n",
              "    <tr>\n",
              "      <th>129149</th>\n",
              "      <td>202100056516</td>\n",
              "      <td>100 886</td>\n",
              "      <td>1</td>\n",
              "      <td>1</td>\n",
              "      <td>4</td>\n",
              "      <td>1</td>\n",
              "      <td>2002.0</td>\n",
              "      <td>5</td>\n",
              "      <td>1</td>\n",
              "      <td>-1</td>\n",
              "      <td>-1</td>\n",
              "      <td>0</td>\n",
              "      <td>0</td>\n",
              "      <td>-1</td>\n",
              "    </tr>\n",
              "    <tr>\n",
              "      <th>129150</th>\n",
              "      <td>202100056517</td>\n",
              "      <td>100 884</td>\n",
              "      <td>1</td>\n",
              "      <td>1</td>\n",
              "      <td>3</td>\n",
              "      <td>1</td>\n",
              "      <td>1999.0</td>\n",
              "      <td>0</td>\n",
              "      <td>0</td>\n",
              "      <td>-1</td>\n",
              "      <td>-1</td>\n",
              "      <td>0</td>\n",
              "      <td>0</td>\n",
              "      <td>-1</td>\n",
              "    </tr>\n",
              "    <tr>\n",
              "      <th>129151</th>\n",
              "      <td>202100056518</td>\n",
              "      <td>100 882</td>\n",
              "      <td>1</td>\n",
              "      <td>1</td>\n",
              "      <td>3</td>\n",
              "      <td>1</td>\n",
              "      <td>1968.0</td>\n",
              "      <td>3</td>\n",
              "      <td>1</td>\n",
              "      <td>0</td>\n",
              "      <td>-1</td>\n",
              "      <td>-1</td>\n",
              "      <td>-1</td>\n",
              "      <td>-1</td>\n",
              "    </tr>\n",
              "    <tr>\n",
              "      <th>129152</th>\n",
              "      <td>202100056518</td>\n",
              "      <td>100 883</td>\n",
              "      <td>1</td>\n",
              "      <td>1</td>\n",
              "      <td>3</td>\n",
              "      <td>1</td>\n",
              "      <td>1985.0</td>\n",
              "      <td>3</td>\n",
              "      <td>1</td>\n",
              "      <td>0</td>\n",
              "      <td>-1</td>\n",
              "      <td>-1</td>\n",
              "      <td>-1</td>\n",
              "      <td>-1</td>\n",
              "    </tr>\n",
              "  </tbody>\n",
              "</table>\n",
              "</div>\n",
              "    <div class=\"colab-df-buttons\">\n",
              "\n",
              "  <div class=\"colab-df-container\">\n",
              "    <button class=\"colab-df-convert\" onclick=\"convertToInteractive('df-75c98f4f-4bdf-4b34-8ba8-e40a5e6d30ec')\"\n",
              "            title=\"Convert this dataframe to an interactive table.\"\n",
              "            style=\"display:none;\">\n",
              "\n",
              "  <svg xmlns=\"http://www.w3.org/2000/svg\" height=\"24px\" viewBox=\"0 -960 960 960\">\n",
              "    <path d=\"M120-120v-720h720v720H120Zm60-500h600v-160H180v160Zm220 220h160v-160H400v160Zm0 220h160v-160H400v160ZM180-400h160v-160H180v160Zm440 0h160v-160H620v160ZM180-180h160v-160H180v160Zm440 0h160v-160H620v160Z\"/>\n",
              "  </svg>\n",
              "    </button>\n",
              "\n",
              "  <style>\n",
              "    .colab-df-container {\n",
              "      display:flex;\n",
              "      gap: 12px;\n",
              "    }\n",
              "\n",
              "    .colab-df-convert {\n",
              "      background-color: #E8F0FE;\n",
              "      border: none;\n",
              "      border-radius: 50%;\n",
              "      cursor: pointer;\n",
              "      display: none;\n",
              "      fill: #1967D2;\n",
              "      height: 32px;\n",
              "      padding: 0 0 0 0;\n",
              "      width: 32px;\n",
              "    }\n",
              "\n",
              "    .colab-df-convert:hover {\n",
              "      background-color: #E2EBFA;\n",
              "      box-shadow: 0px 1px 2px rgba(60, 64, 67, 0.3), 0px 1px 3px 1px rgba(60, 64, 67, 0.15);\n",
              "      fill: #174EA6;\n",
              "    }\n",
              "\n",
              "    .colab-df-buttons div {\n",
              "      margin-bottom: 4px;\n",
              "    }\n",
              "\n",
              "    [theme=dark] .colab-df-convert {\n",
              "      background-color: #3B4455;\n",
              "      fill: #D2E3FC;\n",
              "    }\n",
              "\n",
              "    [theme=dark] .colab-df-convert:hover {\n",
              "      background-color: #434B5C;\n",
              "      box-shadow: 0px 1px 3px 1px rgba(0, 0, 0, 0.15);\n",
              "      filter: drop-shadow(0px 1px 2px rgba(0, 0, 0, 0.3));\n",
              "      fill: #FFFFFF;\n",
              "    }\n",
              "  </style>\n",
              "\n",
              "    <script>\n",
              "      const buttonEl =\n",
              "        document.querySelector('#df-75c98f4f-4bdf-4b34-8ba8-e40a5e6d30ec button.colab-df-convert');\n",
              "      buttonEl.style.display =\n",
              "        google.colab.kernel.accessAllowed ? 'block' : 'none';\n",
              "\n",
              "      async function convertToInteractive(key) {\n",
              "        const element = document.querySelector('#df-75c98f4f-4bdf-4b34-8ba8-e40a5e6d30ec');\n",
              "        const dataTable =\n",
              "          await google.colab.kernel.invokeFunction('convertToInteractive',\n",
              "                                                    [key], {});\n",
              "        if (!dataTable) return;\n",
              "\n",
              "        const docLinkHtml = 'Like what you see? Visit the ' +\n",
              "          '<a target=\"_blank\" href=https://colab.research.google.com/notebooks/data_table.ipynb>data table notebook</a>'\n",
              "          + ' to learn more about interactive tables.';\n",
              "        element.innerHTML = '';\n",
              "        dataTable['output_type'] = 'display_data';\n",
              "        await google.colab.output.renderOutput(dataTable, element);\n",
              "        const docLink = document.createElement('div');\n",
              "        docLink.innerHTML = docLinkHtml;\n",
              "        element.appendChild(docLink);\n",
              "      }\n",
              "    </script>\n",
              "  </div>\n",
              "\n",
              "\n",
              "<div id=\"df-fbd43038-bcd1-4c37-b989-cb8812147a48\">\n",
              "  <button class=\"colab-df-quickchart\" onclick=\"quickchart('df-fbd43038-bcd1-4c37-b989-cb8812147a48')\"\n",
              "            title=\"Suggest charts\"\n",
              "            style=\"display:none;\">\n",
              "\n",
              "<svg xmlns=\"http://www.w3.org/2000/svg\" height=\"24px\"viewBox=\"0 0 24 24\"\n",
              "     width=\"24px\">\n",
              "    <g>\n",
              "        <path d=\"M19 3H5c-1.1 0-2 .9-2 2v14c0 1.1.9 2 2 2h14c1.1 0 2-.9 2-2V5c0-1.1-.9-2-2-2zM9 17H7v-7h2v7zm4 0h-2V7h2v10zm4 0h-2v-4h2v4z\"/>\n",
              "    </g>\n",
              "</svg>\n",
              "  </button>\n",
              "\n",
              "<style>\n",
              "  .colab-df-quickchart {\n",
              "      --bg-color: #E8F0FE;\n",
              "      --fill-color: #1967D2;\n",
              "      --hover-bg-color: #E2EBFA;\n",
              "      --hover-fill-color: #174EA6;\n",
              "      --disabled-fill-color: #AAA;\n",
              "      --disabled-bg-color: #DDD;\n",
              "  }\n",
              "\n",
              "  [theme=dark] .colab-df-quickchart {\n",
              "      --bg-color: #3B4455;\n",
              "      --fill-color: #D2E3FC;\n",
              "      --hover-bg-color: #434B5C;\n",
              "      --hover-fill-color: #FFFFFF;\n",
              "      --disabled-bg-color: #3B4455;\n",
              "      --disabled-fill-color: #666;\n",
              "  }\n",
              "\n",
              "  .colab-df-quickchart {\n",
              "    background-color: var(--bg-color);\n",
              "    border: none;\n",
              "    border-radius: 50%;\n",
              "    cursor: pointer;\n",
              "    display: none;\n",
              "    fill: var(--fill-color);\n",
              "    height: 32px;\n",
              "    padding: 0;\n",
              "    width: 32px;\n",
              "  }\n",
              "\n",
              "  .colab-df-quickchart:hover {\n",
              "    background-color: var(--hover-bg-color);\n",
              "    box-shadow: 0 1px 2px rgba(60, 64, 67, 0.3), 0 1px 3px 1px rgba(60, 64, 67, 0.15);\n",
              "    fill: var(--button-hover-fill-color);\n",
              "  }\n",
              "\n",
              "  .colab-df-quickchart-complete:disabled,\n",
              "  .colab-df-quickchart-complete:disabled:hover {\n",
              "    background-color: var(--disabled-bg-color);\n",
              "    fill: var(--disabled-fill-color);\n",
              "    box-shadow: none;\n",
              "  }\n",
              "\n",
              "  .colab-df-spinner {\n",
              "    border: 2px solid var(--fill-color);\n",
              "    border-color: transparent;\n",
              "    border-bottom-color: var(--fill-color);\n",
              "    animation:\n",
              "      spin 1s steps(1) infinite;\n",
              "  }\n",
              "\n",
              "  @keyframes spin {\n",
              "    0% {\n",
              "      border-color: transparent;\n",
              "      border-bottom-color: var(--fill-color);\n",
              "      border-left-color: var(--fill-color);\n",
              "    }\n",
              "    20% {\n",
              "      border-color: transparent;\n",
              "      border-left-color: var(--fill-color);\n",
              "      border-top-color: var(--fill-color);\n",
              "    }\n",
              "    30% {\n",
              "      border-color: transparent;\n",
              "      border-left-color: var(--fill-color);\n",
              "      border-top-color: var(--fill-color);\n",
              "      border-right-color: var(--fill-color);\n",
              "    }\n",
              "    40% {\n",
              "      border-color: transparent;\n",
              "      border-right-color: var(--fill-color);\n",
              "      border-top-color: var(--fill-color);\n",
              "    }\n",
              "    60% {\n",
              "      border-color: transparent;\n",
              "      border-right-color: var(--fill-color);\n",
              "    }\n",
              "    80% {\n",
              "      border-color: transparent;\n",
              "      border-right-color: var(--fill-color);\n",
              "      border-bottom-color: var(--fill-color);\n",
              "    }\n",
              "    90% {\n",
              "      border-color: transparent;\n",
              "      border-bottom-color: var(--fill-color);\n",
              "    }\n",
              "  }\n",
              "</style>\n",
              "\n",
              "  <script>\n",
              "    async function quickchart(key) {\n",
              "      const quickchartButtonEl =\n",
              "        document.querySelector('#' + key + ' button');\n",
              "      quickchartButtonEl.disabled = true;  // To prevent multiple clicks.\n",
              "      quickchartButtonEl.classList.add('colab-df-spinner');\n",
              "      try {\n",
              "        const charts = await google.colab.kernel.invokeFunction(\n",
              "            'suggestCharts', [key], {});\n",
              "      } catch (error) {\n",
              "        console.error('Error during call to suggestCharts:', error);\n",
              "      }\n",
              "      quickchartButtonEl.classList.remove('colab-df-spinner');\n",
              "      quickchartButtonEl.classList.add('colab-df-quickchart-complete');\n",
              "    }\n",
              "    (() => {\n",
              "      let quickchartButtonEl =\n",
              "        document.querySelector('#df-fbd43038-bcd1-4c37-b989-cb8812147a48 button');\n",
              "      quickchartButtonEl.style.display =\n",
              "        google.colab.kernel.accessAllowed ? 'block' : 'none';\n",
              "    })();\n",
              "  </script>\n",
              "</div>\n",
              "    </div>\n",
              "  </div>\n"
            ],
            "application/vnd.google.colaboratory.intrinsic+json": {
              "type": "dataframe",
              "summary": "{\n  \"name\": \"usag\",\n  \"rows\": 5,\n  \"fields\": [\n    {\n      \"column\": \"Num_Acc\",\n      \"properties\": {\n        \"dtype\": \"number\",\n        \"std\": 1,\n        \"min\": 202100056516,\n        \"max\": 202100056518,\n        \"num_unique_values\": 3,\n        \"samples\": [\n          202100056516,\n          202100056517,\n          202100056518\n        ],\n        \"semantic_type\": \"\",\n        \"description\": \"\"\n      }\n    },\n    {\n      \"column\": \"id_vehicule\",\n      \"properties\": {\n        \"dtype\": \"string\",\n        \"num_unique_values\": 5,\n        \"samples\": [\n          \"100\\u00a0886\",\n          \"100\\u00a0883\",\n          \"100\\u00a0884\"\n        ],\n        \"semantic_type\": \"\",\n        \"description\": \"\"\n      }\n    },\n    {\n      \"column\": \"place\",\n      \"properties\": {\n        \"dtype\": \"number\",\n        \"std\": 0,\n        \"min\": 1,\n        \"max\": 1,\n        \"num_unique_values\": 1,\n        \"samples\": [\n          1\n        ],\n        \"semantic_type\": \"\",\n        \"description\": \"\"\n      }\n    },\n    {\n      \"column\": \"catu\",\n      \"properties\": {\n        \"dtype\": \"number\",\n        \"std\": 0,\n        \"min\": 1,\n        \"max\": 1,\n        \"num_unique_values\": 1,\n        \"samples\": [\n          1\n        ],\n        \"semantic_type\": \"\",\n        \"description\": \"\"\n      }\n    },\n    {\n      \"column\": \"grav\",\n      \"properties\": {\n        \"dtype\": \"number\",\n        \"std\": 0,\n        \"min\": 3,\n        \"max\": 4,\n        \"num_unique_values\": 2,\n        \"samples\": [\n          3\n        ],\n        \"semantic_type\": \"\",\n        \"description\": \"\"\n      }\n    },\n    {\n      \"column\": \"sexe\",\n      \"properties\": {\n        \"dtype\": \"number\",\n        \"std\": 0,\n        \"min\": 1,\n        \"max\": 1,\n        \"num_unique_values\": 1,\n        \"samples\": [\n          1\n        ],\n        \"semantic_type\": \"\",\n        \"description\": \"\"\n      }\n    },\n    {\n      \"column\": \"an_nais\",\n      \"properties\": {\n        \"dtype\": \"number\",\n        \"std\": 14.75466028073842,\n        \"min\": 1968.0,\n        \"max\": 2002.0,\n        \"num_unique_values\": 5,\n        \"samples\": [\n          2002.0\n        ],\n        \"semantic_type\": \"\",\n        \"description\": \"\"\n      }\n    },\n    {\n      \"column\": \"trajet\",\n      \"properties\": {\n        \"dtype\": \"number\",\n        \"std\": 2,\n        \"min\": 0,\n        \"max\": 5,\n        \"num_unique_values\": 3,\n        \"samples\": [\n          0\n        ],\n        \"semantic_type\": \"\",\n        \"description\": \"\"\n      }\n    },\n    {\n      \"column\": \"secu1\",\n      \"properties\": {\n        \"dtype\": \"number\",\n        \"std\": 0,\n        \"min\": 0,\n        \"max\": 1,\n        \"num_unique_values\": 2,\n        \"samples\": [\n          0\n        ],\n        \"semantic_type\": \"\",\n        \"description\": \"\"\n      }\n    },\n    {\n      \"column\": \"secu2\",\n      \"properties\": {\n        \"dtype\": \"number\",\n        \"std\": 0,\n        \"min\": -1,\n        \"max\": 0,\n        \"num_unique_values\": 2,\n        \"samples\": [\n          0\n        ],\n        \"semantic_type\": \"\",\n        \"description\": \"\"\n      }\n    },\n    {\n      \"column\": \"secu3\",\n      \"properties\": {\n        \"dtype\": \"number\",\n        \"std\": 0,\n        \"min\": -1,\n        \"max\": -1,\n        \"num_unique_values\": 1,\n        \"samples\": [\n          -1\n        ],\n        \"semantic_type\": \"\",\n        \"description\": \"\"\n      }\n    },\n    {\n      \"column\": \"locp\",\n      \"properties\": {\n        \"dtype\": \"number\",\n        \"std\": 0,\n        \"min\": -1,\n        \"max\": 0,\n        \"num_unique_values\": 2,\n        \"samples\": [\n          -1\n        ],\n        \"semantic_type\": \"\",\n        \"description\": \"\"\n      }\n    },\n    {\n      \"column\": \"actp\",\n      \"properties\": {\n        \"dtype\": \"category\",\n        \"num_unique_values\": 2,\n        \"samples\": [\n          \" -1\"\n        ],\n        \"semantic_type\": \"\",\n        \"description\": \"\"\n      }\n    },\n    {\n      \"column\": \"etatp\",\n      \"properties\": {\n        \"dtype\": \"number\",\n        \"std\": 0,\n        \"min\": -1,\n        \"max\": -1,\n        \"num_unique_values\": 1,\n        \"samples\": [\n          -1\n        ],\n        \"semantic_type\": \"\",\n        \"description\": \"\"\n      }\n    }\n  ]\n}"
            }
          },
          "metadata": {},
          "execution_count": 6
        }
      ],
      "source": [
        "usag=pd.read_csv(\"usagers_2021.csv\")\n",
        "usag.tail()"
      ]
    },
    {
      "cell_type": "markdown",
      "metadata": {
        "id": "_2DNj0kuQzG2"
      },
      "source": [
        "### Meanings of the different fields in the three data files\n",
        "\n",
        "#### In *carac_accidents_2021.csv*\n",
        "\n",
        "Num_Acc: Identification number of the accident. The same in the other DataFrames\n",
        "\n",
        "day, month, year: day of the accident, month of the accident, year of the accident.\n",
        "\n",
        "hrmn: hour and minute of the accident.\n",
        "\n",
        "lum: light, lighting conditions in which the accident occurred:\n",
        "\n",
        "   1 – Full day\n",
        "\n",
        "   2 – Dusk or dawn\n",
        "\n",
        "   3 – Night without public lighting\n",
        "\n",
        "   4 – Night with public lighting not on\n",
        "\n",
        "   5 – Night with public lighting on\n",
        "\n",
        "dep Department: INSEE code (National Institute of Statistics and Economic Studies) of department (2A Corse-du-Sud – 2B Haute-Corse).\n",
        "\n",
        "agg: location:\n",
        "\n",
        "   1 – Outside agglomeration\n",
        "\n",
        "   2 – In built-up areas\n",
        "\n",
        "int: intersection:\n",
        "\n",
        "   1 – Out of intersection\n",
        "\n",
        "   2 – X intersection\n",
        "\n",
        "   3 – T-junction\n",
        "\n",
        "   4 – Y intersection\n",
        "\n",
        "   5 – Intersection with more than 4 branches\n",
        "\n",
        "   6 – Roundabout\n",
        "\n",
        "   7 – Square\n",
        "\n",
        "   8 – Level crossing\n",
        "\n",
        "   9 – Other intersection\n",
        "\n",
        "\n",
        "atm: atmospheric conditions:\n",
        "\n",
        "  -1 – Not filled in\n",
        "\n",
        "   1 – Normal\n",
        "\n",
        "   2 – Light rain\n",
        "\n",
        "   3 – Heavy rain\n",
        "\n",
        "   4 – Snow - hail\n",
        "\n",
        "   5 – Fog - smoke\n",
        "\n",
        "   6 – Strong wind - storm\n",
        "\n",
        "   7 – Dazzling Time\n",
        "\n",
        "   8 – Overcast weather\n",
        "\n",
        "   9 – Other\n",
        "\n",
        "\n",
        "col: type of collision:\n",
        "\n",
        "  -1 – Not filled in\n",
        "\n",
        "   1 – Two vehicles - frontal\n",
        "\n",
        "   2 – Two vehicles – from behind\n",
        "\n",
        "   3 – Two vehicles – from the side\n",
        "\n",
        "   4 – Three or more vehicles – in a chain\n",
        "\n",
        "   5 – Three or more vehicles - multiple collisions\n",
        "\n",
        "   6 – Other Collision\n",
        "\n",
        "   7 – Collision free\n",
        "\n",
        "\n",
        "lat : latitude\n",
        "\n",
        "Length: longitude\n",
        "\n",
        "catr: road category:\n",
        "\n",
        "   1 – Motorway\n",
        "\n",
        "   2 – National road\n",
        "\n",
        "   3 – Departmental Road\n",
        "\n",
        "   4 – Communal roads\n",
        "\n",
        "   5 – Outside the public network\n",
        "\n",
        "   6 – Car park open to public traffic\n",
        "\n",
        "   7 – Urban Metropolis Routes\n",
        "\n",
        "   9 – other\n",
        "\n",
        "\n",
        "\n",
        "circ: circulation regime:\n",
        "\n",
        "  -1 – Not filled in\n",
        "\n",
        "   1 – One way\n",
        "\n",
        "   2 – Bidirectional\n",
        "\n",
        "   3 – With separate carriageways\n",
        "\n",
        "   4 – With variable assignment channels\n",
        "\n",
        "nbv: total number of traffic lanes.\n",
        "\n",
        "prof: longitudinal profile, describes the slope of the road at the place of the accident:\n",
        "\n",
        "  -1 – Not filled in\n",
        "\n",
        "   1 – Flat\n",
        "\n",
        "   2 – Slope\n",
        "\n",
        "   3 – Top of the hill\n",
        "\n",
        "   4 – Bottom of the coast\n",
        "\n",
        "\n",
        "surf: surface condition:\n",
        "\n",
        "  -1 – Not filled in\n",
        "\n",
        "   1 – Normal\n",
        "\n",
        "   2 – Wet\n",
        "\n",
        "   3 – Puddles\n",
        "\n",
        "   4 – Flooded\n",
        "\n",
        "   5 – Snowy\n",
        "\n",
        "   6 – Mud\n",
        "\n",
        "   7 – Icy\n",
        "\n",
        "   8 – Fats – oil\n",
        "\n",
        "   9 – Other\n",
        "\n",
        "vma\n",
        "\n",
        "Maximum authorized speed at the place and at the time of the accident.\n",
        "\n",
        "\n",
        "#### In *vehicles_2021.csv*\n",
        "\n",
        "Num_Acc: identifier of the accident identical to that of the \"carac_accidents_2021\" file included for each of the described vehicles involved in the accident.\n",
        "\n",
        "id_vehicule: vehicle identifier\n",
        "\n",
        "catv: vehicle category:\n",
        "\n",
        "   00 – Indeterminable\n",
        "\n",
        "   01 – Bicycle\n",
        "\n",
        "   02 – Moped <50cm3\n",
        "\n",
        "   03 – Cart (Quadricycle with bodied motor) (formerly \"cart or motor tricycle\")\n",
        "\n",
        "   04 – Reference unused since 2006 (registered scooter)\n",
        "\n",
        "   05 – Unused reference since 2006 (motorcycle)\n",
        "\n",
        "   06 – Reference unused since 2006 (sidecar)\n",
        "\n",
        "   07 – LV only\n",
        "\n",
        "   08 – Reference unused since 2006 (VL + caravan)\n",
        "\n",
        "   09 – Reference unused since 2006 (VL + trailer)\n",
        "\n",
        "   10 – LCV only 1.5T <= GVW <= 3.5T with or without trailer (formerly LCV only 1.5T <= GVW       <= 3.5T)\n",
        "\n",
        "   11 – Reference unused since 2006 (VU (10) + caravan)\n",
        "\n",
        "   12 – Reference unused since 2006 (VU (10) + trailer)\n",
        "\n",
        "   13 – PL only 3.5T <PTCA <= 7.5T\n",
        "\n",
        "   14 – PL only > 7.5T\n",
        "\n",
        "   15 – HGV > 3.5T + trailer\n",
        "\n",
        "   16 – Road tractor only\n",
        "\n",
        "   17 – Road tractor + semi-trailer\n",
        "\n",
        "   18 – Reference unused since 2006 (public transport)\n",
        "\n",
        "   19 – Reference unused since 2006 (tramway)\n",
        "\n",
        "   20 – Special gear\n",
        "\n",
        "   21 – Agricultural tractor\n",
        "\n",
        "   30 – Scooter < 50 cc\n",
        "\n",
        "   31 – Motorcycle > 50 cm3 and <= 125 cm3\n",
        "\n",
        "   32 – Scooter > 50 cm3 and <= 125 cm3\n",
        "\n",
        "   33 – Motorcycle > 125 cm3\n",
        "\n",
        "   34 – Scooter > 125 cc\n",
        "\n",
        "   35 – Light quad <= 50 cc (Unbodied motor quadricycle)\n",
        "\n",
        "   36 – Heavy quad > 50 cm3 (Quadricycle with motor without bodywork)\n",
        "\n",
        "   37 – Buses\n",
        "\n",
        "   38 – Bus\n",
        "\n",
        "   39 – Train\n",
        "\n",
        "   40 – Tramway\n",
        "\n",
        "   41 – 3WD <= 50cc\n",
        "\n",
        "   42 – 3WD > 50cc <= 125cc\n",
        "\n",
        "   43 – 3WD > 125 cc\n",
        "\n",
        "   50 – Motor EDP\n",
        "\n",
        "   60 – EDP without engine\n",
        "\n",
        "   80 – eBike\n",
        "\n",
        "   99 – Other vehicle\n",
        "\n",
        "\n",
        "\n",
        "obs: fixed obstacle struck:\n",
        "\n",
        "  -1 – Not filled in\n",
        "\n",
        "   0 – Not applicable\n",
        "\n",
        "   1 – Parked vehicle\n",
        "\n",
        "   2 – Tree\n",
        "\n",
        "   3 – Metal slider\n",
        "\n",
        "   4 – Concrete slide\n",
        "\n",
        "   5 – Other slide\n",
        "\n",
        "   6 – Building, wall, bridge pier\n",
        "\n",
        "   7 – Vertical signaling support or emergency call station\n",
        "\n",
        "   8 – Pole\n",
        "\n",
        "   9 – Street furniture\n",
        "\n",
        "  10 – Parapet\n",
        "\n",
        "  11 – Island, refuge, high boundary\n",
        "\n",
        "  12 – Sidewalk curb\n",
        "\n",
        "  13 – Ditch, embankment, rock face\n",
        "\n",
        "  14 – Other fixed obstacle on roadway\n",
        "\n",
        "  15 – Other fixed obstacle on sidewalk or shoulder\n",
        "\n",
        "  16 – Obstacle-free road exit\n",
        "\n",
        "  17 – Nozzle – aqueduct head\n",
        "\n",
        "\n",
        "motor: type of vehicle engine:\n",
        "\n",
        "  -1 – Not filled in\n",
        "\n",
        "   0 – Unknown\n",
        "\n",
        "   1 – Hydrocarbons\n",
        "\n",
        "   2 – Electric hybrid\n",
        "\n",
        "   3 – Electrical\n",
        "\n",
        "   4 – Hydrogen\n",
        "\n",
        "   5 – Human\n",
        "\n",
        "   6 – Other\n",
        "\n",
        "occutc: number of occupants in public transport.\n",
        "\n",
        "\n",
        "#### In *users_2021.csv*\n",
        "\n",
        "Num_Acc and id_vehicule: the same as in the previous file.\n",
        "\n",
        "seat: allows you to locate the seat occupied in the vehicle by the user at the time of the accident, see the file\n",
        "         \"description ... pdf\"\n",
        "\n",
        "catu: user category:\n",
        "\n",
        "   1 – Driver\n",
        "\n",
        "   2 – Passenger\n",
        "\n",
        "   3 – Pedestrian\n",
        "\n",
        "\n",
        "\n",
        "**severity: severity of user injury, injured users are classified into three categories of\n",
        "        victims plus uninjured:**\n",
        "\n",
        "   1 – Free\n",
        "\n",
        "   2 – Killed\n",
        "\n",
        "   3 – Wounded hospitalized\n",
        "\n",
        "   4 – Slightly injured\n",
        "\n",
        "**Our classification algorithm will estimate the severity of the accident.**\n",
        "\n",
        "\n",
        "gender: gender of user:\n",
        "\n",
        "   1 – Male\n",
        "\n",
        "   2 – Feminine\n",
        "\n",
        "\n",
        "An_nais: year of birth of the user.\n",
        "\n",
        "journey: reason for travel at the time of the accident:\n",
        "\n",
        "  -1 – Not filled in\n",
        "\n",
        "   0 – Not filled in\n",
        "\n",
        "   1 – Home – work\n",
        "\n",
        "   2 – Home – school\n",
        "\n",
        "   3 – Shopping – purchases\n",
        "\n",
        "   4 – Professional use\n",
        "\n",
        "   5 – Walk – leisure\n",
        "\n",
        "   9 – Other\n",
        "\n",
        "\n",
        "From 2019, this is the use with up to 3 possible equipment for the same user\n",
        "(especially for motorcyclists whose helmet and gloves are compulsory).\n",
        "\n",
        "secu1, secu2, secu3: the information of the character indicates the presence and the use of the equipment of\n",
        "    security :\n",
        "\n",
        "  -1 – Not filled in\n",
        "\n",
        "   0 – No equipment\n",
        "\n",
        "   1 – Belt\n",
        "\n",
        "   2 – Helmet\n",
        "\n",
        "   3 – Children device\n",
        "\n",
        "   4 – Reflective vest\n",
        "\n",
        "   5 – Airbag (2WD/3WD)\n",
        "\n",
        "   6 – Gloves (2WD/3WD)\n",
        "\n",
        "   7 – Gloves + Airbag (2WD/3WD)\n",
        "\n",
        "   8 – Not determinable\n",
        "\n",
        "   9 – Other\n",
        "\n",
        "locp: location of the pedestrian:\n",
        "\n",
        "  -1 – Not filled in\n",
        "\n",
        "   0 – Not applicable\n",
        "\n",
        "  On pavement:\n",
        "\n",
        "   1 – More than 50 m from the pedestrian crossing\n",
        "\n",
        "   2 – Less than 50 m from the pedestrian crossing\n",
        "\n",
        "  On pedestrian crossing:\n",
        "\n",
        "   3 – Without light signaling\n",
        "\n",
        "   4 – With light signaling\n",
        "\n",
        "  Various :\n",
        "\n",
        "   5 – On sidewalk\n",
        "\n",
        "   6 – On shoulder\n",
        "\n",
        "   7 – On refuge or emergency lane\n",
        "\n",
        "   8 – On counter aisle\n",
        "\n",
        "   9 – Unknown\n",
        "\n",
        "\n",
        "actp pedestrian action:\n",
        "\n",
        "   -1 – Not filled in\n",
        "\n",
        "  Moving\n",
        "\n",
        "    0 – Not filled in or not applicable\n",
        "\n",
        "    1 – Direction of vehicle hitting\n",
        "\n",
        "    2 – Reverse direction of the vehicle\n",
        "\n",
        "  Various\n",
        "\n",
        "    3 – Crossing\n",
        "\n",
        "    4 – Hidden\n",
        "\n",
        "    5 – Playing – running\n",
        "\n",
        "    6 – With animal\n",
        "\n",
        "    9 – Other\n",
        "\n",
        "    A – Getting in/out of the vehicle\n",
        "\n",
        "    B – Unknown\n",
        "\n",
        "etatp: this variable is used to specify whether the injured pedestrian was alone or not:\n",
        "\n",
        "   -1 – Not filled in\n",
        "\n",
        "    1 – Alone\n",
        "\n",
        "    2 – Accompanied\n",
        "\n",
        "    3 – In a group\n",
        "\n"
      ]
    },
    {
      "cell_type": "markdown",
      "metadata": {
        "id": "dtW8Tcd0QzG4"
      },
      "source": [
        "We find that there were 56,518 accidents in 2021 which involved 97,315 vehicles and 129,153 people.\n",
        "\n",
        "Remember that Num_Acc, the identifier of the accident, is a column common to the three DataFrames. To an accident number corresponds a single line in charac and in general several lines in the two other DataFrames because an accident involves more than one vehicle and more than one person in general. You can check this, for example with the unique() and nunique() methods, or with value_counts()"
      ]
    },
    {
      "cell_type": "code",
      "execution_count": 7,
      "metadata": {
        "id": "NwfD4XphQzG5",
        "colab": {
          "base_uri": "https://localhost:8080/"
        },
        "outputId": "c7ba570a-9be5-4785-d212-d43ee90090f2"
      },
      "outputs": [
        {
          "output_type": "stream",
          "name": "stdout",
          "text": [
            "Min and max number of vehicles per accident :  1 20\n",
            "Min and max number of users per accident :  1 24\n"
          ]
        }
      ],
      "source": [
        "print('Min and max number of vehicles per accident : ',min(vhc['Num_Acc'].value_counts()), max(vhc['Num_Acc'].value_counts()))\n",
        "print('Min and max number of users per accident : ', min(usag['Num_Acc'].value_counts()),  max(usag['Num_Acc'].value_counts()))"
      ]
    },
    {
      "cell_type": "markdown",
      "metadata": {
        "id": "CHII4TP_QzG5"
      },
      "source": [
        "We will now create a large DF that groups all the data. To an entry in DF usag corresponds one or more entries in DF vhc, and to an entry in vhc corresponds one or more entries in DF carac.\n",
        "\n",
        "The large DF will therefore have the dimensions of the used DF.\n",
        "\n",
        "The merge() method documented [here](https://pandas.pydata.org/docs/reference/api/pandas.merge.html) and [there](https://realpython.com/pandas-merge-join -and-concat/) is made to achieve this type of merge\n",
        "\n",
        "For illustration, here is a basic example of using merge()"
      ]
    },
    {
      "cell_type": "code",
      "execution_count": 8,
      "metadata": {
        "id": "VRaF9Bc8QzG5"
      },
      "outputs": [],
      "source": [
        "df1 = pd.DataFrame({'key': ['aa', 'bb', 'ba', 'aa', 'tt'],'value': [1, 2, 3, 5, 10]})\n",
        "df2 = pd.DataFrame({'key': ['aa', 'bb', 'ba', 'tu', 'bb'],'value': [5, 6, 7, 20, 50]})"
      ]
    },
    {
      "cell_type": "code",
      "execution_count": 9,
      "metadata": {
        "id": "PoN0xEvWQzG5",
        "colab": {
          "base_uri": "https://localhost:8080/",
          "height": 204
        },
        "outputId": "1c96b6f5-b7ea-4829-d4af-18c171c739df"
      },
      "outputs": [
        {
          "output_type": "execute_result",
          "data": {
            "text/plain": [
              "  key  value\n",
              "0  aa      1\n",
              "1  bb      2\n",
              "2  ba      3\n",
              "3  aa      5\n",
              "4  tt     10"
            ],
            "text/html": [
              "\n",
              "  <div id=\"df-bc8f0b43-dcf6-47f3-819a-a5e0b18f20b0\" class=\"colab-df-container\">\n",
              "    <div>\n",
              "<style scoped>\n",
              "    .dataframe tbody tr th:only-of-type {\n",
              "        vertical-align: middle;\n",
              "    }\n",
              "\n",
              "    .dataframe tbody tr th {\n",
              "        vertical-align: top;\n",
              "    }\n",
              "\n",
              "    .dataframe thead th {\n",
              "        text-align: right;\n",
              "    }\n",
              "</style>\n",
              "<table border=\"1\" class=\"dataframe\">\n",
              "  <thead>\n",
              "    <tr style=\"text-align: right;\">\n",
              "      <th></th>\n",
              "      <th>key</th>\n",
              "      <th>value</th>\n",
              "    </tr>\n",
              "  </thead>\n",
              "  <tbody>\n",
              "    <tr>\n",
              "      <th>0</th>\n",
              "      <td>aa</td>\n",
              "      <td>1</td>\n",
              "    </tr>\n",
              "    <tr>\n",
              "      <th>1</th>\n",
              "      <td>bb</td>\n",
              "      <td>2</td>\n",
              "    </tr>\n",
              "    <tr>\n",
              "      <th>2</th>\n",
              "      <td>ba</td>\n",
              "      <td>3</td>\n",
              "    </tr>\n",
              "    <tr>\n",
              "      <th>3</th>\n",
              "      <td>aa</td>\n",
              "      <td>5</td>\n",
              "    </tr>\n",
              "    <tr>\n",
              "      <th>4</th>\n",
              "      <td>tt</td>\n",
              "      <td>10</td>\n",
              "    </tr>\n",
              "  </tbody>\n",
              "</table>\n",
              "</div>\n",
              "    <div class=\"colab-df-buttons\">\n",
              "\n",
              "  <div class=\"colab-df-container\">\n",
              "    <button class=\"colab-df-convert\" onclick=\"convertToInteractive('df-bc8f0b43-dcf6-47f3-819a-a5e0b18f20b0')\"\n",
              "            title=\"Convert this dataframe to an interactive table.\"\n",
              "            style=\"display:none;\">\n",
              "\n",
              "  <svg xmlns=\"http://www.w3.org/2000/svg\" height=\"24px\" viewBox=\"0 -960 960 960\">\n",
              "    <path d=\"M120-120v-720h720v720H120Zm60-500h600v-160H180v160Zm220 220h160v-160H400v160Zm0 220h160v-160H400v160ZM180-400h160v-160H180v160Zm440 0h160v-160H620v160ZM180-180h160v-160H180v160Zm440 0h160v-160H620v160Z\"/>\n",
              "  </svg>\n",
              "    </button>\n",
              "\n",
              "  <style>\n",
              "    .colab-df-container {\n",
              "      display:flex;\n",
              "      gap: 12px;\n",
              "    }\n",
              "\n",
              "    .colab-df-convert {\n",
              "      background-color: #E8F0FE;\n",
              "      border: none;\n",
              "      border-radius: 50%;\n",
              "      cursor: pointer;\n",
              "      display: none;\n",
              "      fill: #1967D2;\n",
              "      height: 32px;\n",
              "      padding: 0 0 0 0;\n",
              "      width: 32px;\n",
              "    }\n",
              "\n",
              "    .colab-df-convert:hover {\n",
              "      background-color: #E2EBFA;\n",
              "      box-shadow: 0px 1px 2px rgba(60, 64, 67, 0.3), 0px 1px 3px 1px rgba(60, 64, 67, 0.15);\n",
              "      fill: #174EA6;\n",
              "    }\n",
              "\n",
              "    .colab-df-buttons div {\n",
              "      margin-bottom: 4px;\n",
              "    }\n",
              "\n",
              "    [theme=dark] .colab-df-convert {\n",
              "      background-color: #3B4455;\n",
              "      fill: #D2E3FC;\n",
              "    }\n",
              "\n",
              "    [theme=dark] .colab-df-convert:hover {\n",
              "      background-color: #434B5C;\n",
              "      box-shadow: 0px 1px 3px 1px rgba(0, 0, 0, 0.15);\n",
              "      filter: drop-shadow(0px 1px 2px rgba(0, 0, 0, 0.3));\n",
              "      fill: #FFFFFF;\n",
              "    }\n",
              "  </style>\n",
              "\n",
              "    <script>\n",
              "      const buttonEl =\n",
              "        document.querySelector('#df-bc8f0b43-dcf6-47f3-819a-a5e0b18f20b0 button.colab-df-convert');\n",
              "      buttonEl.style.display =\n",
              "        google.colab.kernel.accessAllowed ? 'block' : 'none';\n",
              "\n",
              "      async function convertToInteractive(key) {\n",
              "        const element = document.querySelector('#df-bc8f0b43-dcf6-47f3-819a-a5e0b18f20b0');\n",
              "        const dataTable =\n",
              "          await google.colab.kernel.invokeFunction('convertToInteractive',\n",
              "                                                    [key], {});\n",
              "        if (!dataTable) return;\n",
              "\n",
              "        const docLinkHtml = 'Like what you see? Visit the ' +\n",
              "          '<a target=\"_blank\" href=https://colab.research.google.com/notebooks/data_table.ipynb>data table notebook</a>'\n",
              "          + ' to learn more about interactive tables.';\n",
              "        element.innerHTML = '';\n",
              "        dataTable['output_type'] = 'display_data';\n",
              "        await google.colab.output.renderOutput(dataTable, element);\n",
              "        const docLink = document.createElement('div');\n",
              "        docLink.innerHTML = docLinkHtml;\n",
              "        element.appendChild(docLink);\n",
              "      }\n",
              "    </script>\n",
              "  </div>\n",
              "\n",
              "\n",
              "<div id=\"df-1d302400-afab-4f60-be26-f90fc963d52c\">\n",
              "  <button class=\"colab-df-quickchart\" onclick=\"quickchart('df-1d302400-afab-4f60-be26-f90fc963d52c')\"\n",
              "            title=\"Suggest charts\"\n",
              "            style=\"display:none;\">\n",
              "\n",
              "<svg xmlns=\"http://www.w3.org/2000/svg\" height=\"24px\"viewBox=\"0 0 24 24\"\n",
              "     width=\"24px\">\n",
              "    <g>\n",
              "        <path d=\"M19 3H5c-1.1 0-2 .9-2 2v14c0 1.1.9 2 2 2h14c1.1 0 2-.9 2-2V5c0-1.1-.9-2-2-2zM9 17H7v-7h2v7zm4 0h-2V7h2v10zm4 0h-2v-4h2v4z\"/>\n",
              "    </g>\n",
              "</svg>\n",
              "  </button>\n",
              "\n",
              "<style>\n",
              "  .colab-df-quickchart {\n",
              "      --bg-color: #E8F0FE;\n",
              "      --fill-color: #1967D2;\n",
              "      --hover-bg-color: #E2EBFA;\n",
              "      --hover-fill-color: #174EA6;\n",
              "      --disabled-fill-color: #AAA;\n",
              "      --disabled-bg-color: #DDD;\n",
              "  }\n",
              "\n",
              "  [theme=dark] .colab-df-quickchart {\n",
              "      --bg-color: #3B4455;\n",
              "      --fill-color: #D2E3FC;\n",
              "      --hover-bg-color: #434B5C;\n",
              "      --hover-fill-color: #FFFFFF;\n",
              "      --disabled-bg-color: #3B4455;\n",
              "      --disabled-fill-color: #666;\n",
              "  }\n",
              "\n",
              "  .colab-df-quickchart {\n",
              "    background-color: var(--bg-color);\n",
              "    border: none;\n",
              "    border-radius: 50%;\n",
              "    cursor: pointer;\n",
              "    display: none;\n",
              "    fill: var(--fill-color);\n",
              "    height: 32px;\n",
              "    padding: 0;\n",
              "    width: 32px;\n",
              "  }\n",
              "\n",
              "  .colab-df-quickchart:hover {\n",
              "    background-color: var(--hover-bg-color);\n",
              "    box-shadow: 0 1px 2px rgba(60, 64, 67, 0.3), 0 1px 3px 1px rgba(60, 64, 67, 0.15);\n",
              "    fill: var(--button-hover-fill-color);\n",
              "  }\n",
              "\n",
              "  .colab-df-quickchart-complete:disabled,\n",
              "  .colab-df-quickchart-complete:disabled:hover {\n",
              "    background-color: var(--disabled-bg-color);\n",
              "    fill: var(--disabled-fill-color);\n",
              "    box-shadow: none;\n",
              "  }\n",
              "\n",
              "  .colab-df-spinner {\n",
              "    border: 2px solid var(--fill-color);\n",
              "    border-color: transparent;\n",
              "    border-bottom-color: var(--fill-color);\n",
              "    animation:\n",
              "      spin 1s steps(1) infinite;\n",
              "  }\n",
              "\n",
              "  @keyframes spin {\n",
              "    0% {\n",
              "      border-color: transparent;\n",
              "      border-bottom-color: var(--fill-color);\n",
              "      border-left-color: var(--fill-color);\n",
              "    }\n",
              "    20% {\n",
              "      border-color: transparent;\n",
              "      border-left-color: var(--fill-color);\n",
              "      border-top-color: var(--fill-color);\n",
              "    }\n",
              "    30% {\n",
              "      border-color: transparent;\n",
              "      border-left-color: var(--fill-color);\n",
              "      border-top-color: var(--fill-color);\n",
              "      border-right-color: var(--fill-color);\n",
              "    }\n",
              "    40% {\n",
              "      border-color: transparent;\n",
              "      border-right-color: var(--fill-color);\n",
              "      border-top-color: var(--fill-color);\n",
              "    }\n",
              "    60% {\n",
              "      border-color: transparent;\n",
              "      border-right-color: var(--fill-color);\n",
              "    }\n",
              "    80% {\n",
              "      border-color: transparent;\n",
              "      border-right-color: var(--fill-color);\n",
              "      border-bottom-color: var(--fill-color);\n",
              "    }\n",
              "    90% {\n",
              "      border-color: transparent;\n",
              "      border-bottom-color: var(--fill-color);\n",
              "    }\n",
              "  }\n",
              "</style>\n",
              "\n",
              "  <script>\n",
              "    async function quickchart(key) {\n",
              "      const quickchartButtonEl =\n",
              "        document.querySelector('#' + key + ' button');\n",
              "      quickchartButtonEl.disabled = true;  // To prevent multiple clicks.\n",
              "      quickchartButtonEl.classList.add('colab-df-spinner');\n",
              "      try {\n",
              "        const charts = await google.colab.kernel.invokeFunction(\n",
              "            'suggestCharts', [key], {});\n",
              "      } catch (error) {\n",
              "        console.error('Error during call to suggestCharts:', error);\n",
              "      }\n",
              "      quickchartButtonEl.classList.remove('colab-df-spinner');\n",
              "      quickchartButtonEl.classList.add('colab-df-quickchart-complete');\n",
              "    }\n",
              "    (() => {\n",
              "      let quickchartButtonEl =\n",
              "        document.querySelector('#df-1d302400-afab-4f60-be26-f90fc963d52c button');\n",
              "      quickchartButtonEl.style.display =\n",
              "        google.colab.kernel.accessAllowed ? 'block' : 'none';\n",
              "    })();\n",
              "  </script>\n",
              "</div>\n",
              "    </div>\n",
              "  </div>\n"
            ],
            "application/vnd.google.colaboratory.intrinsic+json": {
              "type": "dataframe",
              "variable_name": "df1",
              "summary": "{\n  \"name\": \"df1\",\n  \"rows\": 5,\n  \"fields\": [\n    {\n      \"column\": \"key\",\n      \"properties\": {\n        \"dtype\": \"string\",\n        \"num_unique_values\": 4,\n        \"samples\": [\n          \"bb\",\n          \"tt\",\n          \"aa\"\n        ],\n        \"semantic_type\": \"\",\n        \"description\": \"\"\n      }\n    },\n    {\n      \"column\": \"value\",\n      \"properties\": {\n        \"dtype\": \"number\",\n        \"std\": 3,\n        \"min\": 1,\n        \"max\": 10,\n        \"num_unique_values\": 5,\n        \"samples\": [\n          2,\n          10,\n          3\n        ],\n        \"semantic_type\": \"\",\n        \"description\": \"\"\n      }\n    }\n  ]\n}"
            }
          },
          "metadata": {},
          "execution_count": 9
        }
      ],
      "source": [
        "df1"
      ]
    },
    {
      "cell_type": "code",
      "execution_count": 10,
      "metadata": {
        "id": "mqZHzNWjQzG6",
        "colab": {
          "base_uri": "https://localhost:8080/",
          "height": 204
        },
        "outputId": "8a82b35b-896b-40a9-ca1f-d0c958660d2e"
      },
      "outputs": [
        {
          "output_type": "execute_result",
          "data": {
            "text/plain": [
              "  key  value\n",
              "0  aa      5\n",
              "1  bb      6\n",
              "2  ba      7\n",
              "3  tu     20\n",
              "4  bb     50"
            ],
            "text/html": [
              "\n",
              "  <div id=\"df-bf1144c5-eda8-4c68-ae42-a0bb4742f4f8\" class=\"colab-df-container\">\n",
              "    <div>\n",
              "<style scoped>\n",
              "    .dataframe tbody tr th:only-of-type {\n",
              "        vertical-align: middle;\n",
              "    }\n",
              "\n",
              "    .dataframe tbody tr th {\n",
              "        vertical-align: top;\n",
              "    }\n",
              "\n",
              "    .dataframe thead th {\n",
              "        text-align: right;\n",
              "    }\n",
              "</style>\n",
              "<table border=\"1\" class=\"dataframe\">\n",
              "  <thead>\n",
              "    <tr style=\"text-align: right;\">\n",
              "      <th></th>\n",
              "      <th>key</th>\n",
              "      <th>value</th>\n",
              "    </tr>\n",
              "  </thead>\n",
              "  <tbody>\n",
              "    <tr>\n",
              "      <th>0</th>\n",
              "      <td>aa</td>\n",
              "      <td>5</td>\n",
              "    </tr>\n",
              "    <tr>\n",
              "      <th>1</th>\n",
              "      <td>bb</td>\n",
              "      <td>6</td>\n",
              "    </tr>\n",
              "    <tr>\n",
              "      <th>2</th>\n",
              "      <td>ba</td>\n",
              "      <td>7</td>\n",
              "    </tr>\n",
              "    <tr>\n",
              "      <th>3</th>\n",
              "      <td>tu</td>\n",
              "      <td>20</td>\n",
              "    </tr>\n",
              "    <tr>\n",
              "      <th>4</th>\n",
              "      <td>bb</td>\n",
              "      <td>50</td>\n",
              "    </tr>\n",
              "  </tbody>\n",
              "</table>\n",
              "</div>\n",
              "    <div class=\"colab-df-buttons\">\n",
              "\n",
              "  <div class=\"colab-df-container\">\n",
              "    <button class=\"colab-df-convert\" onclick=\"convertToInteractive('df-bf1144c5-eda8-4c68-ae42-a0bb4742f4f8')\"\n",
              "            title=\"Convert this dataframe to an interactive table.\"\n",
              "            style=\"display:none;\">\n",
              "\n",
              "  <svg xmlns=\"http://www.w3.org/2000/svg\" height=\"24px\" viewBox=\"0 -960 960 960\">\n",
              "    <path d=\"M120-120v-720h720v720H120Zm60-500h600v-160H180v160Zm220 220h160v-160H400v160Zm0 220h160v-160H400v160ZM180-400h160v-160H180v160Zm440 0h160v-160H620v160ZM180-180h160v-160H180v160Zm440 0h160v-160H620v160Z\"/>\n",
              "  </svg>\n",
              "    </button>\n",
              "\n",
              "  <style>\n",
              "    .colab-df-container {\n",
              "      display:flex;\n",
              "      gap: 12px;\n",
              "    }\n",
              "\n",
              "    .colab-df-convert {\n",
              "      background-color: #E8F0FE;\n",
              "      border: none;\n",
              "      border-radius: 50%;\n",
              "      cursor: pointer;\n",
              "      display: none;\n",
              "      fill: #1967D2;\n",
              "      height: 32px;\n",
              "      padding: 0 0 0 0;\n",
              "      width: 32px;\n",
              "    }\n",
              "\n",
              "    .colab-df-convert:hover {\n",
              "      background-color: #E2EBFA;\n",
              "      box-shadow: 0px 1px 2px rgba(60, 64, 67, 0.3), 0px 1px 3px 1px rgba(60, 64, 67, 0.15);\n",
              "      fill: #174EA6;\n",
              "    }\n",
              "\n",
              "    .colab-df-buttons div {\n",
              "      margin-bottom: 4px;\n",
              "    }\n",
              "\n",
              "    [theme=dark] .colab-df-convert {\n",
              "      background-color: #3B4455;\n",
              "      fill: #D2E3FC;\n",
              "    }\n",
              "\n",
              "    [theme=dark] .colab-df-convert:hover {\n",
              "      background-color: #434B5C;\n",
              "      box-shadow: 0px 1px 3px 1px rgba(0, 0, 0, 0.15);\n",
              "      filter: drop-shadow(0px 1px 2px rgba(0, 0, 0, 0.3));\n",
              "      fill: #FFFFFF;\n",
              "    }\n",
              "  </style>\n",
              "\n",
              "    <script>\n",
              "      const buttonEl =\n",
              "        document.querySelector('#df-bf1144c5-eda8-4c68-ae42-a0bb4742f4f8 button.colab-df-convert');\n",
              "      buttonEl.style.display =\n",
              "        google.colab.kernel.accessAllowed ? 'block' : 'none';\n",
              "\n",
              "      async function convertToInteractive(key) {\n",
              "        const element = document.querySelector('#df-bf1144c5-eda8-4c68-ae42-a0bb4742f4f8');\n",
              "        const dataTable =\n",
              "          await google.colab.kernel.invokeFunction('convertToInteractive',\n",
              "                                                    [key], {});\n",
              "        if (!dataTable) return;\n",
              "\n",
              "        const docLinkHtml = 'Like what you see? Visit the ' +\n",
              "          '<a target=\"_blank\" href=https://colab.research.google.com/notebooks/data_table.ipynb>data table notebook</a>'\n",
              "          + ' to learn more about interactive tables.';\n",
              "        element.innerHTML = '';\n",
              "        dataTable['output_type'] = 'display_data';\n",
              "        await google.colab.output.renderOutput(dataTable, element);\n",
              "        const docLink = document.createElement('div');\n",
              "        docLink.innerHTML = docLinkHtml;\n",
              "        element.appendChild(docLink);\n",
              "      }\n",
              "    </script>\n",
              "  </div>\n",
              "\n",
              "\n",
              "<div id=\"df-dc90fc9d-6f6d-413b-b136-ed5bfb784d2b\">\n",
              "  <button class=\"colab-df-quickchart\" onclick=\"quickchart('df-dc90fc9d-6f6d-413b-b136-ed5bfb784d2b')\"\n",
              "            title=\"Suggest charts\"\n",
              "            style=\"display:none;\">\n",
              "\n",
              "<svg xmlns=\"http://www.w3.org/2000/svg\" height=\"24px\"viewBox=\"0 0 24 24\"\n",
              "     width=\"24px\">\n",
              "    <g>\n",
              "        <path d=\"M19 3H5c-1.1 0-2 .9-2 2v14c0 1.1.9 2 2 2h14c1.1 0 2-.9 2-2V5c0-1.1-.9-2-2-2zM9 17H7v-7h2v7zm4 0h-2V7h2v10zm4 0h-2v-4h2v4z\"/>\n",
              "    </g>\n",
              "</svg>\n",
              "  </button>\n",
              "\n",
              "<style>\n",
              "  .colab-df-quickchart {\n",
              "      --bg-color: #E8F0FE;\n",
              "      --fill-color: #1967D2;\n",
              "      --hover-bg-color: #E2EBFA;\n",
              "      --hover-fill-color: #174EA6;\n",
              "      --disabled-fill-color: #AAA;\n",
              "      --disabled-bg-color: #DDD;\n",
              "  }\n",
              "\n",
              "  [theme=dark] .colab-df-quickchart {\n",
              "      --bg-color: #3B4455;\n",
              "      --fill-color: #D2E3FC;\n",
              "      --hover-bg-color: #434B5C;\n",
              "      --hover-fill-color: #FFFFFF;\n",
              "      --disabled-bg-color: #3B4455;\n",
              "      --disabled-fill-color: #666;\n",
              "  }\n",
              "\n",
              "  .colab-df-quickchart {\n",
              "    background-color: var(--bg-color);\n",
              "    border: none;\n",
              "    border-radius: 50%;\n",
              "    cursor: pointer;\n",
              "    display: none;\n",
              "    fill: var(--fill-color);\n",
              "    height: 32px;\n",
              "    padding: 0;\n",
              "    width: 32px;\n",
              "  }\n",
              "\n",
              "  .colab-df-quickchart:hover {\n",
              "    background-color: var(--hover-bg-color);\n",
              "    box-shadow: 0 1px 2px rgba(60, 64, 67, 0.3), 0 1px 3px 1px rgba(60, 64, 67, 0.15);\n",
              "    fill: var(--button-hover-fill-color);\n",
              "  }\n",
              "\n",
              "  .colab-df-quickchart-complete:disabled,\n",
              "  .colab-df-quickchart-complete:disabled:hover {\n",
              "    background-color: var(--disabled-bg-color);\n",
              "    fill: var(--disabled-fill-color);\n",
              "    box-shadow: none;\n",
              "  }\n",
              "\n",
              "  .colab-df-spinner {\n",
              "    border: 2px solid var(--fill-color);\n",
              "    border-color: transparent;\n",
              "    border-bottom-color: var(--fill-color);\n",
              "    animation:\n",
              "      spin 1s steps(1) infinite;\n",
              "  }\n",
              "\n",
              "  @keyframes spin {\n",
              "    0% {\n",
              "      border-color: transparent;\n",
              "      border-bottom-color: var(--fill-color);\n",
              "      border-left-color: var(--fill-color);\n",
              "    }\n",
              "    20% {\n",
              "      border-color: transparent;\n",
              "      border-left-color: var(--fill-color);\n",
              "      border-top-color: var(--fill-color);\n",
              "    }\n",
              "    30% {\n",
              "      border-color: transparent;\n",
              "      border-left-color: var(--fill-color);\n",
              "      border-top-color: var(--fill-color);\n",
              "      border-right-color: var(--fill-color);\n",
              "    }\n",
              "    40% {\n",
              "      border-color: transparent;\n",
              "      border-right-color: var(--fill-color);\n",
              "      border-top-color: var(--fill-color);\n",
              "    }\n",
              "    60% {\n",
              "      border-color: transparent;\n",
              "      border-right-color: var(--fill-color);\n",
              "    }\n",
              "    80% {\n",
              "      border-color: transparent;\n",
              "      border-right-color: var(--fill-color);\n",
              "      border-bottom-color: var(--fill-color);\n",
              "    }\n",
              "    90% {\n",
              "      border-color: transparent;\n",
              "      border-bottom-color: var(--fill-color);\n",
              "    }\n",
              "  }\n",
              "</style>\n",
              "\n",
              "  <script>\n",
              "    async function quickchart(key) {\n",
              "      const quickchartButtonEl =\n",
              "        document.querySelector('#' + key + ' button');\n",
              "      quickchartButtonEl.disabled = true;  // To prevent multiple clicks.\n",
              "      quickchartButtonEl.classList.add('colab-df-spinner');\n",
              "      try {\n",
              "        const charts = await google.colab.kernel.invokeFunction(\n",
              "            'suggestCharts', [key], {});\n",
              "      } catch (error) {\n",
              "        console.error('Error during call to suggestCharts:', error);\n",
              "      }\n",
              "      quickchartButtonEl.classList.remove('colab-df-spinner');\n",
              "      quickchartButtonEl.classList.add('colab-df-quickchart-complete');\n",
              "    }\n",
              "    (() => {\n",
              "      let quickchartButtonEl =\n",
              "        document.querySelector('#df-dc90fc9d-6f6d-413b-b136-ed5bfb784d2b button');\n",
              "      quickchartButtonEl.style.display =\n",
              "        google.colab.kernel.accessAllowed ? 'block' : 'none';\n",
              "    })();\n",
              "  </script>\n",
              "</div>\n",
              "    </div>\n",
              "  </div>\n"
            ],
            "application/vnd.google.colaboratory.intrinsic+json": {
              "type": "dataframe",
              "variable_name": "df2",
              "summary": "{\n  \"name\": \"df2\",\n  \"rows\": 5,\n  \"fields\": [\n    {\n      \"column\": \"key\",\n      \"properties\": {\n        \"dtype\": \"string\",\n        \"num_unique_values\": 4,\n        \"samples\": [\n          \"bb\",\n          \"tu\",\n          \"aa\"\n        ],\n        \"semantic_type\": \"\",\n        \"description\": \"\"\n      }\n    },\n    {\n      \"column\": \"value\",\n      \"properties\": {\n        \"dtype\": \"number\",\n        \"std\": 19,\n        \"min\": 5,\n        \"max\": 50,\n        \"num_unique_values\": 5,\n        \"samples\": [\n          6,\n          50,\n          7\n        ],\n        \"semantic_type\": \"\",\n        \"description\": \"\"\n      }\n    }\n  ]\n}"
            }
          },
          "metadata": {},
          "execution_count": 10
        }
      ],
      "source": [
        "df2"
      ]
    },
    {
      "cell_type": "code",
      "execution_count": 11,
      "metadata": {
        "id": "273P1BJuQzG6",
        "colab": {
          "base_uri": "https://localhost:8080/"
        },
        "outputId": "f3d759a8-b43e-423a-e43b-69baaf4059b7"
      },
      "outputs": [
        {
          "output_type": "stream",
          "name": "stdout",
          "text": [
            "  key  value_x  value_y\n",
            "0  aa        1      5.0\n",
            "1  bb        2      6.0\n",
            "2  bb        2     50.0\n",
            "3  ba        3      7.0\n",
            "4  aa        5      5.0\n",
            "5  tt       10      NaN\n",
            "\n",
            "\n",
            "  key  value_x  value_y\n",
            "0  aa        1        5\n",
            "1  aa        5        5\n",
            "2  bb        2        6\n",
            "3  bb        2       50\n",
            "4  ba        3        7\n"
          ]
        }
      ],
      "source": [
        "# Merge on the common 'key' column based on the left DF: if value is missing in the 'key' column\n",
        "# of the right DF, add a NaN\n",
        "print(df1.merge(df2, on='key',how='left'))\n",
        "\n",
        "print('\\n')\n",
        "\n",
        "# Merge on the common 'key' column based on the intersection: only the values common to both\n",
        "# columns are taken into account\n",
        "print(df1.merge(df2, on='key',how='inner'))"
      ]
    },
    {
      "cell_type": "markdown",
      "metadata": {
        "id": "OOfCc6zUQzG6"
      },
      "source": [
        "Back to our three DFs: we merge vhc -> usag based on the common 'Num_Acc' and 'id_vehicule' columns, then we merge carac -> the resulting DF based on the common 'Num_Acc' column"
      ]
    },
    {
      "cell_type": "code",
      "execution_count": 12,
      "metadata": {
        "id": "PqiYG0MyQzG6",
        "colab": {
          "base_uri": "https://localhost:8080/",
          "height": 233
        },
        "outputId": "cf6524e6-364e-4e4c-8900-5b7a48108b72"
      },
      "outputs": [
        {
          "output_type": "execute_result",
          "data": {
            "text/plain": [
              "             Num_Acc id_vehicule  place  catu  grav  sexe  an_nais  trajet  \\\n",
              "129148  202100056516     100 885      1     1     4     1   1975.0       0   \n",
              "129149  202100056516     100 886      1     1     4     1   2002.0       5   \n",
              "129150  202100056517     100 884      1     1     3     1   1999.0       0   \n",
              "129151  202100056518     100 882      1     1     3     1   1968.0       3   \n",
              "129152  202100056518     100 883      1     1     3     1   1985.0       3   \n",
              "\n",
              "        secu1  secu2  ...  atm  col            lat            long  catr  \\\n",
              "129148      1     -1  ...    2    1  44,9112100000    5,0196360000     3   \n",
              "129149      1     -1  ...    2    1  44,9112100000    5,0196360000     3   \n",
              "129150      0     -1  ...    1    6  44,9542747363   -0,5179211363     4   \n",
              "129151      1      0  ...    3    1  48,7966700000    2,0505000000     3   \n",
              "129152      1      0  ...    3    1  48,7966700000    2,0505000000     3   \n",
              "\n",
              "        circ  nbv  prof  surf  vma  \n",
              "129148     2    2     2     2   80  \n",
              "129149     2    2     2     2   80  \n",
              "129150     2    2     1     2   80  \n",
              "129151     2    2     1     2   70  \n",
              "129152     2    2     1     2   70  \n",
              "\n",
              "[5 rows x 37 columns]"
            ],
            "text/html": [
              "\n",
              "  <div id=\"df-18046f0c-8005-4b84-98e0-7d3d6b3c8eaa\" class=\"colab-df-container\">\n",
              "    <div>\n",
              "<style scoped>\n",
              "    .dataframe tbody tr th:only-of-type {\n",
              "        vertical-align: middle;\n",
              "    }\n",
              "\n",
              "    .dataframe tbody tr th {\n",
              "        vertical-align: top;\n",
              "    }\n",
              "\n",
              "    .dataframe thead th {\n",
              "        text-align: right;\n",
              "    }\n",
              "</style>\n",
              "<table border=\"1\" class=\"dataframe\">\n",
              "  <thead>\n",
              "    <tr style=\"text-align: right;\">\n",
              "      <th></th>\n",
              "      <th>Num_Acc</th>\n",
              "      <th>id_vehicule</th>\n",
              "      <th>place</th>\n",
              "      <th>catu</th>\n",
              "      <th>grav</th>\n",
              "      <th>sexe</th>\n",
              "      <th>an_nais</th>\n",
              "      <th>trajet</th>\n",
              "      <th>secu1</th>\n",
              "      <th>secu2</th>\n",
              "      <th>...</th>\n",
              "      <th>atm</th>\n",
              "      <th>col</th>\n",
              "      <th>lat</th>\n",
              "      <th>long</th>\n",
              "      <th>catr</th>\n",
              "      <th>circ</th>\n",
              "      <th>nbv</th>\n",
              "      <th>prof</th>\n",
              "      <th>surf</th>\n",
              "      <th>vma</th>\n",
              "    </tr>\n",
              "  </thead>\n",
              "  <tbody>\n",
              "    <tr>\n",
              "      <th>129148</th>\n",
              "      <td>202100056516</td>\n",
              "      <td>100 885</td>\n",
              "      <td>1</td>\n",
              "      <td>1</td>\n",
              "      <td>4</td>\n",
              "      <td>1</td>\n",
              "      <td>1975.0</td>\n",
              "      <td>0</td>\n",
              "      <td>1</td>\n",
              "      <td>-1</td>\n",
              "      <td>...</td>\n",
              "      <td>2</td>\n",
              "      <td>1</td>\n",
              "      <td>44,9112100000</td>\n",
              "      <td>5,0196360000</td>\n",
              "      <td>3</td>\n",
              "      <td>2</td>\n",
              "      <td>2</td>\n",
              "      <td>2</td>\n",
              "      <td>2</td>\n",
              "      <td>80</td>\n",
              "    </tr>\n",
              "    <tr>\n",
              "      <th>129149</th>\n",
              "      <td>202100056516</td>\n",
              "      <td>100 886</td>\n",
              "      <td>1</td>\n",
              "      <td>1</td>\n",
              "      <td>4</td>\n",
              "      <td>1</td>\n",
              "      <td>2002.0</td>\n",
              "      <td>5</td>\n",
              "      <td>1</td>\n",
              "      <td>-1</td>\n",
              "      <td>...</td>\n",
              "      <td>2</td>\n",
              "      <td>1</td>\n",
              "      <td>44,9112100000</td>\n",
              "      <td>5,0196360000</td>\n",
              "      <td>3</td>\n",
              "      <td>2</td>\n",
              "      <td>2</td>\n",
              "      <td>2</td>\n",
              "      <td>2</td>\n",
              "      <td>80</td>\n",
              "    </tr>\n",
              "    <tr>\n",
              "      <th>129150</th>\n",
              "      <td>202100056517</td>\n",
              "      <td>100 884</td>\n",
              "      <td>1</td>\n",
              "      <td>1</td>\n",
              "      <td>3</td>\n",
              "      <td>1</td>\n",
              "      <td>1999.0</td>\n",
              "      <td>0</td>\n",
              "      <td>0</td>\n",
              "      <td>-1</td>\n",
              "      <td>...</td>\n",
              "      <td>1</td>\n",
              "      <td>6</td>\n",
              "      <td>44,9542747363</td>\n",
              "      <td>-0,5179211363</td>\n",
              "      <td>4</td>\n",
              "      <td>2</td>\n",
              "      <td>2</td>\n",
              "      <td>1</td>\n",
              "      <td>2</td>\n",
              "      <td>80</td>\n",
              "    </tr>\n",
              "    <tr>\n",
              "      <th>129151</th>\n",
              "      <td>202100056518</td>\n",
              "      <td>100 882</td>\n",
              "      <td>1</td>\n",
              "      <td>1</td>\n",
              "      <td>3</td>\n",
              "      <td>1</td>\n",
              "      <td>1968.0</td>\n",
              "      <td>3</td>\n",
              "      <td>1</td>\n",
              "      <td>0</td>\n",
              "      <td>...</td>\n",
              "      <td>3</td>\n",
              "      <td>1</td>\n",
              "      <td>48,7966700000</td>\n",
              "      <td>2,0505000000</td>\n",
              "      <td>3</td>\n",
              "      <td>2</td>\n",
              "      <td>2</td>\n",
              "      <td>1</td>\n",
              "      <td>2</td>\n",
              "      <td>70</td>\n",
              "    </tr>\n",
              "    <tr>\n",
              "      <th>129152</th>\n",
              "      <td>202100056518</td>\n",
              "      <td>100 883</td>\n",
              "      <td>1</td>\n",
              "      <td>1</td>\n",
              "      <td>3</td>\n",
              "      <td>1</td>\n",
              "      <td>1985.0</td>\n",
              "      <td>3</td>\n",
              "      <td>1</td>\n",
              "      <td>0</td>\n",
              "      <td>...</td>\n",
              "      <td>3</td>\n",
              "      <td>1</td>\n",
              "      <td>48,7966700000</td>\n",
              "      <td>2,0505000000</td>\n",
              "      <td>3</td>\n",
              "      <td>2</td>\n",
              "      <td>2</td>\n",
              "      <td>1</td>\n",
              "      <td>2</td>\n",
              "      <td>70</td>\n",
              "    </tr>\n",
              "  </tbody>\n",
              "</table>\n",
              "<p>5 rows × 37 columns</p>\n",
              "</div>\n",
              "    <div class=\"colab-df-buttons\">\n",
              "\n",
              "  <div class=\"colab-df-container\">\n",
              "    <button class=\"colab-df-convert\" onclick=\"convertToInteractive('df-18046f0c-8005-4b84-98e0-7d3d6b3c8eaa')\"\n",
              "            title=\"Convert this dataframe to an interactive table.\"\n",
              "            style=\"display:none;\">\n",
              "\n",
              "  <svg xmlns=\"http://www.w3.org/2000/svg\" height=\"24px\" viewBox=\"0 -960 960 960\">\n",
              "    <path d=\"M120-120v-720h720v720H120Zm60-500h600v-160H180v160Zm220 220h160v-160H400v160Zm0 220h160v-160H400v160ZM180-400h160v-160H180v160Zm440 0h160v-160H620v160ZM180-180h160v-160H180v160Zm440 0h160v-160H620v160Z\"/>\n",
              "  </svg>\n",
              "    </button>\n",
              "\n",
              "  <style>\n",
              "    .colab-df-container {\n",
              "      display:flex;\n",
              "      gap: 12px;\n",
              "    }\n",
              "\n",
              "    .colab-df-convert {\n",
              "      background-color: #E8F0FE;\n",
              "      border: none;\n",
              "      border-radius: 50%;\n",
              "      cursor: pointer;\n",
              "      display: none;\n",
              "      fill: #1967D2;\n",
              "      height: 32px;\n",
              "      padding: 0 0 0 0;\n",
              "      width: 32px;\n",
              "    }\n",
              "\n",
              "    .colab-df-convert:hover {\n",
              "      background-color: #E2EBFA;\n",
              "      box-shadow: 0px 1px 2px rgba(60, 64, 67, 0.3), 0px 1px 3px 1px rgba(60, 64, 67, 0.15);\n",
              "      fill: #174EA6;\n",
              "    }\n",
              "\n",
              "    .colab-df-buttons div {\n",
              "      margin-bottom: 4px;\n",
              "    }\n",
              "\n",
              "    [theme=dark] .colab-df-convert {\n",
              "      background-color: #3B4455;\n",
              "      fill: #D2E3FC;\n",
              "    }\n",
              "\n",
              "    [theme=dark] .colab-df-convert:hover {\n",
              "      background-color: #434B5C;\n",
              "      box-shadow: 0px 1px 3px 1px rgba(0, 0, 0, 0.15);\n",
              "      filter: drop-shadow(0px 1px 2px rgba(0, 0, 0, 0.3));\n",
              "      fill: #FFFFFF;\n",
              "    }\n",
              "  </style>\n",
              "\n",
              "    <script>\n",
              "      const buttonEl =\n",
              "        document.querySelector('#df-18046f0c-8005-4b84-98e0-7d3d6b3c8eaa button.colab-df-convert');\n",
              "      buttonEl.style.display =\n",
              "        google.colab.kernel.accessAllowed ? 'block' : 'none';\n",
              "\n",
              "      async function convertToInteractive(key) {\n",
              "        const element = document.querySelector('#df-18046f0c-8005-4b84-98e0-7d3d6b3c8eaa');\n",
              "        const dataTable =\n",
              "          await google.colab.kernel.invokeFunction('convertToInteractive',\n",
              "                                                    [key], {});\n",
              "        if (!dataTable) return;\n",
              "\n",
              "        const docLinkHtml = 'Like what you see? Visit the ' +\n",
              "          '<a target=\"_blank\" href=https://colab.research.google.com/notebooks/data_table.ipynb>data table notebook</a>'\n",
              "          + ' to learn more about interactive tables.';\n",
              "        element.innerHTML = '';\n",
              "        dataTable['output_type'] = 'display_data';\n",
              "        await google.colab.output.renderOutput(dataTable, element);\n",
              "        const docLink = document.createElement('div');\n",
              "        docLink.innerHTML = docLinkHtml;\n",
              "        element.appendChild(docLink);\n",
              "      }\n",
              "    </script>\n",
              "  </div>\n",
              "\n",
              "\n",
              "<div id=\"df-465ab2e2-4b01-42e3-912e-a2cb59d57b34\">\n",
              "  <button class=\"colab-df-quickchart\" onclick=\"quickchart('df-465ab2e2-4b01-42e3-912e-a2cb59d57b34')\"\n",
              "            title=\"Suggest charts\"\n",
              "            style=\"display:none;\">\n",
              "\n",
              "<svg xmlns=\"http://www.w3.org/2000/svg\" height=\"24px\"viewBox=\"0 0 24 24\"\n",
              "     width=\"24px\">\n",
              "    <g>\n",
              "        <path d=\"M19 3H5c-1.1 0-2 .9-2 2v14c0 1.1.9 2 2 2h14c1.1 0 2-.9 2-2V5c0-1.1-.9-2-2-2zM9 17H7v-7h2v7zm4 0h-2V7h2v10zm4 0h-2v-4h2v4z\"/>\n",
              "    </g>\n",
              "</svg>\n",
              "  </button>\n",
              "\n",
              "<style>\n",
              "  .colab-df-quickchart {\n",
              "      --bg-color: #E8F0FE;\n",
              "      --fill-color: #1967D2;\n",
              "      --hover-bg-color: #E2EBFA;\n",
              "      --hover-fill-color: #174EA6;\n",
              "      --disabled-fill-color: #AAA;\n",
              "      --disabled-bg-color: #DDD;\n",
              "  }\n",
              "\n",
              "  [theme=dark] .colab-df-quickchart {\n",
              "      --bg-color: #3B4455;\n",
              "      --fill-color: #D2E3FC;\n",
              "      --hover-bg-color: #434B5C;\n",
              "      --hover-fill-color: #FFFFFF;\n",
              "      --disabled-bg-color: #3B4455;\n",
              "      --disabled-fill-color: #666;\n",
              "  }\n",
              "\n",
              "  .colab-df-quickchart {\n",
              "    background-color: var(--bg-color);\n",
              "    border: none;\n",
              "    border-radius: 50%;\n",
              "    cursor: pointer;\n",
              "    display: none;\n",
              "    fill: var(--fill-color);\n",
              "    height: 32px;\n",
              "    padding: 0;\n",
              "    width: 32px;\n",
              "  }\n",
              "\n",
              "  .colab-df-quickchart:hover {\n",
              "    background-color: var(--hover-bg-color);\n",
              "    box-shadow: 0 1px 2px rgba(60, 64, 67, 0.3), 0 1px 3px 1px rgba(60, 64, 67, 0.15);\n",
              "    fill: var(--button-hover-fill-color);\n",
              "  }\n",
              "\n",
              "  .colab-df-quickchart-complete:disabled,\n",
              "  .colab-df-quickchart-complete:disabled:hover {\n",
              "    background-color: var(--disabled-bg-color);\n",
              "    fill: var(--disabled-fill-color);\n",
              "    box-shadow: none;\n",
              "  }\n",
              "\n",
              "  .colab-df-spinner {\n",
              "    border: 2px solid var(--fill-color);\n",
              "    border-color: transparent;\n",
              "    border-bottom-color: var(--fill-color);\n",
              "    animation:\n",
              "      spin 1s steps(1) infinite;\n",
              "  }\n",
              "\n",
              "  @keyframes spin {\n",
              "    0% {\n",
              "      border-color: transparent;\n",
              "      border-bottom-color: var(--fill-color);\n",
              "      border-left-color: var(--fill-color);\n",
              "    }\n",
              "    20% {\n",
              "      border-color: transparent;\n",
              "      border-left-color: var(--fill-color);\n",
              "      border-top-color: var(--fill-color);\n",
              "    }\n",
              "    30% {\n",
              "      border-color: transparent;\n",
              "      border-left-color: var(--fill-color);\n",
              "      border-top-color: var(--fill-color);\n",
              "      border-right-color: var(--fill-color);\n",
              "    }\n",
              "    40% {\n",
              "      border-color: transparent;\n",
              "      border-right-color: var(--fill-color);\n",
              "      border-top-color: var(--fill-color);\n",
              "    }\n",
              "    60% {\n",
              "      border-color: transparent;\n",
              "      border-right-color: var(--fill-color);\n",
              "    }\n",
              "    80% {\n",
              "      border-color: transparent;\n",
              "      border-right-color: var(--fill-color);\n",
              "      border-bottom-color: var(--fill-color);\n",
              "    }\n",
              "    90% {\n",
              "      border-color: transparent;\n",
              "      border-bottom-color: var(--fill-color);\n",
              "    }\n",
              "  }\n",
              "</style>\n",
              "\n",
              "  <script>\n",
              "    async function quickchart(key) {\n",
              "      const quickchartButtonEl =\n",
              "        document.querySelector('#' + key + ' button');\n",
              "      quickchartButtonEl.disabled = true;  // To prevent multiple clicks.\n",
              "      quickchartButtonEl.classList.add('colab-df-spinner');\n",
              "      try {\n",
              "        const charts = await google.colab.kernel.invokeFunction(\n",
              "            'suggestCharts', [key], {});\n",
              "      } catch (error) {\n",
              "        console.error('Error during call to suggestCharts:', error);\n",
              "      }\n",
              "      quickchartButtonEl.classList.remove('colab-df-spinner');\n",
              "      quickchartButtonEl.classList.add('colab-df-quickchart-complete');\n",
              "    }\n",
              "    (() => {\n",
              "      let quickchartButtonEl =\n",
              "        document.querySelector('#df-465ab2e2-4b01-42e3-912e-a2cb59d57b34 button');\n",
              "      quickchartButtonEl.style.display =\n",
              "        google.colab.kernel.accessAllowed ? 'block' : 'none';\n",
              "    })();\n",
              "  </script>\n",
              "</div>\n",
              "    </div>\n",
              "  </div>\n"
            ],
            "application/vnd.google.colaboratory.intrinsic+json": {
              "type": "dataframe"
            }
          },
          "metadata": {},
          "execution_count": 12
        }
      ],
      "source": [
        "accid=usag.merge(vhc, on=['Num_Acc','id_vehicule'],how='left').merge(carac,on='Num_Acc',how='left')\n",
        "accid.tail()"
      ]
    },
    {
      "cell_type": "code",
      "execution_count": 13,
      "metadata": {
        "id": "GQsP0RJAQzG7",
        "colab": {
          "base_uri": "https://localhost:8080/"
        },
        "outputId": "883a8a9c-fd93-4762-8282-ec9033d56314"
      },
      "outputs": [
        {
          "output_type": "stream",
          "name": "stdout",
          "text": [
            "<class 'pandas.core.frame.DataFrame'>\n",
            "Int64Index: 129153 entries, 0 to 129152\n",
            "Data columns (total 37 columns):\n",
            " #   Column       Non-Null Count   Dtype  \n",
            "---  ------       --------------   -----  \n",
            " 0   Num_Acc      129153 non-null  int64  \n",
            " 1   id_vehicule  129153 non-null  object \n",
            " 2   place        129153 non-null  int64  \n",
            " 3   catu         129153 non-null  int64  \n",
            " 4   grav         129153 non-null  int64  \n",
            " 5   sexe         129153 non-null  int64  \n",
            " 6   an_nais      126086 non-null  float64\n",
            " 7   trajet       129153 non-null  int64  \n",
            " 8   secu1        129153 non-null  int64  \n",
            " 9   secu2        129153 non-null  int64  \n",
            " 10  secu3        129153 non-null  int64  \n",
            " 11  locp         129153 non-null  int64  \n",
            " 12  actp         129153 non-null  object \n",
            " 13  etatp        129153 non-null  int64  \n",
            " 14  catv         129153 non-null  int64  \n",
            " 15  obs          129153 non-null  int64  \n",
            " 16  obsm         129153 non-null  int64  \n",
            " 17  motor        129153 non-null  int64  \n",
            " 18  occutc       1353 non-null    float64\n",
            " 19  jour         129153 non-null  int64  \n",
            " 20  mois         129153 non-null  int64  \n",
            " 21  an           129153 non-null  int64  \n",
            " 22  hrmn         129153 non-null  object \n",
            " 23  lum          129153 non-null  int64  \n",
            " 24  dep          129153 non-null  object \n",
            " 25  agg          129153 non-null  int64  \n",
            " 26  int          129153 non-null  int64  \n",
            " 27  atm          129153 non-null  int64  \n",
            " 28  col          129153 non-null  int64  \n",
            " 29  lat          129153 non-null  object \n",
            " 30  long         129153 non-null  object \n",
            " 31  catr         129153 non-null  int64  \n",
            " 32  circ         129153 non-null  int64  \n",
            " 33  nbv          129153 non-null  int64  \n",
            " 34  prof         129153 non-null  int64  \n",
            " 35  surf         129153 non-null  int64  \n",
            " 36  vma          129153 non-null  int64  \n",
            "dtypes: float64(2), int64(29), object(6)\n",
            "memory usage: 37.4+ MB\n"
          ]
        }
      ],
      "source": [
        "accid.info()"
      ]
    },
    {
      "cell_type": "code",
      "execution_count": 14,
      "metadata": {
        "id": "E1_ngZrLQzG7"
      },
      "outputs": [],
      "source": [
        "# We change the latitude and longitude to float. Previously, you have to replace the comma in these fields with a period\n",
        "accid['long']=accid['long'].str.replace(',','.').astype(float)\n",
        "accid['lat']=accid['lat'].str.replace(',','.').astype(float)"
      ]
    },
    {
      "cell_type": "code",
      "execution_count": 15,
      "metadata": {
        "id": "ocMsI-RYQzG7",
        "colab": {
          "base_uri": "https://localhost:8080/",
          "height": 233
        },
        "outputId": "3e99633e-883d-43f6-ec7b-9b75808161e6"
      },
      "outputs": [
        {
          "output_type": "execute_result",
          "data": {
            "text/plain": [
              "             Num_Acc id_vehicule  place  catu  grav  sexe  an_nais  trajet  \\\n",
              "129148  202100056516     100 885      1     1     4     1   1975.0       0   \n",
              "129149  202100056516     100 886      1     1     4     1   2002.0       5   \n",
              "129150  202100056517     100 884      1     1     3     1   1999.0       0   \n",
              "129151  202100056518     100 882      1     1     3     1   1968.0       3   \n",
              "129152  202100056518     100 883      1     1     3     1   1985.0       3   \n",
              "\n",
              "        secu1  secu2  ...  atm  col        lat      long  catr  circ  nbv  \\\n",
              "129148      1     -1  ...    2    1  44.911210  5.019636     3     2    2   \n",
              "129149      1     -1  ...    2    1  44.911210  5.019636     3     2    2   \n",
              "129150      0     -1  ...    1    6  44.954275 -0.517921     4     2    2   \n",
              "129151      1      0  ...    3    1  48.796670  2.050500     3     2    2   \n",
              "129152      1      0  ...    3    1  48.796670  2.050500     3     2    2   \n",
              "\n",
              "        prof  surf  vma  \n",
              "129148     2     2   80  \n",
              "129149     2     2   80  \n",
              "129150     1     2   80  \n",
              "129151     1     2   70  \n",
              "129152     1     2   70  \n",
              "\n",
              "[5 rows x 37 columns]"
            ],
            "text/html": [
              "\n",
              "  <div id=\"df-bb9d78e9-94bf-49af-b824-2fe400715c3c\" class=\"colab-df-container\">\n",
              "    <div>\n",
              "<style scoped>\n",
              "    .dataframe tbody tr th:only-of-type {\n",
              "        vertical-align: middle;\n",
              "    }\n",
              "\n",
              "    .dataframe tbody tr th {\n",
              "        vertical-align: top;\n",
              "    }\n",
              "\n",
              "    .dataframe thead th {\n",
              "        text-align: right;\n",
              "    }\n",
              "</style>\n",
              "<table border=\"1\" class=\"dataframe\">\n",
              "  <thead>\n",
              "    <tr style=\"text-align: right;\">\n",
              "      <th></th>\n",
              "      <th>Num_Acc</th>\n",
              "      <th>id_vehicule</th>\n",
              "      <th>place</th>\n",
              "      <th>catu</th>\n",
              "      <th>grav</th>\n",
              "      <th>sexe</th>\n",
              "      <th>an_nais</th>\n",
              "      <th>trajet</th>\n",
              "      <th>secu1</th>\n",
              "      <th>secu2</th>\n",
              "      <th>...</th>\n",
              "      <th>atm</th>\n",
              "      <th>col</th>\n",
              "      <th>lat</th>\n",
              "      <th>long</th>\n",
              "      <th>catr</th>\n",
              "      <th>circ</th>\n",
              "      <th>nbv</th>\n",
              "      <th>prof</th>\n",
              "      <th>surf</th>\n",
              "      <th>vma</th>\n",
              "    </tr>\n",
              "  </thead>\n",
              "  <tbody>\n",
              "    <tr>\n",
              "      <th>129148</th>\n",
              "      <td>202100056516</td>\n",
              "      <td>100 885</td>\n",
              "      <td>1</td>\n",
              "      <td>1</td>\n",
              "      <td>4</td>\n",
              "      <td>1</td>\n",
              "      <td>1975.0</td>\n",
              "      <td>0</td>\n",
              "      <td>1</td>\n",
              "      <td>-1</td>\n",
              "      <td>...</td>\n",
              "      <td>2</td>\n",
              "      <td>1</td>\n",
              "      <td>44.911210</td>\n",
              "      <td>5.019636</td>\n",
              "      <td>3</td>\n",
              "      <td>2</td>\n",
              "      <td>2</td>\n",
              "      <td>2</td>\n",
              "      <td>2</td>\n",
              "      <td>80</td>\n",
              "    </tr>\n",
              "    <tr>\n",
              "      <th>129149</th>\n",
              "      <td>202100056516</td>\n",
              "      <td>100 886</td>\n",
              "      <td>1</td>\n",
              "      <td>1</td>\n",
              "      <td>4</td>\n",
              "      <td>1</td>\n",
              "      <td>2002.0</td>\n",
              "      <td>5</td>\n",
              "      <td>1</td>\n",
              "      <td>-1</td>\n",
              "      <td>...</td>\n",
              "      <td>2</td>\n",
              "      <td>1</td>\n",
              "      <td>44.911210</td>\n",
              "      <td>5.019636</td>\n",
              "      <td>3</td>\n",
              "      <td>2</td>\n",
              "      <td>2</td>\n",
              "      <td>2</td>\n",
              "      <td>2</td>\n",
              "      <td>80</td>\n",
              "    </tr>\n",
              "    <tr>\n",
              "      <th>129150</th>\n",
              "      <td>202100056517</td>\n",
              "      <td>100 884</td>\n",
              "      <td>1</td>\n",
              "      <td>1</td>\n",
              "      <td>3</td>\n",
              "      <td>1</td>\n",
              "      <td>1999.0</td>\n",
              "      <td>0</td>\n",
              "      <td>0</td>\n",
              "      <td>-1</td>\n",
              "      <td>...</td>\n",
              "      <td>1</td>\n",
              "      <td>6</td>\n",
              "      <td>44.954275</td>\n",
              "      <td>-0.517921</td>\n",
              "      <td>4</td>\n",
              "      <td>2</td>\n",
              "      <td>2</td>\n",
              "      <td>1</td>\n",
              "      <td>2</td>\n",
              "      <td>80</td>\n",
              "    </tr>\n",
              "    <tr>\n",
              "      <th>129151</th>\n",
              "      <td>202100056518</td>\n",
              "      <td>100 882</td>\n",
              "      <td>1</td>\n",
              "      <td>1</td>\n",
              "      <td>3</td>\n",
              "      <td>1</td>\n",
              "      <td>1968.0</td>\n",
              "      <td>3</td>\n",
              "      <td>1</td>\n",
              "      <td>0</td>\n",
              "      <td>...</td>\n",
              "      <td>3</td>\n",
              "      <td>1</td>\n",
              "      <td>48.796670</td>\n",
              "      <td>2.050500</td>\n",
              "      <td>3</td>\n",
              "      <td>2</td>\n",
              "      <td>2</td>\n",
              "      <td>1</td>\n",
              "      <td>2</td>\n",
              "      <td>70</td>\n",
              "    </tr>\n",
              "    <tr>\n",
              "      <th>129152</th>\n",
              "      <td>202100056518</td>\n",
              "      <td>100 883</td>\n",
              "      <td>1</td>\n",
              "      <td>1</td>\n",
              "      <td>3</td>\n",
              "      <td>1</td>\n",
              "      <td>1985.0</td>\n",
              "      <td>3</td>\n",
              "      <td>1</td>\n",
              "      <td>0</td>\n",
              "      <td>...</td>\n",
              "      <td>3</td>\n",
              "      <td>1</td>\n",
              "      <td>48.796670</td>\n",
              "      <td>2.050500</td>\n",
              "      <td>3</td>\n",
              "      <td>2</td>\n",
              "      <td>2</td>\n",
              "      <td>1</td>\n",
              "      <td>2</td>\n",
              "      <td>70</td>\n",
              "    </tr>\n",
              "  </tbody>\n",
              "</table>\n",
              "<p>5 rows × 37 columns</p>\n",
              "</div>\n",
              "    <div class=\"colab-df-buttons\">\n",
              "\n",
              "  <div class=\"colab-df-container\">\n",
              "    <button class=\"colab-df-convert\" onclick=\"convertToInteractive('df-bb9d78e9-94bf-49af-b824-2fe400715c3c')\"\n",
              "            title=\"Convert this dataframe to an interactive table.\"\n",
              "            style=\"display:none;\">\n",
              "\n",
              "  <svg xmlns=\"http://www.w3.org/2000/svg\" height=\"24px\" viewBox=\"0 -960 960 960\">\n",
              "    <path d=\"M120-120v-720h720v720H120Zm60-500h600v-160H180v160Zm220 220h160v-160H400v160Zm0 220h160v-160H400v160ZM180-400h160v-160H180v160Zm440 0h160v-160H620v160ZM180-180h160v-160H180v160Zm440 0h160v-160H620v160Z\"/>\n",
              "  </svg>\n",
              "    </button>\n",
              "\n",
              "  <style>\n",
              "    .colab-df-container {\n",
              "      display:flex;\n",
              "      gap: 12px;\n",
              "    }\n",
              "\n",
              "    .colab-df-convert {\n",
              "      background-color: #E8F0FE;\n",
              "      border: none;\n",
              "      border-radius: 50%;\n",
              "      cursor: pointer;\n",
              "      display: none;\n",
              "      fill: #1967D2;\n",
              "      height: 32px;\n",
              "      padding: 0 0 0 0;\n",
              "      width: 32px;\n",
              "    }\n",
              "\n",
              "    .colab-df-convert:hover {\n",
              "      background-color: #E2EBFA;\n",
              "      box-shadow: 0px 1px 2px rgba(60, 64, 67, 0.3), 0px 1px 3px 1px rgba(60, 64, 67, 0.15);\n",
              "      fill: #174EA6;\n",
              "    }\n",
              "\n",
              "    .colab-df-buttons div {\n",
              "      margin-bottom: 4px;\n",
              "    }\n",
              "\n",
              "    [theme=dark] .colab-df-convert {\n",
              "      background-color: #3B4455;\n",
              "      fill: #D2E3FC;\n",
              "    }\n",
              "\n",
              "    [theme=dark] .colab-df-convert:hover {\n",
              "      background-color: #434B5C;\n",
              "      box-shadow: 0px 1px 3px 1px rgba(0, 0, 0, 0.15);\n",
              "      filter: drop-shadow(0px 1px 2px rgba(0, 0, 0, 0.3));\n",
              "      fill: #FFFFFF;\n",
              "    }\n",
              "  </style>\n",
              "\n",
              "    <script>\n",
              "      const buttonEl =\n",
              "        document.querySelector('#df-bb9d78e9-94bf-49af-b824-2fe400715c3c button.colab-df-convert');\n",
              "      buttonEl.style.display =\n",
              "        google.colab.kernel.accessAllowed ? 'block' : 'none';\n",
              "\n",
              "      async function convertToInteractive(key) {\n",
              "        const element = document.querySelector('#df-bb9d78e9-94bf-49af-b824-2fe400715c3c');\n",
              "        const dataTable =\n",
              "          await google.colab.kernel.invokeFunction('convertToInteractive',\n",
              "                                                    [key], {});\n",
              "        if (!dataTable) return;\n",
              "\n",
              "        const docLinkHtml = 'Like what you see? Visit the ' +\n",
              "          '<a target=\"_blank\" href=https://colab.research.google.com/notebooks/data_table.ipynb>data table notebook</a>'\n",
              "          + ' to learn more about interactive tables.';\n",
              "        element.innerHTML = '';\n",
              "        dataTable['output_type'] = 'display_data';\n",
              "        await google.colab.output.renderOutput(dataTable, element);\n",
              "        const docLink = document.createElement('div');\n",
              "        docLink.innerHTML = docLinkHtml;\n",
              "        element.appendChild(docLink);\n",
              "      }\n",
              "    </script>\n",
              "  </div>\n",
              "\n",
              "\n",
              "<div id=\"df-73dbe69a-e97f-4c98-8d0f-4836ea932466\">\n",
              "  <button class=\"colab-df-quickchart\" onclick=\"quickchart('df-73dbe69a-e97f-4c98-8d0f-4836ea932466')\"\n",
              "            title=\"Suggest charts\"\n",
              "            style=\"display:none;\">\n",
              "\n",
              "<svg xmlns=\"http://www.w3.org/2000/svg\" height=\"24px\"viewBox=\"0 0 24 24\"\n",
              "     width=\"24px\">\n",
              "    <g>\n",
              "        <path d=\"M19 3H5c-1.1 0-2 .9-2 2v14c0 1.1.9 2 2 2h14c1.1 0 2-.9 2-2V5c0-1.1-.9-2-2-2zM9 17H7v-7h2v7zm4 0h-2V7h2v10zm4 0h-2v-4h2v4z\"/>\n",
              "    </g>\n",
              "</svg>\n",
              "  </button>\n",
              "\n",
              "<style>\n",
              "  .colab-df-quickchart {\n",
              "      --bg-color: #E8F0FE;\n",
              "      --fill-color: #1967D2;\n",
              "      --hover-bg-color: #E2EBFA;\n",
              "      --hover-fill-color: #174EA6;\n",
              "      --disabled-fill-color: #AAA;\n",
              "      --disabled-bg-color: #DDD;\n",
              "  }\n",
              "\n",
              "  [theme=dark] .colab-df-quickchart {\n",
              "      --bg-color: #3B4455;\n",
              "      --fill-color: #D2E3FC;\n",
              "      --hover-bg-color: #434B5C;\n",
              "      --hover-fill-color: #FFFFFF;\n",
              "      --disabled-bg-color: #3B4455;\n",
              "      --disabled-fill-color: #666;\n",
              "  }\n",
              "\n",
              "  .colab-df-quickchart {\n",
              "    background-color: var(--bg-color);\n",
              "    border: none;\n",
              "    border-radius: 50%;\n",
              "    cursor: pointer;\n",
              "    display: none;\n",
              "    fill: var(--fill-color);\n",
              "    height: 32px;\n",
              "    padding: 0;\n",
              "    width: 32px;\n",
              "  }\n",
              "\n",
              "  .colab-df-quickchart:hover {\n",
              "    background-color: var(--hover-bg-color);\n",
              "    box-shadow: 0 1px 2px rgba(60, 64, 67, 0.3), 0 1px 3px 1px rgba(60, 64, 67, 0.15);\n",
              "    fill: var(--button-hover-fill-color);\n",
              "  }\n",
              "\n",
              "  .colab-df-quickchart-complete:disabled,\n",
              "  .colab-df-quickchart-complete:disabled:hover {\n",
              "    background-color: var(--disabled-bg-color);\n",
              "    fill: var(--disabled-fill-color);\n",
              "    box-shadow: none;\n",
              "  }\n",
              "\n",
              "  .colab-df-spinner {\n",
              "    border: 2px solid var(--fill-color);\n",
              "    border-color: transparent;\n",
              "    border-bottom-color: var(--fill-color);\n",
              "    animation:\n",
              "      spin 1s steps(1) infinite;\n",
              "  }\n",
              "\n",
              "  @keyframes spin {\n",
              "    0% {\n",
              "      border-color: transparent;\n",
              "      border-bottom-color: var(--fill-color);\n",
              "      border-left-color: var(--fill-color);\n",
              "    }\n",
              "    20% {\n",
              "      border-color: transparent;\n",
              "      border-left-color: var(--fill-color);\n",
              "      border-top-color: var(--fill-color);\n",
              "    }\n",
              "    30% {\n",
              "      border-color: transparent;\n",
              "      border-left-color: var(--fill-color);\n",
              "      border-top-color: var(--fill-color);\n",
              "      border-right-color: var(--fill-color);\n",
              "    }\n",
              "    40% {\n",
              "      border-color: transparent;\n",
              "      border-right-color: var(--fill-color);\n",
              "      border-top-color: var(--fill-color);\n",
              "    }\n",
              "    60% {\n",
              "      border-color: transparent;\n",
              "      border-right-color: var(--fill-color);\n",
              "    }\n",
              "    80% {\n",
              "      border-color: transparent;\n",
              "      border-right-color: var(--fill-color);\n",
              "      border-bottom-color: var(--fill-color);\n",
              "    }\n",
              "    90% {\n",
              "      border-color: transparent;\n",
              "      border-bottom-color: var(--fill-color);\n",
              "    }\n",
              "  }\n",
              "</style>\n",
              "\n",
              "  <script>\n",
              "    async function quickchart(key) {\n",
              "      const quickchartButtonEl =\n",
              "        document.querySelector('#' + key + ' button');\n",
              "      quickchartButtonEl.disabled = true;  // To prevent multiple clicks.\n",
              "      quickchartButtonEl.classList.add('colab-df-spinner');\n",
              "      try {\n",
              "        const charts = await google.colab.kernel.invokeFunction(\n",
              "            'suggestCharts', [key], {});\n",
              "      } catch (error) {\n",
              "        console.error('Error during call to suggestCharts:', error);\n",
              "      }\n",
              "      quickchartButtonEl.classList.remove('colab-df-spinner');\n",
              "      quickchartButtonEl.classList.add('colab-df-quickchart-complete');\n",
              "    }\n",
              "    (() => {\n",
              "      let quickchartButtonEl =\n",
              "        document.querySelector('#df-73dbe69a-e97f-4c98-8d0f-4836ea932466 button');\n",
              "      quickchartButtonEl.style.display =\n",
              "        google.colab.kernel.accessAllowed ? 'block' : 'none';\n",
              "    })();\n",
              "  </script>\n",
              "</div>\n",
              "    </div>\n",
              "  </div>\n"
            ],
            "application/vnd.google.colaboratory.intrinsic+json": {
              "type": "dataframe"
            }
          },
          "metadata": {},
          "execution_count": 15
        }
      ],
      "source": [
        "accid.tail()"
      ]
    },
    {
      "cell_type": "markdown",
      "metadata": {
        "id": "pYqNRdH5QzG7"
      },
      "source": [
        "# PART I.  Exploratory Data Analysis (EDA)\n",
        "\n",
        "⏩ Run the cell below, which is the map of accidents involving death casualties. You should see a cluster of points. What does this cluster correspond to? What do the other (sparser) points represent?"
      ]
    },
    {
      "cell_type": "code",
      "execution_count": 16,
      "metadata": {
        "id": "lCNUucbFQzG8",
        "colab": {
          "base_uri": "https://localhost:8080/",
          "height": 847
        },
        "outputId": "b52e9756-37ec-4108-e8bb-ebe1b84df30c"
      },
      "outputs": [
        {
          "output_type": "execute_result",
          "data": {
            "text/plain": [
              "<matplotlib.collections.PathCollection at 0x7ff202dc9540>"
            ]
          },
          "metadata": {},
          "execution_count": 16
        },
        {
          "output_type": "display_data",
          "data": {
            "text/plain": [
              "<Figure size 1000x1000 with 1 Axes>"
            ],
            "image/png": "[encoded data removed]"
          },
          "metadata": {}
        }
      ],
      "source": [
        "fig, ax = plt.subplots(figsize=(10,10))\n",
        "ax.grid()\n",
        "# Map of killed\n",
        "killed=accid[accid['grav']==2]\n",
        "ax.scatter(killed['long'],killed['lat'])"
      ]
    },
    {
      "cell_type": "markdown",
      "source": [
        "On the figure latitude is plotted against the longitude.\n",
        "The cluster represents the metropolitan France. The sparse points represent other french territories around the world."
      ],
      "metadata": {
        "id": "4fYFZTiwfmpE"
      }
    },
    {
      "cell_type": "markdown",
      "source": [
        "⏩ Let us zoom: complete the code"
      ],
      "metadata": {
        "id": "-x_e_401IZlG"
      }
    },
    {
      "cell_type": "code",
      "execution_count": 17,
      "metadata": {
        "id": "kmAaqliyQzG8",
        "colab": {
          "base_uri": "https://localhost:8080/",
          "height": 1000
        },
        "outputId": "f8e64a79-484f-4eef-e312-089daa3e4dc6"
      },
      "outputs": [
        {
          "output_type": "execute_result",
          "data": {
            "text/plain": [
              "<matplotlib.legend.Legend at 0x7ff202becf10>"
            ]
          },
          "metadata": {},
          "execution_count": 17
        },
        {
          "output_type": "display_data",
          "data": {
            "text/plain": [
              "<Figure size 1500x1500 with 1 Axes>"
            ],
            "image/png": "[encoded data removed]"
          },
          "metadata": {}
        }
      ],
      "source": [
        "fig, ax = plt.subplots(figsize=(15,15))\n",
        "ax.grid()\n",
        "\n",
        "accid_met=accid[(accid['long'] >= -25) & (accid['lat'] >= 40)]\n",
        "\n",
        "line1=ax.scatter(accid_met[accid_met['grav']==3]['long'],accid_met[accid_met['grav']==3]['lat'],color='green',label='Hospitalized')\n",
        "line2=ax.scatter(accid_met[accid_met['grav']==2]['long'],accid_met[accid_met['grav']==2]['lat'],color='blue',label='Killed')\n",
        "ax.legend(handles=[line1, line2])"
      ]
    },
    {
      "cell_type": "markdown",
      "source": [
        "⏩ How many people killed in 2021? What is the proportion of deadly accidents?"
      ],
      "metadata": {
        "id": "HZRRm2DrXtSF"
      }
    },
    {
      "cell_type": "code",
      "execution_count": 18,
      "metadata": {
        "id": "AYSWm-amQzG8",
        "colab": {
          "base_uri": "https://localhost:8080/"
        },
        "outputId": "53b83142-f50f-43a6-9183-a39d9a33734f"
      },
      "outputs": [
        {
          "output_type": "stream",
          "name": "stdout",
          "text": [
            " 1    55108\n",
            " 4    51681\n",
            " 3    19085\n",
            " 2     3219\n",
            "-1       60\n",
            "Name: grav, dtype: int64\n",
            " 1    0.426688\n",
            " 4    0.400153\n",
            " 3    0.147770\n",
            " 2    0.024924\n",
            "-1    0.000465\n",
            "Name: grav, dtype: float64\n"
          ]
        }
      ],
      "source": [
        "print(accid['grav'].value_counts())\n",
        "print(accid['grav'].value_counts() / len(accid))"
      ]
    },
    {
      "cell_type": "markdown",
      "source": [
        "As per dataset description, \"2\" means that the person was killed. Thus, in that year, 3219 people were killed, which is 2.5% of all people involved in accidents"
      ],
      "metadata": {
        "id": "AIrkRz75h7N9"
      }
    },
    {
      "cell_type": "markdown",
      "source": [
        "⏩ Comment the output of the cells below"
      ],
      "metadata": {
        "id": "9QMnImL3X7Va"
      }
    },
    {
      "cell_type": "code",
      "execution_count": 19,
      "metadata": {
        "id": "eUw6sgj6QzG_",
        "colab": {
          "base_uri": "https://localhost:8080/"
        },
        "outputId": "a3e9723a-60a7-43fa-fcdc-b7fa67f9e792"
      },
      "outputs": [
        {
          "output_type": "stream",
          "name": "stdout",
          "text": [
            " 1    86196\n",
            " 2    39895\n",
            "-1     3062\n",
            "Name: sexe, dtype: int64\n"
          ]
        }
      ],
      "source": [
        "print(accid['sexe'].value_counts())"
      ]
    },
    {
      "cell_type": "markdown",
      "source": [
        "There were 86k of males involved in accidents, and only 40k of females involved. 3k of entries contain N/A."
      ],
      "metadata": {
        "id": "sRjOO0gNiqAJ"
      }
    },
    {
      "cell_type": "code",
      "execution_count": 20,
      "metadata": {
        "id": "lt_qO13pQzG_",
        "colab": {
          "base_uri": "https://localhost:8080/"
        },
        "outputId": "487ba6d2-ac09-46e6-9688-5ce39c4e608c"
      },
      "outputs": [
        {
          "output_type": "stream",
          "name": "stdout",
          "text": [
            "Repartition of men casualties : \n",
            " 1    37163\n",
            "4    32873\n",
            "3    13640\n",
            "2     2520\n",
            "Name: grav, dtype: int64 \n",
            "\n",
            "Repartition of women casualties : \n",
            " 4    18808\n",
            "1    14943\n",
            "3     5445\n",
            "2      699\n",
            "Name: grav, dtype: int64\n"
          ]
        }
      ],
      "source": [
        "print('Repartition of men casualties : \\n', accid[accid['sexe']==1]['grav'].value_counts(), '\\n')\n",
        "print('Repartition of women casualties : \\n', accid[accid['sexe']==2]['grav'].value_counts())"
      ]
    },
    {
      "cell_type": "markdown",
      "source": [
        "Approximately 3% of males are killed (more than average), and 1.8% of females.\n",
        "However, on average, male is the most likely to end up uninjured (1), and female is most likely to end up slightly injured (4)."
      ],
      "metadata": {
        "id": "FOW1bLdli36v"
      }
    },
    {
      "cell_type": "code",
      "execution_count": 21,
      "metadata": {
        "id": "e8bRg9VxQzG_",
        "colab": {
          "base_uri": "https://localhost:8080/"
        },
        "outputId": "f0da8f7c-a731-4f41-cefa-15cc3a6e2681"
      },
      "outputs": [
        {
          "output_type": "stream",
          "name": "stdout",
          "text": [
            "Accidents in built-up areas (2) and outside built-up areas (1) ; \n",
            "  2    80749\n",
            "1    48404\n",
            "Name: agg, dtype: int64 \n",
            "\n",
            "Repartition of accidents in built-up areas : \n",
            "  1    36526\n",
            " 4    34024\n",
            " 3     9079\n",
            " 2     1067\n",
            "-1       53\n",
            "Name: grav, dtype: int64 \n",
            "\n",
            "Repartition of accidents outside built-up areas : \n",
            "  1    18582\n",
            " 4    17657\n",
            " 3    10006\n",
            " 2     2152\n",
            "-1        7\n",
            "Name: grav, dtype: int64 \n",
            "\n"
          ]
        }
      ],
      "source": [
        "print('Accidents in built-up areas (2) and outside built-up areas (1) ; \\n ',accid['agg'].value_counts(), '\\n')\n",
        "print('Repartition of accidents in built-up areas : \\n', accid[accid['agg']==2]['grav'].value_counts(), '\\n')\n",
        "print('Repartition of accidents outside built-up areas : \\n', accid[accid['agg']==1]['grav'].value_counts(), '\\n')"
      ]
    },
    {
      "cell_type": "markdown",
      "source": [
        "More accidents happen in built-up areas. Additionally, in built up areas 45% of people are left uninjured, whereas outside those areas it is only ~26%. As well, on average much more people get wounded and hospitalized(3), or killed(2) outside built-up areas. In my opinion, this could be attributed to the fact that vehicles drive faster outside those areas."
      ],
      "metadata": {
        "id": "Y9RRW5XYj3HS"
      }
    },
    {
      "cell_type": "markdown",
      "metadata": {
        "id": "k9bBjCllQzHA"
      },
      "source": [
        "### Formatting data for processing by the ML algorithm\n",
        "\n",
        "Most features are categorical.\n",
        "We will examine them one by one, possibly eliminating them, cleaning them up and categorizing them when necessary.\n",
        "Some rules :\n",
        "- If instances of a categorical feature are infrequent, they are combined into a single instance to avoid overfitting, otherwise the OneHot encoding will create too many new ones\n",
        "unrepresentative columns,\n",
        "- If the feature supposed to be numeric contains NaN, put them say at the average value of the numeric instances,\n",
        "- If the digital feature contains an outlier, clip it,\n",
        "- If \"common sense\" tells us that a feature is unlikely to have an impact on the performance of the algorithm, we eliminate it outright."
      ]
    },
    {
      "cell_type": "code",
      "execution_count": 22,
      "metadata": {
        "id": "C6vsBp4fQzHA",
        "colab": {
          "base_uri": "https://localhost:8080/"
        },
        "outputId": "6fabbf39-dc7e-4f12-b36c-af107b43d946"
      },
      "outputs": [
        {
          "output_type": "execute_result",
          "data": {
            "text/plain": [
              " 1    55108\n",
              " 4    51681\n",
              " 3    19085\n",
              " 2     3219\n",
              "-1       60\n",
              "Name: grav, dtype: int64"
            ]
          },
          "metadata": {},
          "execution_count": 22
        }
      ],
      "source": [
        "# First of all, let's identify the possible lines for which the severity of the accident is unknown\n",
        "accid['grav'].value_counts()"
      ]
    },
    {
      "cell_type": "markdown",
      "source": [
        "We drop the 60 accident of unknown severity from the data set"
      ],
      "metadata": {
        "id": "8xpFkoNUYU4A"
      }
    },
    {
      "cell_type": "code",
      "execution_count": 23,
      "metadata": {
        "id": "z66L_B9bQzHA"
      },
      "outputs": [],
      "source": [
        "# There are 60 accidents of unknown severity. We eliminate them.\n",
        "accid.drop(accid[accid['grav'] == -1].index, inplace = True)"
      ]
    },
    {
      "cell_type": "markdown",
      "source": [
        "⏩ Create a new column named `severe`, whose value is equal to one if the accident has severity `grav` 2 (hospital) or 3 (killed), and zero otherwise."
      ],
      "metadata": {
        "id": "mTRq3trOYesi"
      }
    },
    {
      "cell_type": "code",
      "source": [
        "accid['severe'] = accid['grav'].apply(lambda x:int(x==2 or x==3))"
      ],
      "metadata": {
        "id": "SlDVwo4FdOqr"
      },
      "execution_count": 24,
      "outputs": []
    },
    {
      "cell_type": "markdown",
      "source": [
        "⏩ What is the ratio of severe accidents among all accidents?"
      ],
      "metadata": {
        "id": "25RnPWL2xr_x"
      }
    },
    {
      "cell_type": "code",
      "source": [
        "accid['severe'].value_counts() / len(accid[\"severe\"])"
      ],
      "metadata": {
        "id": "jvJ73NpMgEAK",
        "colab": {
          "base_uri": "https://localhost:8080/"
        },
        "outputId": "84054211-b74e-4bde-84fb-53db7e27400e"
      },
      "execution_count": 25,
      "outputs": [
        {
          "output_type": "execute_result",
          "data": {
            "text/plain": [
              "0    0.827225\n",
              "1    0.172775\n",
              "Name: severe, dtype: float64"
            ]
          },
          "metadata": {},
          "execution_count": 25
        }
      ]
    },
    {
      "cell_type": "markdown",
      "source": [
        "17% of accidents are severe"
      ],
      "metadata": {
        "id": "MA7iLpnQmpr2"
      }
    },
    {
      "cell_type": "markdown",
      "source": [
        "⏩ We investigate the 'place' feature. Explain what the following code is doing."
      ],
      "metadata": {
        "id": "p0KamthbgE0l"
      }
    },
    {
      "cell_type": "code",
      "source": [
        "print(accid['place'].value_counts())\n",
        "pd.get_dummies(accid['place']).corrwith(accid['severe'])"
      ],
      "metadata": {
        "id": "CD59OZhAgbCL",
        "colab": {
          "base_uri": "https://localhost:8080/"
        },
        "outputId": "ae578246-a5c6-40d2-ae7a-d4cceac9909e"
      },
      "execution_count": 26,
      "outputs": [
        {
          "output_type": "stream",
          "name": "stdout",
          "text": [
            "1     96985\n",
            "2     14452\n",
            "10     9474\n",
            "3      2474\n",
            "4      2228\n",
            "9      1187\n",
            "7      1101\n",
            "5       608\n",
            "8       437\n",
            "6       147\n",
            "Name: place, dtype: int64\n"
          ]
        },
        {
          "output_type": "execute_result",
          "data": {
            "text/plain": [
              "1    -0.055343\n",
              "2    -0.002466\n",
              "3    -0.022634\n",
              "4    -0.023905\n",
              "5    -0.007795\n",
              "6    -0.002064\n",
              "7     0.015102\n",
              "8     0.005820\n",
              "9     0.008784\n",
              "10    0.111036\n",
              "dtype: float64"
            ]
          },
          "metadata": {},
          "execution_count": 26
        }
      ]
    },
    {
      "cell_type": "markdown",
      "source": [
        "This code first outputs the number of accidents at each place (we see that places 5,6,8 have very little amount of accidents). Next, the code outputs the correlation of the severity of injuries and the place of accident.\n",
        "\n",
        "For example places from 1 to 6 correlate with less severe accidents, and places 7-10 with more severe."
      ],
      "metadata": {
        "id": "aIyQbxCyoBbq"
      }
    },
    {
      "cell_type": "markdown",
      "metadata": {
        "id": "VObqJjV1QzHB"
      },
      "source": [
        "Places -1, 6, 8 and 5 are not very representative and have little correlation with the severity of the accident. We will merge them into a single value, for example 20."
      ]
    },
    {
      "cell_type": "code",
      "execution_count": 27,
      "metadata": {
        "id": "m1ETIIX1QzHB"
      },
      "outputs": [],
      "source": [
        "accid.place.replace([-1,6,8,5], 20,inplace=True)"
      ]
    },
    {
      "cell_type": "markdown",
      "source": [
        "⏩ Inspect the catu attribute (1=driver, 2=passenger, 3=pedestrian). Which of these values is the most correlated with the severity of the accident?"
      ],
      "metadata": {
        "id": "6y79-tVXi8UX"
      }
    },
    {
      "cell_type": "code",
      "source": [
        "pd.get_dummies(accid['catu']).corrwith(accid['severe'])"
      ],
      "metadata": {
        "id": "6W1tvMsdjmPE",
        "colab": {
          "base_uri": "https://localhost:8080/"
        },
        "outputId": "100c743c-f785-44d4-9115-9cbcec699141"
      },
      "execution_count": 28,
      "outputs": [
        {
          "output_type": "execute_result",
          "data": {
            "text/plain": [
              "1   -0.055758\n",
              "2   -0.012967\n",
              "3    0.111036\n",
              "dtype: float64"
            ]
          },
          "metadata": {},
          "execution_count": 28
        }
      ]
    },
    {
      "cell_type": "markdown",
      "source": [
        "Pedestrians (3) value is the most correlated."
      ],
      "metadata": {
        "id": "TIyBXes7oiWa"
      }
    },
    {
      "cell_type": "markdown",
      "source": [
        "⏩ Inspect the 'trajet' column. What type of travel seems to be correlated with severe injuries?"
      ],
      "metadata": {
        "id": "Yn7NGevAnMqS"
      }
    },
    {
      "cell_type": "code",
      "source": [
        "pd.get_dummies(accid[\"trajet\"]).corrwith(accid[\"severe\"])"
      ],
      "metadata": {
        "id": "S2YaIK1Hly0T",
        "colab": {
          "base_uri": "https://localhost:8080/"
        },
        "outputId": "8f4bdcec-8c39-4896-8463-bb3893a6477b"
      },
      "execution_count": 29,
      "outputs": [
        {
          "output_type": "execute_result",
          "data": {
            "text/plain": [
              "-1   -0.069031\n",
              " 0   -0.039289\n",
              " 1   -0.020816\n",
              " 2   -0.004075\n",
              " 3    0.030191\n",
              " 4   -0.088147\n",
              " 5    0.131597\n",
              " 9   -0.025498\n",
              "dtype: float64"
            ]
          },
          "metadata": {},
          "execution_count": 29
        }
      ]
    },
    {
      "cell_type": "markdown",
      "source": [
        "5 = Walk-leisure is the most correlated"
      ],
      "metadata": {
        "id": "kUrAhw5wo8GG"
      }
    },
    {
      "cell_type": "markdown",
      "source": [
        "⏩ Inspect the 'an_nais' column, which corresponds to the birth year. In case you find that there are missing values, do something appropriate."
      ],
      "metadata": {
        "id": "b8NwMmx0kQzp"
      }
    },
    {
      "cell_type": "code",
      "execution_count": 30,
      "metadata": {
        "id": "tXDgPTQcQzHC",
        "colab": {
          "base_uri": "https://localhost:8080/"
        },
        "outputId": "4c4e9f67-007c-4a78-ed54-5a639309ce31"
      },
      "outputs": [
        {
          "output_type": "execute_result",
          "data": {
            "text/plain": [
              "3007"
            ]
          },
          "metadata": {},
          "execution_count": 30
        }
      ],
      "source": [
        "accid['an_nais'].isnull().sum()"
      ]
    },
    {
      "cell_type": "code",
      "execution_count": 31,
      "metadata": {
        "id": "bZOXVbwHQzHC"
      },
      "outputs": [],
      "source": [
        "accid[\"an_nais\"] = accid[\"an_nais\"].fillna(accid['an_nais'].mean())"
      ]
    },
    {
      "cell_type": "markdown",
      "source": [
        "we fill null values with the mean birth year."
      ],
      "metadata": {
        "id": "Vip32kGv3I6q"
      }
    },
    {
      "cell_type": "markdown",
      "source": [
        "We transform secu1, secu2 and secu3 => security equipment.\n",
        "\n",
        " There are three columns because a user can use up to three devices.\n",
        "\n",
        " We do a OneHot encoding \"by hand\""
      ],
      "metadata": {
        "id": "YOW_LVHeoTIS"
      }
    },
    {
      "cell_type": "code",
      "source": [
        "accid['belt'] = accid[['secu1','secu2','secu3']].apply(lambda x:int((x[0]==1)|(x[1]==1)|(x[2]==1)),axis=1)\n",
        "accid['helmet'] = accid[['secu1','secu2','secu3']].apply(lambda x:int((x[0]==2)|(x[1]==2)|(x[2]==2)),axis=1)\n",
        "accid['child_equip'] = accid[['secu1','secu2','secu3']].apply(lambda x:int((x[0]==3)|(x[1]==3)|(x[2]==3)),axis=1)\n",
        "accid['airbag'] = accid[['secu1','secu2','secu3']].apply(lambda x:int((x[0]==5)|(x[1]==5)|(x[2]==5)),axis=1)\n",
        "accid['no_equip'] = accid[['secu1','secu2','secu3']].apply(lambda x:int((x[0]==0)&(x[1]==0)&(x[2]==0)),axis=1)\n"
      ],
      "metadata": {
        "id": "rokIWaFUogSU"
      },
      "execution_count": 32,
      "outputs": []
    },
    {
      "cell_type": "markdown",
      "source": [
        "⏩ Drop 'secu1','secu2','secu3' columns"
      ],
      "metadata": {
        "id": "Q5sNJthsqjjj"
      }
    },
    {
      "cell_type": "code",
      "source": [
        "accid.drop(columns=[\"secu1\", \"secu2\", \"secu3\"], inplace=True)"
      ],
      "metadata": {
        "id": "SvAFRF6Mqeyd"
      },
      "execution_count": 33,
      "outputs": []
    },
    {
      "cell_type": "markdown",
      "source": [
        "Inspect the vma columns, which corresponds to the maximal speed in km/h. Draw a boxplot of the column. Are some values absurd?"
      ],
      "metadata": {
        "id": "c1gNHj2zr0fg"
      }
    },
    {
      "cell_type": "code",
      "source": [
        "accid[[\"vma\"]].boxplot()"
      ],
      "metadata": {
        "id": "6zH7u-R3sJ6G",
        "colab": {
          "base_uri": "https://localhost:8080/",
          "height": 447
        },
        "outputId": "37f5ceba-f44e-4e51-9855-c1a8ddd1e2be"
      },
      "execution_count": 34,
      "outputs": [
        {
          "output_type": "execute_result",
          "data": {
            "text/plain": [
              "<Axes: >"
            ]
          },
          "metadata": {},
          "execution_count": 34
        },
        {
          "output_type": "display_data",
          "data": {
            "text/plain": [
              "<Figure size 640x480 with 1 Axes>"
            ],
            "image/png": "[encoded data removed]"
          },
          "metadata": {}
        }
      ]
    },
    {
      "cell_type": "markdown",
      "source": [
        "We see on the boxplot outliers which have very hight values. For example, above 400 km/h"
      ],
      "metadata": {
        "id": "H7ceUMqPtHyD"
      }
    },
    {
      "cell_type": "markdown",
      "source": [
        "⏩ What is the following code doing?"
      ],
      "metadata": {
        "id": "I-rFiiQKsbcv"
      }
    },
    {
      "cell_type": "code",
      "source": [
        "accid['vma_clipped'] = accid['vma'].clip(lower = 0, upper = 130)"
      ],
      "metadata": {
        "id": "-sQK-3HBsjH6"
      },
      "execution_count": 35,
      "outputs": []
    },
    {
      "cell_type": "markdown",
      "source": [
        "If entry has value >130, it will assign 130 to it. If value < 0, then it assigns 0 to it."
      ],
      "metadata": {
        "id": "IL60tEnvtmrV"
      }
    },
    {
      "cell_type": "markdown",
      "source": [
        "# PART 2. Binary Classification\n",
        "We propose to keep the following columns. Note that there are many columns for which we did not use any feature engineering or cleansing, feel free to do it in order to improve the results!"
      ],
      "metadata": {
        "id": "W5V6SE4Bui2k"
      }
    },
    {
      "cell_type": "code",
      "source": [
        "columns_to_keep = ['place', 'catu', 'sexe', 'an_nais',\n",
        "       'trajet', 'lum', 'agg','surf',\n",
        "       'atm',  'belt', 'helmet', 'child_equip', 'airbag', 'no_equip',\n",
        "       'vma_clipped','locp',  'etatp', 'catv', 'obs', 'obsm', 'motor', 'int','catr', 'circ', 'nbv', 'prof']\n",
        "accid[columns_to_keep].info()"
      ],
      "metadata": {
        "id": "TvHumShhCkP1",
        "colab": {
          "base_uri": "https://localhost:8080/"
        },
        "outputId": "9069496b-1bfa-40ea-c4af-c3d756dcc1f8"
      },
      "execution_count": 36,
      "outputs": [
        {
          "output_type": "stream",
          "name": "stdout",
          "text": [
            "<class 'pandas.core.frame.DataFrame'>\n",
            "Int64Index: 129093 entries, 0 to 129152\n",
            "Data columns (total 26 columns):\n",
            " #   Column       Non-Null Count   Dtype  \n",
            "---  ------       --------------   -----  \n",
            " 0   place        129093 non-null  int64  \n",
            " 1   catu         129093 non-null  int64  \n",
            " 2   sexe         129093 non-null  int64  \n",
            " 3   an_nais      129093 non-null  float64\n",
            " 4   trajet       129093 non-null  int64  \n",
            " 5   lum          129093 non-null  int64  \n",
            " 6   agg          129093 non-null  int64  \n",
            " 7   surf         129093 non-null  int64  \n",
            " 8   atm          129093 non-null  int64  \n",
            " 9   belt         129093 non-null  int64  \n",
            " 10  helmet       129093 non-null  int64  \n",
            " 11  child_equip  129093 non-null  int64  \n",
            " 12  airbag       129093 non-null  int64  \n",
            " 13  no_equip     129093 non-null  int64  \n",
            " 14  vma_clipped  129093 non-null  int64  \n",
            " 15  locp         129093 non-null  int64  \n",
            " 16  etatp        129093 non-null  int64  \n",
            " 17  catv         129093 non-null  int64  \n",
            " 18  obs          129093 non-null  int64  \n",
            " 19  obsm         129093 non-null  int64  \n",
            " 20  motor        129093 non-null  int64  \n",
            " 21  int          129093 non-null  int64  \n",
            " 22  catr         129093 non-null  int64  \n",
            " 23  circ         129093 non-null  int64  \n",
            " 24  nbv          129093 non-null  int64  \n",
            " 25  prof         129093 non-null  int64  \n",
            "dtypes: float64(1), int64(25)\n",
            "memory usage: 26.6 MB\n"
          ]
        }
      ]
    },
    {
      "cell_type": "markdown",
      "source": [
        "⏩ Perform the train-test split, keeping only the above `columns_to_keep` list\n",
        "\n",
        "So far, we are only interested in binary classification, so the label column would be `accid['severe']`. However, we will later be interested in multiclass classification. Therefore, you can have two label columns `accid[['severe','grav']]`"
      ],
      "metadata": {
        "id": "GaAUGdprvdSd"
      }
    },
    {
      "cell_type": "code",
      "execution_count": 37,
      "metadata": {
        "id": "cVli-svMQzHE"
      },
      "outputs": [],
      "source": [
        "from sklearn.model_selection import train_test_split\n",
        "x_train, x_test, y_train, y_test = train_test_split(accid[columns_to_keep], accid[['severe','grav']],train_size=0.66) #split 1/3 for test"
      ]
    },
    {
      "cell_type": "markdown",
      "source": [
        "⏩ Run the next cell. If one had to use onehot encoding, how many columns would we have?"
      ],
      "metadata": {
        "id": "3WM4uKExaL9o"
      }
    },
    {
      "cell_type": "code",
      "source": [
        "x_train.nunique()"
      ],
      "metadata": {
        "id": "ffLmvsXwDU7h",
        "colab": {
          "base_uri": "https://localhost:8080/"
        },
        "outputId": "e261d83f-0f98-4ee9-d374-32ffeccc9e4e"
      },
      "execution_count": 105,
      "outputs": [
        {
          "output_type": "execute_result",
          "data": {
            "text/plain": [
              "place            8\n",
              "catu             3\n",
              "sexe             3\n",
              "an_nais        105\n",
              "trajet           8\n",
              "lum              5\n",
              "agg              2\n",
              "surf            10\n",
              "atm             10\n",
              "belt             2\n",
              "helmet           2\n",
              "child_equip      2\n",
              "airbag           2\n",
              "no_equip         2\n",
              "vma_clipped     24\n",
              "locp            11\n",
              "etatp            4\n",
              "catv            32\n",
              "obs             19\n",
              "obsm             8\n",
              "motor            8\n",
              "int              9\n",
              "catr             8\n",
              "circ             5\n",
              "nbv             14\n",
              "prof             5\n",
              "dtype: int64"
            ]
          },
          "metadata": {},
          "execution_count": 105
        }
      ]
    },
    {
      "cell_type": "code",
      "source": [
        "x_train.nunique().sum()"
      ],
      "metadata": {
        "colab": {
          "base_uri": "https://localhost:8080/"
        },
        "id": "h2uo8i8n2iyt",
        "outputId": "7b3ebe92-4337-4080-833c-85e94dff8059"
      },
      "execution_count": 106,
      "outputs": [
        {
          "output_type": "execute_result",
          "data": {
            "text/plain": [
              "311"
            ]
          },
          "metadata": {},
          "execution_count": 106
        }
      ]
    },
    {
      "cell_type": "markdown",
      "source": [
        "we would have 311 columns, if we used one hot encoding. Because for each feature we need 1 separate column for each unique value there. This would be a lot of columns.."
      ],
      "metadata": {
        "id": "gRmGPvZ_2ZzC"
      }
    },
    {
      "cell_type": "markdown",
      "source": [
        "Running value_counts() on some columns, we observe that some values are quite rare. They bring complexity into the model, but little information to learn from. It might be wise to merge rare values into a single \"bin\". We do not handle this here, but you may try this at home if you wish."
      ],
      "metadata": {
        "id": "9IPEZuEpiCMd"
      }
    },
    {
      "cell_type": "code",
      "source": [
        "x_train['surf'].value_counts()"
      ],
      "metadata": {
        "id": "jV4OwFNShJIS",
        "colab": {
          "base_uri": "https://localhost:8080/"
        },
        "outputId": "e57f7d82-f121-4b73-aaca-804b515b5032"
      },
      "execution_count": 39,
      "outputs": [
        {
          "output_type": "execute_result",
          "data": {
            "text/plain": [
              " 1    68875\n",
              " 2    15056\n",
              " 7      398\n",
              " 9      328\n",
              " 5      226\n",
              " 3      113\n",
              " 8      100\n",
              " 6       55\n",
              " 4       34\n",
              "-1       16\n",
              "Name: surf, dtype: int64"
            ]
          },
          "metadata": {},
          "execution_count": 39
        }
      ]
    },
    {
      "cell_type": "markdown",
      "source": [
        "## Decision tree\n",
        "⏩ Train a decision tree, using the default parameters."
      ],
      "metadata": {
        "id": "2etpPcRz5x8P"
      }
    },
    {
      "cell_type": "code",
      "source": [
        "from sklearn.tree import DecisionTreeClassifier\n",
        "dt = DecisionTreeClassifier()\n",
        "y_train0 = y_train[\"severe\"]\n",
        "dt.fit(x_train, y_train0)"
      ],
      "metadata": {
        "id": "d23He8uj56LX",
        "colab": {
          "base_uri": "https://localhost:8080/",
          "height": 74
        },
        "outputId": "452aa606-d1a6-4a83-b20e-60155b9e0508"
      },
      "execution_count": 40,
      "outputs": [
        {
          "output_type": "execute_result",
          "data": {
            "text/plain": [
              "DecisionTreeClassifier()"
            ],
            "text/html": [
              "<style>#sk-container-id-1 {color: black;background-color: white;}#sk-container-id-1 pre{padding: 0;}#sk-container-id-1 div.sk-toggleable {background-color: white;}#sk-container-id-1 label.sk-toggleable__label {cursor: pointer;display: block;width: 100%;margin-bottom: 0;padding: 0.3em;box-sizing: border-box;text-align: center;}#sk-container-id-1 label.sk-toggleable__label-arrow:before {content: \"▸\";float: left;margin-right: 0.25em;color: #696969;}#sk-container-id-1 label.sk-toggleable__label-arrow:hover:before {color: black;}#sk-container-id-1 div.sk-estimator:hover label.sk-toggleable__label-arrow:before {color: black;}#sk-container-id-1 div.sk-toggleable__content {max-height: 0;max-width: 0;overflow: hidden;text-align: left;background-color: #f0f8ff;}#sk-container-id-1 div.sk-toggleable__content pre {margin: 0.2em;color: black;border-radius: 0.25em;background-color: #f0f8ff;}#sk-container-id-1 input.sk-toggleable__control:checked~div.sk-toggleable__content {max-height: 200px;max-width: 100%;overflow: auto;}#sk-container-id-1 input.sk-toggleable__control:checked~label.sk-toggleable__label-arrow:before {content: \"▾\";}#sk-container-id-1 div.sk-estimator input.sk-toggleable__control:checked~label.sk-toggleable__label {background-color: #d4ebff;}#sk-container-id-1 div.sk-label input.sk-toggleable__control:checked~label.sk-toggleable__label {background-color: #d4ebff;}#sk-container-id-1 input.sk-hidden--visually {border: 0;clip: rect(1px 1px 1px 1px);clip: rect(1px, 1px, 1px, 1px);height: 1px;margin: -1px;overflow: hidden;padding: 0;position: absolute;width: 1px;}#sk-container-id-1 div.sk-estimator {font-family: monospace;background-color: #f0f8ff;border: 1px dotted black;border-radius: 0.25em;box-sizing: border-box;margin-bottom: 0.5em;}#sk-container-id-1 div.sk-estimator:hover {background-color: #d4ebff;}#sk-container-id-1 div.sk-parallel-item::after {content: \"\";width: 100%;border-bottom: 1px solid gray;flex-grow: 1;}#sk-container-id-1 div.sk-label:hover label.sk-toggleable__label {background-color: #d4ebff;}#sk-container-id-1 div.sk-serial::before {content: \"\";position: absolute;border-left: 1px solid gray;box-sizing: border-box;top: 0;bottom: 0;left: 50%;z-index: 0;}#sk-container-id-1 div.sk-serial {display: flex;flex-direction: column;align-items: center;background-color: white;padding-right: 0.2em;padding-left: 0.2em;position: relative;}#sk-container-id-1 div.sk-item {position: relative;z-index: 1;}#sk-container-id-1 div.sk-parallel {display: flex;align-items: stretch;justify-content: center;background-color: white;position: relative;}#sk-container-id-1 div.sk-item::before, #sk-container-id-1 div.sk-parallel-item::before {content: \"\";position: absolute;border-left: 1px solid gray;box-sizing: border-box;top: 0;bottom: 0;left: 50%;z-index: -1;}#sk-container-id-1 div.sk-parallel-item {display: flex;flex-direction: column;z-index: 1;position: relative;background-color: white;}#sk-container-id-1 div.sk-parallel-item:first-child::after {align-self: flex-end;width: 50%;}#sk-container-id-1 div.sk-parallel-item:last-child::after {align-self: flex-start;width: 50%;}#sk-container-id-1 div.sk-parallel-item:only-child::after {width: 0;}#sk-container-id-1 div.sk-dashed-wrapped {border: 1px dashed gray;margin: 0 0.4em 0.5em 0.4em;box-sizing: border-box;padding-bottom: 0.4em;background-color: white;}#sk-container-id-1 div.sk-label label {font-family: monospace;font-weight: bold;display: inline-block;line-height: 1.2em;}#sk-container-id-1 div.sk-label-container {text-align: center;}#sk-container-id-1 div.sk-container {/* jupyter's `normalize.less` sets `[hidden] { display: none; }` but bootstrap.min.css set `[hidden] { display: none !important; }` so we also need the `!important` here to be able to override the default hidden behavior on the sphinx rendered scikit-learn.org. See: https://github.com/scikit-learn/scikit-learn/issues/21755 */display: inline-block !important;position: relative;}#sk-container-id-1 div.sk-text-repr-fallback {display: none;}</style><div id=\"sk-container-id-1\" class=\"sk-top-container\"><div class=\"sk-text-repr-fallback\"><pre>DecisionTreeClassifier()</pre><b>In a Jupyter environment, please rerun this cell to show the HTML representation or trust the notebook. <br />On GitHub, the HTML representation is unable to render, please try loading this page with nbviewer.org.</b></div><div class=\"sk-container\" hidden><div class=\"sk-item\"><div class=\"sk-estimator sk-toggleable\"><input class=\"sk-toggleable__control sk-hidden--visually\" id=\"sk-estimator-id-1\" type=\"checkbox\" checked><label for=\"sk-estimator-id-1\" class=\"sk-toggleable__label sk-toggleable__label-arrow\">DecisionTreeClassifier</label><div class=\"sk-toggleable__content\"><pre>DecisionTreeClassifier()</pre></div></div></div></div></div>"
            ]
          },
          "metadata": {},
          "execution_count": 40
        }
      ]
    },
    {
      "cell_type": "markdown",
      "source": [
        "⏩ Compute the accuracy score. You should find something around 80% of correct predictions. Not bad for a decision tree?"
      ],
      "metadata": {
        "id": "68AaiRMWHOnQ"
      }
    },
    {
      "cell_type": "code",
      "source": [
        "from sklearn.metrics import accuracy_score\n",
        "y_test0 = y_test[\"severe\"]\n",
        "accuracy_score(dt.predict(x_test), y_test0)"
      ],
      "metadata": {
        "id": "wGQSM0rxFFOC",
        "colab": {
          "base_uri": "https://localhost:8080/"
        },
        "outputId": "a43d4096-9fc1-4fbd-830f-52c8251d1c85"
      },
      "execution_count": 41,
      "outputs": [
        {
          "output_type": "execute_result",
          "data": {
            "text/plain": [
              "0.7922628269388499"
            ]
          },
          "metadata": {},
          "execution_count": 41
        }
      ]
    },
    {
      "cell_type": "markdown",
      "source": [
        "⏩ Compare the accuracy of the classifier which outputs \"0\" for every input, and explain."
      ],
      "metadata": {
        "id": "ztkiXMJJHom9"
      }
    },
    {
      "cell_type": "code",
      "source": [
        "accuracy_score(np.zeros(len(y_test0)), y_test0)"
      ],
      "metadata": {
        "id": "kscFMaKBH3La",
        "colab": {
          "base_uri": "https://localhost:8080/"
        },
        "outputId": "b611e4e6-1a9a-45ac-fc3c-237f31cf0f6c"
      },
      "execution_count": 42,
      "outputs": [
        {
          "output_type": "execute_result",
          "data": {
            "text/plain": [
              "0.8276451289528843"
            ]
          },
          "metadata": {},
          "execution_count": 42
        }
      ]
    },
    {
      "cell_type": "markdown",
      "source": [
        "This shows that decision tree performs even worse, than simply guessing the lable."
      ],
      "metadata": {
        "id": "urst81aR2IdD"
      }
    },
    {
      "cell_type": "markdown",
      "source": [
        "⏩ Compute the area under the ROC curve for the decision tree"
      ],
      "metadata": {
        "id": "g7C2zMjaI2Bi"
      }
    },
    {
      "cell_type": "code",
      "source": [
        "from sklearn.metrics import roc_auc_score\n",
        "roc_auc_score(y_test0, dt.predict_proba(x_test)[:,1])"
      ],
      "metadata": {
        "id": "cdUaWSyW6l8b",
        "colab": {
          "base_uri": "https://localhost:8080/"
        },
        "outputId": "7e1715ad-9ced-46fa-c2f8-a524ece8c02b"
      },
      "execution_count": 43,
      "outputs": [
        {
          "output_type": "execute_result",
          "data": {
            "text/plain": [
              "0.6495322932434732"
            ]
          },
          "metadata": {},
          "execution_count": 43
        }
      ]
    },
    {
      "cell_type": "markdown",
      "source": [
        "## Random Forest\n",
        "⏩ Train a random forest classifier, using the default parameters.\n",
        "\n",
        "Provide the accuracy score and the AUC.\n"
      ],
      "metadata": {
        "id": "2ZqUvgy1xczD"
      }
    },
    {
      "cell_type": "code",
      "source": [
        "from sklearn.ensemble import RandomForestClassifier\n",
        "\n",
        "rf = RandomForestClassifier()\n",
        "rf.fit(x_train, y_train0)\n",
        "\n",
        "print(\"Accuracy score: \", accuracy_score(rf.predict(x_test), y_test0))\n",
        "print(\"Area under the ROC curve: \", roc_auc_score(y_test0, rf.predict_proba(x_test)[:,1]))"
      ],
      "metadata": {
        "id": "QM-TZ3_BxRae",
        "colab": {
          "base_uri": "https://localhost:8080/"
        },
        "outputId": "05d61d7e-e614-4349-950c-436d63f61a79"
      },
      "execution_count": 44,
      "outputs": [
        {
          "output_type": "stream",
          "name": "stdout",
          "text": [
            "Accuracy score:  0.8499270937756311\n",
            "Area under the ROC curve:  0.8428856390394287\n"
          ]
        }
      ]
    },
    {
      "cell_type": "markdown",
      "source": [
        "The accuracy is better than for single decision tree"
      ],
      "metadata": {
        "id": "7ICYQwSJ2rqE"
      }
    },
    {
      "cell_type": "markdown",
      "source": [
        "⏩ Now set `min_samples_split` to a higher value than the default value 2. Compare the performance, and explain.\n",
        "\n"
      ],
      "metadata": {
        "id": "-DMQ-UhL1Cp2"
      }
    },
    {
      "cell_type": "code",
      "source": [
        "accuracy = []\n",
        "param_range = range(2,30,5)\n",
        "for i in param_range:\n",
        "  rf = RandomForestClassifier(min_samples_split=i)\n",
        "  rf.fit(x_train, y_train0)\n",
        "  print(f\"min_samples_split={i}, Accuracy = {accuracy_score(rf.predict(x_test), y_test0)}\")\n",
        "  accuracy.append(accuracy_score(rf.predict(x_test), y_test0))\n",
        "\n",
        "plt.plot(list(param_range), accuracy)\n",
        "plt.show()"
      ],
      "metadata": {
        "id": "0GURT3ki05n-",
        "colab": {
          "base_uri": "https://localhost:8080/",
          "height": 535
        },
        "outputId": "46c4fea0-2713-40d6-95b3-bdfb31d0df59"
      },
      "execution_count": 45,
      "outputs": [
        {
          "output_type": "stream",
          "name": "stdout",
          "text": [
            "min_samples_split=2, Accuracy = 0.8502688417023604\n",
            "min_samples_split=7, Accuracy = 0.8554406269935295\n",
            "min_samples_split=12, Accuracy = 0.856443087578602\n",
            "min_samples_split=17, Accuracy = 0.8564886539688326\n",
            "min_samples_split=22, Accuracy = 0.8570810170418299\n",
            "min_samples_split=27, Accuracy = 0.8576733801148273\n"
          ]
        },
        {
          "output_type": "display_data",
          "data": {
            "text/plain": [
              "<Figure size 640x480 with 1 Axes>"
            ],
            "image/png": "[encoded data removed]"
          },
          "metadata": {}
        }
      ]
    },
    {
      "cell_type": "markdown",
      "source": [
        "This parameter specifies the minimum required data points in a decision region, to split it further. If this parameter is low, the space will be split into more decision regions, and vice versa. This parameter helps avoiding overfitting. Performance is slightly improved, when this parameter is greater than 2"
      ],
      "metadata": {
        "id": "BKdUNQlM206u"
      }
    },
    {
      "cell_type": "markdown",
      "source": [
        "⏩ What does the `n_estimators` parameter refers to? What is the default value? You may try to play with this parameter if time permits."
      ],
      "metadata": {
        "id": "XKCM5Bhu1WgX"
      }
    },
    {
      "cell_type": "markdown",
      "source": [
        "This parameter specifies the number of decision trees in the random forest. The default value is set to 100."
      ],
      "metadata": {
        "id": "Jtl62fS-5YSj"
      }
    },
    {
      "cell_type": "markdown",
      "source": [
        "⏩ Explain what `rf.feature_importances_` refers to. Plot bars of feature importances. Comment the result."
      ],
      "metadata": {
        "id": "rCqf2MbL2zi0"
      }
    },
    {
      "cell_type": "code",
      "source": [
        "rf_importances = pd.Series(rf.feature_importances_, index=columns_to_keep)\n",
        "rf_importances.plot.bar()\n",
        "# n.b. One should treat this information with caution.\n",
        "# Indeed, numerical attributes tend to be more often chosen as a split, because they are harder to learn than, for instance, binary attributes.\n",
        "# As a consequence, they may naturally end up with a higher feature importance"
      ],
      "metadata": {
        "id": "3ibeIVHq2ksX",
        "colab": {
          "base_uri": "https://localhost:8080/",
          "height": 521
        },
        "outputId": "bee2e535-46f1-4986-c40a-da5a18c5ef04"
      },
      "execution_count": 46,
      "outputs": [
        {
          "output_type": "execute_result",
          "data": {
            "text/plain": [
              "<Axes: >"
            ]
          },
          "metadata": {},
          "execution_count": 46
        },
        {
          "output_type": "display_data",
          "data": {
            "text/plain": [
              "<Figure size 640x480 with 1 Axes>"
            ],
            "image/png": "[encoded data removed]"
          },
          "metadata": {}
        }
      ]
    },
    {
      "cell_type": "markdown",
      "source": [
        "feature importances are calculated as a mean decrease of impurity. They are weighted by the probability of reaching that node (it could be approximated as proportion of samples there). Additionally, it is averaged over all trees in the random forest.\n",
        "\n",
        "We see that most important features are: year of birth, location of pedestrian, obstacle, usage of belt, etc."
      ],
      "metadata": {
        "id": "bYTo0Uyg9l4x"
      }
    },
    {
      "cell_type": "markdown",
      "metadata": {
        "id": "4sekF3nvQzHG"
      },
      "source": [
        "## XGBoost\n",
        "⏩ Train a XGBoost classifier, using the default parameters.\n",
        "\n",
        "Provide the accuracy score and the AUC.\n",
        "\n",
        "Try to change the `learning_rate` and `n_estimators` parameters"
      ]
    },
    {
      "cell_type": "code",
      "execution_count": 47,
      "metadata": {
        "id": "FKEyCiTiQzHG",
        "colab": {
          "base_uri": "https://localhost:8080/"
        },
        "outputId": "9221c072-7dc8-475d-ca24-c57ed7ee045e"
      },
      "outputs": [
        {
          "output_type": "stream",
          "name": "stdout",
          "text": [
            "Accuracy score:  0.8557823749202588\n",
            "Area under the ROC curve:  0.8579780750057434\n"
          ]
        }
      ],
      "source": [
        "# !pip install xgboost\n",
        "import xgboost\n",
        "from xgboost import XGBClassifier\n",
        "\n",
        "xgb = XGBClassifier()\n",
        "xgb.fit(x_train, y_train0)\n",
        "\n",
        "print(\"Accuracy score: \", accuracy_score(xgb.predict(x_test), y_test0))\n",
        "print(\"Area under the ROC curve: \", roc_auc_score(y_test0, xgb.predict_proba(x_test)[:,1]))"
      ]
    },
    {
      "cell_type": "code",
      "source": [
        "accuracy = []\n",
        "eta_range = list(map(lambda x: x/100.0, range(10, 40, 5)))\n",
        "estimators_range = range(50, 350, 50)\n",
        "x = []\n",
        "y = []\n",
        "for eta in eta_range:\n",
        "  for n_estimators in estimators_range:\n",
        "    xgb = XGBClassifier(n_estimators=n_estimators, eta=eta)\n",
        "    xgb.fit(x_train, y_train0)\n",
        "    score = accuracy_score(xgb.predict(x_test), y_test0)\n",
        "    # print(f\"eta={eta}, estim={n_estimators}, Accuracy = {score}\")\n",
        "    accuracy.append(score)\n",
        "    x.append(eta)\n",
        "    y.append(n_estimators)\n",
        "\n"
      ],
      "metadata": {
        "id": "tHK5IzlM_HRB"
      },
      "execution_count": 48,
      "outputs": []
    },
    {
      "cell_type": "code",
      "source": [
        "fig, ax = plt.subplots(figsize=(6, 6))\n",
        "scatter = ax.scatter(x, y, linewidths=1, alpha=0.7, edgecolor='k', s=200, c=accuracy)\n",
        "\n",
        "# Add colorbar\n",
        "cbar = plt.colorbar(scatter, ax=ax, label='Accuracy')\n",
        "\n",
        "plt.show()"
      ],
      "metadata": {
        "colab": {
          "base_uri": "https://localhost:8080/",
          "height": 522
        },
        "id": "89A5CeZtDWOf",
        "outputId": "d04e7f13-82f4-4318-a3b1-268b520e66e4"
      },
      "execution_count": 49,
      "outputs": [
        {
          "output_type": "display_data",
          "data": {
            "text/plain": [
              "<Figure size 600x600 with 2 Axes>"
            ],
            "image/png": "[encoded data removed]"
          },
          "metadata": {}
        }
      ]
    },
    {
      "cell_type": "markdown",
      "source": [
        "Thus, slightly better performance could be achieved by lowering the learning rate, and increasing the number of estimators along with that."
      ],
      "metadata": {
        "id": "3onEJuSCIAct"
      }
    },
    {
      "cell_type": "markdown",
      "source": [
        "## Logistic regression\n",
        "\n",
        "We now compare the result to logistic regression. To this end, we first need to onehot encode all categorical columns. We use sklearn onehotencoder.\n",
        "\n",
        "⏩ Fill the code below"
      ],
      "metadata": {
        "id": "dahC-lLGbthI"
      }
    },
    {
      "cell_type": "code",
      "source": [
        "from sklearn.preprocessing import OneHotEncoder\n",
        "\n",
        "categorical_features = ['place', 'catu', 'sexe',\n",
        "       'trajet', 'lum', 'agg','surf',\n",
        "       'atm',  'belt', 'helmet', 'child_equip', 'airbag', 'no_equip',\n",
        "       'locp',  'etatp', 'catv', 'obs', 'obsm', 'motor', 'int','catr', 'circ', 'nbv', 'prof']\n",
        "\n",
        "ec = OneHotEncoder()\n",
        "\n",
        "dummy_cols = ec.fit_transform(x_train[categorical_features])"
      ],
      "metadata": {
        "id": "37djvJpTcBw8"
      },
      "execution_count": 50,
      "outputs": []
    },
    {
      "cell_type": "markdown",
      "source": [
        "⏩ What is the type of `dummy_cols`? What is the interest of using this type?"
      ],
      "metadata": {
        "id": "QxgZmbyXlZ_o"
      }
    },
    {
      "cell_type": "code",
      "source": [
        "type(dummy_cols)"
      ],
      "metadata": {
        "id": "IiN0soe7mUz1",
        "colab": {
          "base_uri": "https://localhost:8080/",
          "height": 186
        },
        "outputId": "f1f85c09-d775-44ae-8a45-2a6699e96256"
      },
      "execution_count": 51,
      "outputs": [
        {
          "output_type": "execute_result",
          "data": {
            "text/plain": [
              "scipy.sparse._csr.csr_matrix"
            ],
            "text/html": [
              "<div style=\"max-width:800px; border: 1px solid var(--colab-border-color);\"><style>\n",
              "      pre.function-repr-contents {\n",
              "        overflow-x: auto;\n",
              "        padding: 8px 12px;\n",
              "        max-height: 500px;\n",
              "      }\n",
              "\n",
              "      pre.function-repr-contents.function-repr-contents-collapsed {\n",
              "        cursor: pointer;\n",
              "        max-height: 100px;\n",
              "      }\n",
              "    </style>\n",
              "    <pre style=\"white-space: initial; background:\n",
              "         var(--colab-secondary-surface-color); padding: 8px 12px;\n",
              "         border-bottom: 1px solid var(--colab-border-color);\"><b>scipy.sparse._csr.csr_matrix</b><br/>def __init__(arg1, shape=None, dtype=None, copy=False)</pre><pre class=\"function-repr-contents function-repr-contents-collapsed\" style=\"\"><a class=\"filepath\" style=\"display:none\" href=\"#\">/usr/local/lib/python3.10/dist-packages/scipy/sparse/_csr.py</a>Compressed Sparse Row matrix\n",
              "\n",
              "This can be instantiated in several ways:\n",
              "    csr_array(D)\n",
              "        with a dense matrix or rank-2 ndarray D\n",
              "\n",
              "    csr_array(S)\n",
              "        with another sparse matrix S (equivalent to S.tocsr())\n",
              "\n",
              "    csr_array((M, N), [dtype])\n",
              "        to construct an empty matrix with shape (M, N)\n",
              "        dtype is optional, defaulting to dtype=&#x27;d&#x27;.\n",
              "\n",
              "    csr_array((data, (row_ind, col_ind)), [shape=(M, N)])\n",
              "        where ``data``, ``row_ind`` and ``col_ind`` satisfy the\n",
              "        relationship ``a[row_ind[k], col_ind[k]] = data[k]``.\n",
              "\n",
              "    csr_array((data, indices, indptr), [shape=(M, N)])\n",
              "        is the standard CSR representation where the column indices for\n",
              "        row i are stored in ``indices[indptr[i]:indptr[i+1]]`` and their\n",
              "        corresponding values are stored in ``data[indptr[i]:indptr[i+1]]``.\n",
              "        If the shape parameter is not supplied, the matrix dimensions\n",
              "        are inferred from the index arrays.\n",
              "\n",
              "Attributes\n",
              "----------\n",
              "dtype : dtype\n",
              "    Data type of the matrix\n",
              "shape : 2-tuple\n",
              "    Shape of the matrix\n",
              "ndim : int\n",
              "    Number of dimensions (this is always 2)\n",
              "nnz\n",
              "    Number of stored values, including explicit zeros\n",
              "data\n",
              "    CSR format data array of the matrix\n",
              "indices\n",
              "    CSR format index array of the matrix\n",
              "indptr\n",
              "    CSR format index pointer array of the matrix\n",
              "has_sorted_indices\n",
              "    Whether indices are sorted\n",
              "\n",
              "Notes\n",
              "-----\n",
              "\n",
              "Sparse matrices can be used in arithmetic operations: they support\n",
              "addition, subtraction, multiplication, division, and matrix power.\n",
              "\n",
              "Advantages of the CSR format\n",
              "  - efficient arithmetic operations CSR + CSR, CSR * CSR, etc.\n",
              "  - efficient row slicing\n",
              "  - fast matrix vector products\n",
              "\n",
              "Disadvantages of the CSR format\n",
              "  - slow column slicing operations (consider CSC)\n",
              "  - changes to the sparsity structure are expensive (consider LIL or DOK)\n",
              "\n",
              "Canonical Format\n",
              "    - Within each row, indices are sorted by column.\n",
              "    - There are no duplicate entries.\n",
              "\n",
              "Examples\n",
              "--------\n",
              "\n",
              "&gt;&gt;&gt; import numpy as np\n",
              "&gt;&gt;&gt; from scipy.sparse import csr_array\n",
              "&gt;&gt;&gt; csr_array((3, 4), dtype=np.int8).toarray()\n",
              "array([[0, 0, 0, 0],\n",
              "       [0, 0, 0, 0],\n",
              "       [0, 0, 0, 0]], dtype=int8)\n",
              "\n",
              "&gt;&gt;&gt; row = np.array([0, 0, 1, 2, 2, 2])\n",
              "&gt;&gt;&gt; col = np.array([0, 2, 2, 0, 1, 2])\n",
              "&gt;&gt;&gt; data = np.array([1, 2, 3, 4, 5, 6])\n",
              "&gt;&gt;&gt; csr_array((data, (row, col)), shape=(3, 3)).toarray()\n",
              "array([[1, 0, 2],\n",
              "       [0, 0, 3],\n",
              "       [4, 5, 6]])\n",
              "\n",
              "&gt;&gt;&gt; indptr = np.array([0, 2, 3, 6])\n",
              "&gt;&gt;&gt; indices = np.array([0, 2, 2, 0, 1, 2])\n",
              "&gt;&gt;&gt; data = np.array([1, 2, 3, 4, 5, 6])\n",
              "&gt;&gt;&gt; csr_array((data, indices, indptr), shape=(3, 3)).toarray()\n",
              "array([[1, 0, 2],\n",
              "       [0, 0, 3],\n",
              "       [4, 5, 6]])\n",
              "\n",
              "Duplicate entries are summed together:\n",
              "\n",
              "&gt;&gt;&gt; row = np.array([0, 1, 2, 0])\n",
              "&gt;&gt;&gt; col = np.array([0, 1, 1, 0])\n",
              "&gt;&gt;&gt; data = np.array([1, 2, 4, 8])\n",
              "&gt;&gt;&gt; csr_array((data, (row, col)), shape=(3, 3)).toarray()\n",
              "array([[9, 0, 0],\n",
              "       [0, 2, 0],\n",
              "       [0, 4, 0]])\n",
              "\n",
              "As an example of how to construct a CSR matrix incrementally,\n",
              "the following snippet builds a term-document matrix from texts:\n",
              "\n",
              "&gt;&gt;&gt; docs = [[&quot;hello&quot;, &quot;world&quot;, &quot;hello&quot;], [&quot;goodbye&quot;, &quot;cruel&quot;, &quot;world&quot;]]\n",
              "&gt;&gt;&gt; indptr = [0]\n",
              "&gt;&gt;&gt; indices = []\n",
              "&gt;&gt;&gt; data = []\n",
              "&gt;&gt;&gt; vocabulary = {}\n",
              "&gt;&gt;&gt; for d in docs:\n",
              "...     for term in d:\n",
              "...         index = vocabulary.setdefault(term, len(vocabulary))\n",
              "...         indices.append(index)\n",
              "...         data.append(1)\n",
              "...     indptr.append(len(indices))\n",
              "...\n",
              "&gt;&gt;&gt; csr_array((data, indices, indptr), dtype=int).toarray()\n",
              "array([[2, 1, 0, 0],\n",
              "       [0, 1, 1, 1]])</pre>\n",
              "      <script>\n",
              "      if (google.colab.kernel.accessAllowed && google.colab.files && google.colab.files.view) {\n",
              "        for (const element of document.querySelectorAll('.filepath')) {\n",
              "          element.style.display = 'block'\n",
              "          element.onclick = (event) => {\n",
              "            event.preventDefault();\n",
              "            event.stopPropagation();\n",
              "            google.colab.files.view(element.textContent, 370);\n",
              "          };\n",
              "        }\n",
              "      }\n",
              "      for (const element of document.querySelectorAll('.function-repr-contents')) {\n",
              "        element.onclick = (event) => {\n",
              "          event.preventDefault();\n",
              "          event.stopPropagation();\n",
              "          element.classList.toggle('function-repr-contents-collapsed');\n",
              "        };\n",
              "      }\n",
              "      </script>\n",
              "      </div>"
            ]
          },
          "metadata": {},
          "execution_count": 51
        }
      ]
    },
    {
      "cell_type": "code",
      "source": [
        "dummy_cols.data.nbytes/dummy_cols.toarray().data.nbytes"
      ],
      "metadata": {
        "id": "G9ZQRCLInI18",
        "colab": {
          "base_uri": "https://localhost:8080/"
        },
        "outputId": "90b767bf-ebe7-4bec-e178-5925d8297c9b"
      },
      "execution_count": 52,
      "outputs": [
        {
          "output_type": "execute_result",
          "data": {
            "text/plain": [
              "0.13186813186813187"
            ]
          },
          "metadata": {},
          "execution_count": 52
        }
      ]
    },
    {
      "cell_type": "markdown",
      "source": [
        "This data type, as could be seen, is almost 10 times better than array. The thing is that one hot encoding produces sparse matrices, which are filled with zeros, and rarely with ones. Thus, to save space csr_matrix saves only the locations and values of non-zero numbers, rather than the whole matrix, as the usual array does."
      ],
      "metadata": {
        "id": "f7H_aCszIuOZ"
      }
    },
    {
      "cell_type": "markdown",
      "source": [
        "In this example, not all the attributes are categorical. We use ColumnTransformer in order to one-hot encode the categorical columns, and leave the remaining columns unchanged."
      ],
      "metadata": {
        "id": "3bl7PkAEnjOZ"
      }
    },
    {
      "cell_type": "code",
      "source": [
        "from sklearn.compose import ColumnTransformer\n",
        "transformer=ColumnTransformer( transformers=[('OneHot',OneHotEncoder(handle_unknown='ignore'),categorical_features)],remainder=\"passthrough\")\n",
        "x_train_oh = transformer.fit_transform(x_train)"
      ],
      "metadata": {
        "id": "rlCXNQTxfWx1"
      },
      "execution_count": 53,
      "outputs": []
    },
    {
      "cell_type": "markdown",
      "source": [
        "We print the first line: notice the dummy variables and the numerical variable at the end."
      ],
      "metadata": {
        "id": "PS1pEMd0slV3"
      }
    },
    {
      "cell_type": "code",
      "source": [
        "x_train_oh.toarray()[0]"
      ],
      "metadata": {
        "id": "2iWikBjZk80P",
        "colab": {
          "base_uri": "https://localhost:8080/"
        },
        "outputId": "7b04afbc-d4cf-414a-dd02-b13d8abb37dc"
      },
      "execution_count": 54,
      "outputs": [
        {
          "output_type": "execute_result",
          "data": {
            "text/plain": [
              "array([1.000e+00, 0.000e+00, 0.000e+00, 0.000e+00, 0.000e+00, 0.000e+00,\n",
              "       0.000e+00, 0.000e+00, 1.000e+00, 0.000e+00, 0.000e+00, 0.000e+00,\n",
              "       1.000e+00, 0.000e+00, 0.000e+00, 1.000e+00, 0.000e+00, 0.000e+00,\n",
              "       0.000e+00, 0.000e+00, 0.000e+00, 0.000e+00, 0.000e+00, 0.000e+00,\n",
              "       0.000e+00, 0.000e+00, 1.000e+00, 0.000e+00, 1.000e+00, 0.000e+00,\n",
              "       1.000e+00, 0.000e+00, 0.000e+00, 0.000e+00, 0.000e+00, 0.000e+00,\n",
              "       0.000e+00, 0.000e+00, 0.000e+00, 0.000e+00, 1.000e+00, 0.000e+00,\n",
              "       0.000e+00, 0.000e+00, 0.000e+00, 0.000e+00, 0.000e+00, 0.000e+00,\n",
              "       0.000e+00, 0.000e+00, 1.000e+00, 1.000e+00, 0.000e+00, 1.000e+00,\n",
              "       0.000e+00, 1.000e+00, 0.000e+00, 1.000e+00, 0.000e+00, 0.000e+00,\n",
              "       1.000e+00, 0.000e+00, 0.000e+00, 0.000e+00, 0.000e+00, 0.000e+00,\n",
              "       0.000e+00, 0.000e+00, 0.000e+00, 0.000e+00, 1.000e+00, 0.000e+00,\n",
              "       0.000e+00, 0.000e+00, 0.000e+00, 0.000e+00, 0.000e+00, 0.000e+00,\n",
              "       0.000e+00, 1.000e+00, 0.000e+00, 0.000e+00, 0.000e+00, 0.000e+00,\n",
              "       0.000e+00, 0.000e+00, 0.000e+00, 0.000e+00, 0.000e+00, 0.000e+00,\n",
              "       0.000e+00, 0.000e+00, 0.000e+00, 0.000e+00, 0.000e+00, 0.000e+00,\n",
              "       0.000e+00, 0.000e+00, 0.000e+00, 0.000e+00, 0.000e+00, 0.000e+00,\n",
              "       0.000e+00, 0.000e+00, 0.000e+00, 0.000e+00, 0.000e+00, 1.000e+00,\n",
              "       0.000e+00, 0.000e+00, 0.000e+00, 0.000e+00, 0.000e+00, 0.000e+00,\n",
              "       0.000e+00, 0.000e+00, 0.000e+00, 0.000e+00, 0.000e+00, 0.000e+00,\n",
              "       0.000e+00, 0.000e+00, 0.000e+00, 0.000e+00, 0.000e+00, 0.000e+00,\n",
              "       0.000e+00, 1.000e+00, 0.000e+00, 0.000e+00, 0.000e+00, 0.000e+00,\n",
              "       0.000e+00, 0.000e+00, 0.000e+00, 1.000e+00, 0.000e+00, 0.000e+00,\n",
              "       0.000e+00, 0.000e+00, 0.000e+00, 1.000e+00, 0.000e+00, 0.000e+00,\n",
              "       0.000e+00, 0.000e+00, 0.000e+00, 0.000e+00, 0.000e+00, 0.000e+00,\n",
              "       0.000e+00, 0.000e+00, 1.000e+00, 0.000e+00, 0.000e+00, 0.000e+00,\n",
              "       0.000e+00, 0.000e+00, 0.000e+00, 0.000e+00, 1.000e+00, 0.000e+00,\n",
              "       0.000e+00, 0.000e+00, 0.000e+00, 0.000e+00, 1.000e+00, 0.000e+00,\n",
              "       0.000e+00, 0.000e+00, 0.000e+00, 0.000e+00, 0.000e+00, 0.000e+00,\n",
              "       0.000e+00, 0.000e+00, 0.000e+00, 0.000e+00, 1.000e+00, 0.000e+00,\n",
              "       0.000e+00, 0.000e+00, 1.986e+03, 5.000e+01])"
            ]
          },
          "metadata": {},
          "execution_count": 54
        }
      ]
    },
    {
      "cell_type": "markdown",
      "source": [
        "⏩ How many rows/colums does x_train_oh contains?"
      ],
      "metadata": {
        "id": "TtK5UbpgepKT"
      }
    },
    {
      "cell_type": "code",
      "source": [
        "x_train_oh.shape"
      ],
      "metadata": {
        "id": "CLn9fZ8MdPi9",
        "colab": {
          "base_uri": "https://localhost:8080/"
        },
        "outputId": "dccd3b98-6ee9-4835-d0ea-a56b1d90906f"
      },
      "execution_count": 55,
      "outputs": [
        {
          "output_type": "execute_result",
          "data": {
            "text/plain": [
              "(85201, 184)"
            ]
          },
          "metadata": {},
          "execution_count": 55
        }
      ]
    },
    {
      "cell_type": "markdown",
      "source": [
        "it contains 184 columns, and 85201 rows"
      ],
      "metadata": {
        "id": "LTpCiGJTKDWh"
      }
    },
    {
      "cell_type": "markdown",
      "source": [
        "Some columns have only a small number of ones. Here, we decide to delete these columns before training/ Of course, smarter approaches could be used (more detailed EDA, Lasso, etc.)"
      ],
      "metadata": {
        "id": "wiwiOCVhEeJZ"
      }
    },
    {
      "cell_type": "code",
      "source": [
        "number_of_ones = sum(x_train_oh).toarray()"
      ],
      "metadata": {
        "id": "IVaBf2Jfc_uJ"
      },
      "execution_count": 56,
      "outputs": []
    },
    {
      "cell_type": "code",
      "source": [
        "cols = [ i for i in range (184) if number_of_ones[0][i]>200]\n",
        "x_train_lr = x_train_oh[:,cols]"
      ],
      "metadata": {
        "id": "RdhF50CFjkqf"
      },
      "execution_count": 57,
      "outputs": []
    },
    {
      "cell_type": "markdown",
      "source": [
        "⏩ Fit a logistic regression"
      ],
      "metadata": {
        "id": "BWG_bmt3s0WK"
      }
    },
    {
      "cell_type": "code",
      "source": [
        "from sklearn.linear_model import LogisticRegression\n",
        "\n",
        "lr = LogisticRegression()\n",
        "lr.fit(x_train_lr, y_train0)"
      ],
      "metadata": {
        "id": "X0Au1sgCsygA",
        "colab": {
          "base_uri": "https://localhost:8080/",
          "height": 210
        },
        "outputId": "338f8a4c-1b21-4711-ed3c-588d496df221"
      },
      "execution_count": 58,
      "outputs": [
        {
          "output_type": "stream",
          "name": "stderr",
          "text": [
            "/usr/local/lib/python3.10/dist-packages/sklearn/linear_model/_logistic.py:458: ConvergenceWarning: lbfgs failed to converge (status=1):\n",
            "STOP: TOTAL NO. of ITERATIONS REACHED LIMIT.\n",
            "\n",
            "Increase the number of iterations (max_iter) or scale the data as shown in:\n",
            "    https://scikit-learn.org/stable/modules/preprocessing.html\n",
            "Please also refer to the documentation for alternative solver options:\n",
            "    https://scikit-learn.org/stable/modules/linear_model.html#logistic-regression\n",
            "  n_iter_i = _check_optimize_result(\n"
          ]
        },
        {
          "output_type": "execute_result",
          "data": {
            "text/plain": [
              "LogisticRegression()"
            ],
            "text/html": [
              "<style>#sk-container-id-2 {color: black;background-color: white;}#sk-container-id-2 pre{padding: 0;}#sk-container-id-2 div.sk-toggleable {background-color: white;}#sk-container-id-2 label.sk-toggleable__label {cursor: pointer;display: block;width: 100%;margin-bottom: 0;padding: 0.3em;box-sizing: border-box;text-align: center;}#sk-container-id-2 label.sk-toggleable__label-arrow:before {content: \"▸\";float: left;margin-right: 0.25em;color: #696969;}#sk-container-id-2 label.sk-toggleable__label-arrow:hover:before {color: black;}#sk-container-id-2 div.sk-estimator:hover label.sk-toggleable__label-arrow:before {color: black;}#sk-container-id-2 div.sk-toggleable__content {max-height: 0;max-width: 0;overflow: hidden;text-align: left;background-color: #f0f8ff;}#sk-container-id-2 div.sk-toggleable__content pre {margin: 0.2em;color: black;border-radius: 0.25em;background-color: #f0f8ff;}#sk-container-id-2 input.sk-toggleable__control:checked~div.sk-toggleable__content {max-height: 200px;max-width: 100%;overflow: auto;}#sk-container-id-2 input.sk-toggleable__control:checked~label.sk-toggleable__label-arrow:before {content: \"▾\";}#sk-container-id-2 div.sk-estimator input.sk-toggleable__control:checked~label.sk-toggleable__label {background-color: #d4ebff;}#sk-container-id-2 div.sk-label input.sk-toggleable__control:checked~label.sk-toggleable__label {background-color: #d4ebff;}#sk-container-id-2 input.sk-hidden--visually {border: 0;clip: rect(1px 1px 1px 1px);clip: rect(1px, 1px, 1px, 1px);height: 1px;margin: -1px;overflow: hidden;padding: 0;position: absolute;width: 1px;}#sk-container-id-2 div.sk-estimator {font-family: monospace;background-color: #f0f8ff;border: 1px dotted black;border-radius: 0.25em;box-sizing: border-box;margin-bottom: 0.5em;}#sk-container-id-2 div.sk-estimator:hover {background-color: #d4ebff;}#sk-container-id-2 div.sk-parallel-item::after {content: \"\";width: 100%;border-bottom: 1px solid gray;flex-grow: 1;}#sk-container-id-2 div.sk-label:hover label.sk-toggleable__label {background-color: #d4ebff;}#sk-container-id-2 div.sk-serial::before {content: \"\";position: absolute;border-left: 1px solid gray;box-sizing: border-box;top: 0;bottom: 0;left: 50%;z-index: 0;}#sk-container-id-2 div.sk-serial {display: flex;flex-direction: column;align-items: center;background-color: white;padding-right: 0.2em;padding-left: 0.2em;position: relative;}#sk-container-id-2 div.sk-item {position: relative;z-index: 1;}#sk-container-id-2 div.sk-parallel {display: flex;align-items: stretch;justify-content: center;background-color: white;position: relative;}#sk-container-id-2 div.sk-item::before, #sk-container-id-2 div.sk-parallel-item::before {content: \"\";position: absolute;border-left: 1px solid gray;box-sizing: border-box;top: 0;bottom: 0;left: 50%;z-index: -1;}#sk-container-id-2 div.sk-parallel-item {display: flex;flex-direction: column;z-index: 1;position: relative;background-color: white;}#sk-container-id-2 div.sk-parallel-item:first-child::after {align-self: flex-end;width: 50%;}#sk-container-id-2 div.sk-parallel-item:last-child::after {align-self: flex-start;width: 50%;}#sk-container-id-2 div.sk-parallel-item:only-child::after {width: 0;}#sk-container-id-2 div.sk-dashed-wrapped {border: 1px dashed gray;margin: 0 0.4em 0.5em 0.4em;box-sizing: border-box;padding-bottom: 0.4em;background-color: white;}#sk-container-id-2 div.sk-label label {font-family: monospace;font-weight: bold;display: inline-block;line-height: 1.2em;}#sk-container-id-2 div.sk-label-container {text-align: center;}#sk-container-id-2 div.sk-container {/* jupyter's `normalize.less` sets `[hidden] { display: none; }` but bootstrap.min.css set `[hidden] { display: none !important; }` so we also need the `!important` here to be able to override the default hidden behavior on the sphinx rendered scikit-learn.org. See: https://github.com/scikit-learn/scikit-learn/issues/21755 */display: inline-block !important;position: relative;}#sk-container-id-2 div.sk-text-repr-fallback {display: none;}</style><div id=\"sk-container-id-2\" class=\"sk-top-container\"><div class=\"sk-text-repr-fallback\"><pre>LogisticRegression()</pre><b>In a Jupyter environment, please rerun this cell to show the HTML representation or trust the notebook. <br />On GitHub, the HTML representation is unable to render, please try loading this page with nbviewer.org.</b></div><div class=\"sk-container\" hidden><div class=\"sk-item\"><div class=\"sk-estimator sk-toggleable\"><input class=\"sk-toggleable__control sk-hidden--visually\" id=\"sk-estimator-id-2\" type=\"checkbox\" checked><label for=\"sk-estimator-id-2\" class=\"sk-toggleable__label sk-toggleable__label-arrow\">LogisticRegression</label><div class=\"sk-toggleable__content\"><pre>LogisticRegression()</pre></div></div></div></div></div>"
            ]
          },
          "metadata": {},
          "execution_count": 58
        }
      ]
    },
    {
      "cell_type": "markdown",
      "source": [
        "We transform x_test similarly to x_train, using the previous ColumnTransformer"
      ],
      "metadata": {
        "id": "v1ZufdSMwCDC"
      }
    },
    {
      "cell_type": "code",
      "source": [
        "x_test_oh = transformer.transform(x_test)\n",
        "x_test_lr = x_test_oh[:,cols]"
      ],
      "metadata": {
        "id": "5w7-tWn6uWrW"
      },
      "execution_count": 59,
      "outputs": []
    },
    {
      "cell_type": "markdown",
      "source": [
        "⏩ Provide the accuracy and the AUC of the logistic regression"
      ],
      "metadata": {
        "id": "RkPQQ-5IwZb8"
      }
    },
    {
      "cell_type": "code",
      "source": [
        "print(\"Accuracy score: \", accuracy_score(lr.predict(x_test_lr), y_test0))\n",
        "print(\"Area under the ROC curve: \", roc_auc_score(y_test0, lr.predict_proba(x_test_lr)[:,1]))"
      ],
      "metadata": {
        "id": "TGdqJQbjtqZo",
        "colab": {
          "base_uri": "https://localhost:8080/"
        },
        "outputId": "c9682d81-f1f0-4b9d-f7bf-319009e8bdc8"
      },
      "execution_count": 60,
      "outputs": [
        {
          "output_type": "stream",
          "name": "stdout",
          "text": [
            "Accuracy score:  0.8501093593365534\n",
            "Area under the ROC curve:  0.8316523494247949\n"
          ]
        }
      ]
    },
    {
      "cell_type": "markdown",
      "source": [
        "# PART 3. Multiclass classification\n",
        "\n",
        "We now would like to predict the class (1,2,3,4) in the `grav` label). Recall that 1=free, 2=killed, 3=severe_injury, 4=slight_injury\n",
        "\n",
        "⏩ Fit a `LogisticRegression` classifier using the argument `multi_class='multinomial'`. What is the name of the loss function used by this classifier?"
      ],
      "metadata": {
        "id": "yRo7NhjZz2yA"
      }
    },
    {
      "cell_type": "code",
      "source": [
        "lr = LogisticRegression(multi_class=\"multinomial\")\n",
        "y_train1 = y_train[\"grav\"]\n",
        "lr.fit(x_train_lr, y_train1)"
      ],
      "metadata": {
        "id": "o3lQY6RY7ta-",
        "colab": {
          "base_uri": "https://localhost:8080/",
          "height": 210
        },
        "outputId": "1c4b4cf7-3aa9-4235-8999-5d7a5a290d93"
      },
      "execution_count": 82,
      "outputs": [
        {
          "output_type": "stream",
          "name": "stderr",
          "text": [
            "/usr/local/lib/python3.10/dist-packages/sklearn/linear_model/_logistic.py:458: ConvergenceWarning: lbfgs failed to converge (status=1):\n",
            "STOP: TOTAL NO. of ITERATIONS REACHED LIMIT.\n",
            "\n",
            "Increase the number of iterations (max_iter) or scale the data as shown in:\n",
            "    https://scikit-learn.org/stable/modules/preprocessing.html\n",
            "Please also refer to the documentation for alternative solver options:\n",
            "    https://scikit-learn.org/stable/modules/linear_model.html#logistic-regression\n",
            "  n_iter_i = _check_optimize_result(\n"
          ]
        },
        {
          "output_type": "execute_result",
          "data": {
            "text/plain": [
              "LogisticRegression(multi_class='multinomial')"
            ],
            "text/html": [
              "<style>#sk-container-id-8 {color: black;background-color: white;}#sk-container-id-8 pre{padding: 0;}#sk-container-id-8 div.sk-toggleable {background-color: white;}#sk-container-id-8 label.sk-toggleable__label {cursor: pointer;display: block;width: 100%;margin-bottom: 0;padding: 0.3em;box-sizing: border-box;text-align: center;}#sk-container-id-8 label.sk-toggleable__label-arrow:before {content: \"▸\";float: left;margin-right: 0.25em;color: #696969;}#sk-container-id-8 label.sk-toggleable__label-arrow:hover:before {color: black;}#sk-container-id-8 div.sk-estimator:hover label.sk-toggleable__label-arrow:before {color: black;}#sk-container-id-8 div.sk-toggleable__content {max-height: 0;max-width: 0;overflow: hidden;text-align: left;background-color: #f0f8ff;}#sk-container-id-8 div.sk-toggleable__content pre {margin: 0.2em;color: black;border-radius: 0.25em;background-color: #f0f8ff;}#sk-container-id-8 input.sk-toggleable__control:checked~div.sk-toggleable__content {max-height: 200px;max-width: 100%;overflow: auto;}#sk-container-id-8 input.sk-toggleable__control:checked~label.sk-toggleable__label-arrow:before {content: \"▾\";}#sk-container-id-8 div.sk-estimator input.sk-toggleable__control:checked~label.sk-toggleable__label {background-color: #d4ebff;}#sk-container-id-8 div.sk-label input.sk-toggleable__control:checked~label.sk-toggleable__label {background-color: #d4ebff;}#sk-container-id-8 input.sk-hidden--visually {border: 0;clip: rect(1px 1px 1px 1px);clip: rect(1px, 1px, 1px, 1px);height: 1px;margin: -1px;overflow: hidden;padding: 0;position: absolute;width: 1px;}#sk-container-id-8 div.sk-estimator {font-family: monospace;background-color: #f0f8ff;border: 1px dotted black;border-radius: 0.25em;box-sizing: border-box;margin-bottom: 0.5em;}#sk-container-id-8 div.sk-estimator:hover {background-color: #d4ebff;}#sk-container-id-8 div.sk-parallel-item::after {content: \"\";width: 100%;border-bottom: 1px solid gray;flex-grow: 1;}#sk-container-id-8 div.sk-label:hover label.sk-toggleable__label {background-color: #d4ebff;}#sk-container-id-8 div.sk-serial::before {content: \"\";position: absolute;border-left: 1px solid gray;box-sizing: border-box;top: 0;bottom: 0;left: 50%;z-index: 0;}#sk-container-id-8 div.sk-serial {display: flex;flex-direction: column;align-items: center;background-color: white;padding-right: 0.2em;padding-left: 0.2em;position: relative;}#sk-container-id-8 div.sk-item {position: relative;z-index: 1;}#sk-container-id-8 div.sk-parallel {display: flex;align-items: stretch;justify-content: center;background-color: white;position: relative;}#sk-container-id-8 div.sk-item::before, #sk-container-id-8 div.sk-parallel-item::before {content: \"\";position: absolute;border-left: 1px solid gray;box-sizing: border-box;top: 0;bottom: 0;left: 50%;z-index: -1;}#sk-container-id-8 div.sk-parallel-item {display: flex;flex-direction: column;z-index: 1;position: relative;background-color: white;}#sk-container-id-8 div.sk-parallel-item:first-child::after {align-self: flex-end;width: 50%;}#sk-container-id-8 div.sk-parallel-item:last-child::after {align-self: flex-start;width: 50%;}#sk-container-id-8 div.sk-parallel-item:only-child::after {width: 0;}#sk-container-id-8 div.sk-dashed-wrapped {border: 1px dashed gray;margin: 0 0.4em 0.5em 0.4em;box-sizing: border-box;padding-bottom: 0.4em;background-color: white;}#sk-container-id-8 div.sk-label label {font-family: monospace;font-weight: bold;display: inline-block;line-height: 1.2em;}#sk-container-id-8 div.sk-label-container {text-align: center;}#sk-container-id-8 div.sk-container {/* jupyter's `normalize.less` sets `[hidden] { display: none; }` but bootstrap.min.css set `[hidden] { display: none !important; }` so we also need the `!important` here to be able to override the default hidden behavior on the sphinx rendered scikit-learn.org. See: https://github.com/scikit-learn/scikit-learn/issues/21755 */display: inline-block !important;position: relative;}#sk-container-id-8 div.sk-text-repr-fallback {display: none;}</style><div id=\"sk-container-id-8\" class=\"sk-top-container\"><div class=\"sk-text-repr-fallback\"><pre>LogisticRegression(multi_class=&#x27;multinomial&#x27;)</pre><b>In a Jupyter environment, please rerun this cell to show the HTML representation or trust the notebook. <br />On GitHub, the HTML representation is unable to render, please try loading this page with nbviewer.org.</b></div><div class=\"sk-container\" hidden><div class=\"sk-item\"><div class=\"sk-estimator sk-toggleable\"><input class=\"sk-toggleable__control sk-hidden--visually\" id=\"sk-estimator-id-8\" type=\"checkbox\" checked><label for=\"sk-estimator-id-8\" class=\"sk-toggleable__label sk-toggleable__label-arrow\">LogisticRegression</label><div class=\"sk-toggleable__content\"><pre>LogisticRegression(multi_class=&#x27;multinomial&#x27;)</pre></div></div></div></div></div>"
            ]
          },
          "metadata": {},
          "execution_count": 82
        }
      ]
    },
    {
      "cell_type": "markdown",
      "source": [
        "cross entropy loss is used"
      ],
      "metadata": {
        "id": "n7a4FKVrL1Xu"
      }
    },
    {
      "cell_type": "markdown",
      "source": [
        "The next cells give an example of the output classifier, in terms of scores and hard decisions"
      ],
      "metadata": {
        "id": "QO5MHucx1yHa"
      }
    },
    {
      "cell_type": "code",
      "source": [
        "print(\"Output probabilities of the 0th test input: \",lr.predict_proba(x_test_lr[0]))\n",
        "print(\"Hard decision of the 0th test input: \", lr.predict(x_test_lr[0]), \"... that is the argument of the maximum probability\")"
      ],
      "metadata": {
        "id": "W9oHI3P0YRmH",
        "colab": {
          "base_uri": "https://localhost:8080/"
        },
        "outputId": "2773d064-f022-4f68-aa0a-d164fef89aed"
      },
      "execution_count": 62,
      "outputs": [
        {
          "output_type": "stream",
          "name": "stdout",
          "text": [
            "Output probabilities of the 0th test input:  [[0.6833933  0.01920481 0.11181496 0.18558694]]\n",
            "Hard decision of the 0th test input:  [1] ... that is the argument of the maximum probability\n"
          ]
        }
      ]
    },
    {
      "cell_type": "markdown",
      "source": [
        "⏩ Print the confusion matrix, and provide your comment about its structure. Explain."
      ],
      "metadata": {
        "id": "Re9tsGBA1Sph"
      }
    },
    {
      "cell_type": "code",
      "source": [
        "from sklearn.metrics import confusion_matrix\n",
        "print(\"Confusion Matrix\")\n",
        "print(confusion_matrix(lr.predict(x_test_lr),y_test[\"grav\"]))\n",
        "print(\"Number of labels in the training dataset\")\n",
        "y_train1.value_counts()"
      ],
      "metadata": {
        "id": "LVZ1hRzW-Vh4",
        "colab": {
          "base_uri": "https://localhost:8080/"
        },
        "outputId": "0fd604e8-debf-47cb-ade6-c5d1b5e3b7fb"
      },
      "execution_count": 90,
      "outputs": [
        {
          "output_type": "stream",
          "name": "stdout",
          "text": [
            "Confusion Matrix\n",
            "[[14838   315  1629  6820]\n",
            " [    0     0     0     0]\n",
            " [  182   170   729   326]\n",
            " [ 3741   627  4095 10420]]\n",
            "Number of labels in the training dataset\n"
          ]
        },
        {
          "output_type": "execute_result",
          "data": {
            "text/plain": [
              "1    36347\n",
              "4    34115\n",
              "3    12632\n",
              "2     2107\n",
              "Name: grav, dtype: int64"
            ]
          },
          "metadata": {},
          "execution_count": 90
        }
      ]
    },
    {
      "cell_type": "markdown",
      "source": [
        "This matrix provides us with information how often labels are confused with each other. The columns are predicted label (1,2,3,4), and in the rows, the actual values. For example, the value in row 3, col 1, means that 167 times a sample was assigned label 1 when the true label was 3.\n",
        "\n",
        "Values on diagonal show the amount of correct assignments."
      ],
      "metadata": {
        "id": "fhVyo4R7eXR7"
      }
    },
    {
      "cell_type": "markdown",
      "source": [
        "we see that no samples were classified with label 2 = \"killed\". This can be explained with very small number of data samples with label 2 in the training data. Only 2107 samples, that is, only 2% of dataset has this lable."
      ],
      "metadata": {
        "id": "NHyHgCPYqRId"
      }
    },
    {
      "cell_type": "markdown",
      "source": [
        "⏩ Re-train a logistic classifier, but now use the argument `class_weight='balanced'`. Observe the confusion matrix. Explain."
      ],
      "metadata": {
        "id": "0w4KtucX202R"
      }
    },
    {
      "cell_type": "code",
      "source": [
        "lr = LogisticRegression(multi_class=\"multinomial\", class_weight='balanced')\n",
        "lr.fit(x_train_lr, y_train1)"
      ],
      "metadata": {
        "id": "jM65qrHmwOxS",
        "colab": {
          "base_uri": "https://localhost:8080/",
          "height": 210
        },
        "outputId": "d6857d6c-1e9f-4558-d44e-4da433f4babf"
      },
      "execution_count": 77,
      "outputs": [
        {
          "output_type": "stream",
          "name": "stderr",
          "text": [
            "/usr/local/lib/python3.10/dist-packages/sklearn/linear_model/_logistic.py:458: ConvergenceWarning: lbfgs failed to converge (status=1):\n",
            "STOP: TOTAL NO. of ITERATIONS REACHED LIMIT.\n",
            "\n",
            "Increase the number of iterations (max_iter) or scale the data as shown in:\n",
            "    https://scikit-learn.org/stable/modules/preprocessing.html\n",
            "Please also refer to the documentation for alternative solver options:\n",
            "    https://scikit-learn.org/stable/modules/linear_model.html#logistic-regression\n",
            "  n_iter_i = _check_optimize_result(\n"
          ]
        },
        {
          "output_type": "execute_result",
          "data": {
            "text/plain": [
              "LogisticRegression(class_weight='balanced', multi_class='multinomial')"
            ],
            "text/html": [
              "<style>#sk-container-id-7 {color: black;background-color: white;}#sk-container-id-7 pre{padding: 0;}#sk-container-id-7 div.sk-toggleable {background-color: white;}#sk-container-id-7 label.sk-toggleable__label {cursor: pointer;display: block;width: 100%;margin-bottom: 0;padding: 0.3em;box-sizing: border-box;text-align: center;}#sk-container-id-7 label.sk-toggleable__label-arrow:before {content: \"▸\";float: left;margin-right: 0.25em;color: #696969;}#sk-container-id-7 label.sk-toggleable__label-arrow:hover:before {color: black;}#sk-container-id-7 div.sk-estimator:hover label.sk-toggleable__label-arrow:before {color: black;}#sk-container-id-7 div.sk-toggleable__content {max-height: 0;max-width: 0;overflow: hidden;text-align: left;background-color: #f0f8ff;}#sk-container-id-7 div.sk-toggleable__content pre {margin: 0.2em;color: black;border-radius: 0.25em;background-color: #f0f8ff;}#sk-container-id-7 input.sk-toggleable__control:checked~div.sk-toggleable__content {max-height: 200px;max-width: 100%;overflow: auto;}#sk-container-id-7 input.sk-toggleable__control:checked~label.sk-toggleable__label-arrow:before {content: \"▾\";}#sk-container-id-7 div.sk-estimator input.sk-toggleable__control:checked~label.sk-toggleable__label {background-color: #d4ebff;}#sk-container-id-7 div.sk-label input.sk-toggleable__control:checked~label.sk-toggleable__label {background-color: #d4ebff;}#sk-container-id-7 input.sk-hidden--visually {border: 0;clip: rect(1px 1px 1px 1px);clip: rect(1px, 1px, 1px, 1px);height: 1px;margin: -1px;overflow: hidden;padding: 0;position: absolute;width: 1px;}#sk-container-id-7 div.sk-estimator {font-family: monospace;background-color: #f0f8ff;border: 1px dotted black;border-radius: 0.25em;box-sizing: border-box;margin-bottom: 0.5em;}#sk-container-id-7 div.sk-estimator:hover {background-color: #d4ebff;}#sk-container-id-7 div.sk-parallel-item::after {content: \"\";width: 100%;border-bottom: 1px solid gray;flex-grow: 1;}#sk-container-id-7 div.sk-label:hover label.sk-toggleable__label {background-color: #d4ebff;}#sk-container-id-7 div.sk-serial::before {content: \"\";position: absolute;border-left: 1px solid gray;box-sizing: border-box;top: 0;bottom: 0;left: 50%;z-index: 0;}#sk-container-id-7 div.sk-serial {display: flex;flex-direction: column;align-items: center;background-color: white;padding-right: 0.2em;padding-left: 0.2em;position: relative;}#sk-container-id-7 div.sk-item {position: relative;z-index: 1;}#sk-container-id-7 div.sk-parallel {display: flex;align-items: stretch;justify-content: center;background-color: white;position: relative;}#sk-container-id-7 div.sk-item::before, #sk-container-id-7 div.sk-parallel-item::before {content: \"\";position: absolute;border-left: 1px solid gray;box-sizing: border-box;top: 0;bottom: 0;left: 50%;z-index: -1;}#sk-container-id-7 div.sk-parallel-item {display: flex;flex-direction: column;z-index: 1;position: relative;background-color: white;}#sk-container-id-7 div.sk-parallel-item:first-child::after {align-self: flex-end;width: 50%;}#sk-container-id-7 div.sk-parallel-item:last-child::after {align-self: flex-start;width: 50%;}#sk-container-id-7 div.sk-parallel-item:only-child::after {width: 0;}#sk-container-id-7 div.sk-dashed-wrapped {border: 1px dashed gray;margin: 0 0.4em 0.5em 0.4em;box-sizing: border-box;padding-bottom: 0.4em;background-color: white;}#sk-container-id-7 div.sk-label label {font-family: monospace;font-weight: bold;display: inline-block;line-height: 1.2em;}#sk-container-id-7 div.sk-label-container {text-align: center;}#sk-container-id-7 div.sk-container {/* jupyter's `normalize.less` sets `[hidden] { display: none; }` but bootstrap.min.css set `[hidden] { display: none !important; }` so we also need the `!important` here to be able to override the default hidden behavior on the sphinx rendered scikit-learn.org. See: https://github.com/scikit-learn/scikit-learn/issues/21755 */display: inline-block !important;position: relative;}#sk-container-id-7 div.sk-text-repr-fallback {display: none;}</style><div id=\"sk-container-id-7\" class=\"sk-top-container\"><div class=\"sk-text-repr-fallback\"><pre>LogisticRegression(class_weight=&#x27;balanced&#x27;, multi_class=&#x27;multinomial&#x27;)</pre><b>In a Jupyter environment, please rerun this cell to show the HTML representation or trust the notebook. <br />On GitHub, the HTML representation is unable to render, please try loading this page with nbviewer.org.</b></div><div class=\"sk-container\" hidden><div class=\"sk-item\"><div class=\"sk-estimator sk-toggleable\"><input class=\"sk-toggleable__control sk-hidden--visually\" id=\"sk-estimator-id-7\" type=\"checkbox\" checked><label for=\"sk-estimator-id-7\" class=\"sk-toggleable__label sk-toggleable__label-arrow\">LogisticRegression</label><div class=\"sk-toggleable__content\"><pre>LogisticRegression(class_weight=&#x27;balanced&#x27;, multi_class=&#x27;multinomial&#x27;)</pre></div></div></div></div></div>"
            ]
          },
          "metadata": {},
          "execution_count": 77
        }
      ]
    },
    {
      "cell_type": "markdown",
      "source": [
        "When class_weight is not specified, all weights are automatically set to 1. When using \"balanced\", it will set larger weight, for classes that are less frequent in the training data."
      ],
      "metadata": {
        "id": "BKYKT5qPnuxZ"
      }
    },
    {
      "cell_type": "code",
      "source": [
        "# We normalize the confusion matrix in such a way that every column has a sum equal to one\n",
        "confmat = confusion_matrix(lr.predict(x_test_lr),y_test.grav)\n",
        "confusion_probabilities = confmat / sum(confmat)\n",
        "sns.heatmap(confusion_probabilities,annot=True)\n"
      ],
      "metadata": {
        "id": "2CBSk0PZyXkR",
        "colab": {
          "base_uri": "https://localhost:8080/",
          "height": 447
        },
        "outputId": "4829db11-939a-42df-f2c4-883e5acd7590"
      },
      "execution_count": 78,
      "outputs": [
        {
          "output_type": "execute_result",
          "data": {
            "text/plain": [
              "<Axes: >"
            ]
          },
          "metadata": {},
          "execution_count": 78
        },
        {
          "output_type": "display_data",
          "data": {
            "text/plain": [
              "<Figure size 640x480 with 2 Axes>"
            ],
            "image/png": "[encoded data removed]"
          },
          "metadata": {}
        }
      ]
    },
    {
      "cell_type": "markdown",
      "source": [
        "This fixed the problem that we had. As the class 2 (\"killed\") was given bigger weight, it was learned more properly. Now model classifies 48% of labels of this class correctly."
      ],
      "metadata": {
        "id": "th0_bBSApHQw"
      }
    },
    {
      "cell_type": "markdown",
      "source": [
        "⏩ Train a random forest (using `class_weight='balanced'`) and plot the (normalized) confusion matrix"
      ],
      "metadata": {
        "id": "CWMsDuV7BRlh"
      }
    },
    {
      "cell_type": "code",
      "source": [
        "rf = RandomForestClassifier(class_weight='balanced')\n",
        "rf.fit(x_train, y_train1)\n",
        "\n",
        "confmat = confusion_matrix(rf.predict(x_test),y_test.grav)\n",
        "confusion_probabilities = confmat / sum(confmat)\n",
        "sns.heatmap(confusion_probabilities,annot=True)"
      ],
      "metadata": {
        "id": "7pVbvggBOAe9",
        "colab": {
          "base_uri": "https://localhost:8080/",
          "height": 447
        },
        "outputId": "3624a506-7d76-41ad-b27b-00a4b7be3e97"
      },
      "execution_count": 95,
      "outputs": [
        {
          "output_type": "execute_result",
          "data": {
            "text/plain": [
              "<Axes: >"
            ]
          },
          "metadata": {},
          "execution_count": 95
        },
        {
          "output_type": "display_data",
          "data": {
            "text/plain": [
              "<Figure size 640x480 with 2 Axes>"
            ],
            "image/png": "[encoded data removed]"
          },
          "metadata": {}
        }
      ]
    },
    {
      "cell_type": "markdown",
      "source": [
        "Even with the balanced class weights, random forest performs poorly to identify correctly 2nd class. However, in comparison with Logistic Regression, it identifies class 4 much better."
      ],
      "metadata": {
        "id": "2L5Xr-PEsfw-"
      }
    },
    {
      "cell_type": "markdown",
      "source": [
        "In order to compare the performance of two classifiers using a single measure, one option is to compute the log_loss, or cross entropy loss [see here](https://en.wikipedia.org/wiki/Cross_entropy#Cross-entropy_loss_function_and_logistic_regression)\n",
        "\n",
        "To this end we first need, to format the label column using a `LabelBinarizer`\n"
      ],
      "metadata": {
        "id": "B99PK_lPBkCK"
      }
    },
    {
      "cell_type": "code",
      "source": [
        "from sklearn.preprocessing import LabelBinarizer\n",
        "lb = LabelBinarizer()\n",
        "lb.fit(y_train.grav)"
      ],
      "metadata": {
        "id": "vUhrm5B6-2_L",
        "colab": {
          "base_uri": "https://localhost:8080/",
          "height": 74
        },
        "outputId": "2ee7a700-3b59-46f4-c511-e452346ee755"
      },
      "execution_count": 66,
      "outputs": [
        {
          "output_type": "execute_result",
          "data": {
            "text/plain": [
              "LabelBinarizer()"
            ],
            "text/html": [
              "<style>#sk-container-id-5 {color: black;background-color: white;}#sk-container-id-5 pre{padding: 0;}#sk-container-id-5 div.sk-toggleable {background-color: white;}#sk-container-id-5 label.sk-toggleable__label {cursor: pointer;display: block;width: 100%;margin-bottom: 0;padding: 0.3em;box-sizing: border-box;text-align: center;}#sk-container-id-5 label.sk-toggleable__label-arrow:before {content: \"▸\";float: left;margin-right: 0.25em;color: #696969;}#sk-container-id-5 label.sk-toggleable__label-arrow:hover:before {color: black;}#sk-container-id-5 div.sk-estimator:hover label.sk-toggleable__label-arrow:before {color: black;}#sk-container-id-5 div.sk-toggleable__content {max-height: 0;max-width: 0;overflow: hidden;text-align: left;background-color: #f0f8ff;}#sk-container-id-5 div.sk-toggleable__content pre {margin: 0.2em;color: black;border-radius: 0.25em;background-color: #f0f8ff;}#sk-container-id-5 input.sk-toggleable__control:checked~div.sk-toggleable__content {max-height: 200px;max-width: 100%;overflow: auto;}#sk-container-id-5 input.sk-toggleable__control:checked~label.sk-toggleable__label-arrow:before {content: \"▾\";}#sk-container-id-5 div.sk-estimator input.sk-toggleable__control:checked~label.sk-toggleable__label {background-color: #d4ebff;}#sk-container-id-5 div.sk-label input.sk-toggleable__control:checked~label.sk-toggleable__label {background-color: #d4ebff;}#sk-container-id-5 input.sk-hidden--visually {border: 0;clip: rect(1px 1px 1px 1px);clip: rect(1px, 1px, 1px, 1px);height: 1px;margin: -1px;overflow: hidden;padding: 0;position: absolute;width: 1px;}#sk-container-id-5 div.sk-estimator {font-family: monospace;background-color: #f0f8ff;border: 1px dotted black;border-radius: 0.25em;box-sizing: border-box;margin-bottom: 0.5em;}#sk-container-id-5 div.sk-estimator:hover {background-color: #d4ebff;}#sk-container-id-5 div.sk-parallel-item::after {content: \"\";width: 100%;border-bottom: 1px solid gray;flex-grow: 1;}#sk-container-id-5 div.sk-label:hover label.sk-toggleable__label {background-color: #d4ebff;}#sk-container-id-5 div.sk-serial::before {content: \"\";position: absolute;border-left: 1px solid gray;box-sizing: border-box;top: 0;bottom: 0;left: 50%;z-index: 0;}#sk-container-id-5 div.sk-serial {display: flex;flex-direction: column;align-items: center;background-color: white;padding-right: 0.2em;padding-left: 0.2em;position: relative;}#sk-container-id-5 div.sk-item {position: relative;z-index: 1;}#sk-container-id-5 div.sk-parallel {display: flex;align-items: stretch;justify-content: center;background-color: white;position: relative;}#sk-container-id-5 div.sk-item::before, #sk-container-id-5 div.sk-parallel-item::before {content: \"\";position: absolute;border-left: 1px solid gray;box-sizing: border-box;top: 0;bottom: 0;left: 50%;z-index: -1;}#sk-container-id-5 div.sk-parallel-item {display: flex;flex-direction: column;z-index: 1;position: relative;background-color: white;}#sk-container-id-5 div.sk-parallel-item:first-child::after {align-self: flex-end;width: 50%;}#sk-container-id-5 div.sk-parallel-item:last-child::after {align-self: flex-start;width: 50%;}#sk-container-id-5 div.sk-parallel-item:only-child::after {width: 0;}#sk-container-id-5 div.sk-dashed-wrapped {border: 1px dashed gray;margin: 0 0.4em 0.5em 0.4em;box-sizing: border-box;padding-bottom: 0.4em;background-color: white;}#sk-container-id-5 div.sk-label label {font-family: monospace;font-weight: bold;display: inline-block;line-height: 1.2em;}#sk-container-id-5 div.sk-label-container {text-align: center;}#sk-container-id-5 div.sk-container {/* jupyter's `normalize.less` sets `[hidden] { display: none; }` but bootstrap.min.css set `[hidden] { display: none !important; }` so we also need the `!important` here to be able to override the default hidden behavior on the sphinx rendered scikit-learn.org. See: https://github.com/scikit-learn/scikit-learn/issues/21755 */display: inline-block !important;position: relative;}#sk-container-id-5 div.sk-text-repr-fallback {display: none;}</style><div id=\"sk-container-id-5\" class=\"sk-top-container\"><div class=\"sk-text-repr-fallback\"><pre>LabelBinarizer()</pre><b>In a Jupyter environment, please rerun this cell to show the HTML representation or trust the notebook. <br />On GitHub, the HTML representation is unable to render, please try loading this page with nbviewer.org.</b></div><div class=\"sk-container\" hidden><div class=\"sk-item\"><div class=\"sk-estimator sk-toggleable\"><input class=\"sk-toggleable__control sk-hidden--visually\" id=\"sk-estimator-id-5\" type=\"checkbox\" checked><label for=\"sk-estimator-id-5\" class=\"sk-toggleable__label sk-toggleable__label-arrow\">LabelBinarizer</label><div class=\"sk-toggleable__content\"><pre>LabelBinarizer()</pre></div></div></div></div></div>"
            ]
          },
          "metadata": {},
          "execution_count": 66
        }
      ]
    },
    {
      "cell_type": "code",
      "source": [
        "# Here is what the LabelBinarizer output looks like\n",
        "lb.transform(y_test.grav)"
      ],
      "metadata": {
        "id": "4wnEuUfm--_P",
        "colab": {
          "base_uri": "https://localhost:8080/"
        },
        "outputId": "cf5ad703-de2f-4145-9d9f-5d4c42462d61"
      },
      "execution_count": 67,
      "outputs": [
        {
          "output_type": "execute_result",
          "data": {
            "text/plain": [
              "array([[1, 0, 0, 0],\n",
              "       [0, 0, 1, 0],\n",
              "       [0, 0, 0, 1],\n",
              "       ...,\n",
              "       [0, 0, 0, 1],\n",
              "       [1, 0, 0, 0],\n",
              "       [1, 0, 0, 0]])"
            ]
          },
          "metadata": {},
          "execution_count": 67
        }
      ]
    },
    {
      "cell_type": "code",
      "source": [
        "# To be compared with the output probability scores\n",
        "rf.predict_proba(x_test)"
      ],
      "metadata": {
        "id": "wio4Vvgj_VAJ",
        "colab": {
          "base_uri": "https://localhost:8080/"
        },
        "outputId": "64ed5472-0ef9-4dc9-8efb-219fbc333b95"
      },
      "execution_count": 68,
      "outputs": [
        {
          "output_type": "execute_result",
          "data": {
            "text/plain": [
              "array([[0.95780588, 0.04219412],\n",
              "       [0.4349697 , 0.5650303 ],\n",
              "       [0.56619893, 0.43380107],\n",
              "       ...,\n",
              "       [0.79785575, 0.20214425],\n",
              "       [0.86569369, 0.13430631],\n",
              "       [0.85526663, 0.14473337]])"
            ]
          },
          "metadata": {},
          "execution_count": 68
        }
      ]
    },
    {
      "cell_type": "markdown",
      "source": [
        "⏩ Compare the log_loss of random forest to logistic regression, and to XGBoost."
      ],
      "metadata": {
        "id": "eZXBvZZMCjzA"
      }
    },
    {
      "cell_type": "code",
      "source": [
        "from sklearn.metrics import log_loss\n",
        "print(\"Loss of random forest\")\n",
        "print(log_loss(y_test.grav, lb.transform(rf.predict(x_test))))\n",
        "print(\"Loss of logistic regression\")\n",
        "print(log_loss(y_test.grav, lb.transform(lr.predict(x_test_lr))))\n",
        "print(\"Loss of XGboost\")\n",
        "print(log_loss(y_test.grav, lb.transform(xgb.predict(x_test))))"
      ],
      "metadata": {
        "id": "-zE9InQ844tB",
        "colab": {
          "base_uri": "https://localhost:8080/"
        },
        "outputId": "71fcdad9-ed10-4a97-85e4-d51609024051"
      },
      "execution_count": 104,
      "outputs": [
        {
          "output_type": "stream",
          "name": "stdout",
          "text": [
            "Loss of random forest\n",
            "12.83437206822455\n",
            "Loss of logistic regression\n",
            "14.703399570129921\n",
            "Loss of XGboost\n",
            "5.016394518345661\n"
          ]
        }
      ]
    },
    {
      "cell_type": "markdown",
      "source": [
        "We see that XGboost has much smaller loss."
      ],
      "metadata": {
        "id": "2CA6aPGBuwt-"
      }
    },
    {
      "cell_type": "markdown",
      "source": [
        "# Conclusion\n",
        "\n",
        "In this notebook, we have seen how to\n",
        "\n",
        "*   Perform an EDA (although more could have been done)\n",
        "*   Clean up a data set\n",
        "*   Use random forest and XGBoost\n",
        "*   Use sklearn onehotencoder, columnencoder\n",
        "*   Handle mutliclass classification using log_loss, confusion matrices\n",
        "*   Deal with unbalanced data sets\n",
        "\n"
      ],
      "metadata": {
        "id": "miuycmZuCwd4"
      }
    }
  ],
  "metadata": {
    "kernelspec": {
      "display_name": "Python 3",
      "language": "python",
      "name": "python3"
    },
    "language_info": {
      "codemirror_mode": {
        "name": "ipython",
        "version": 3
      },
      "file_extension": ".py",
      "mimetype": "text/x-python",
      "name": "python",
      "nbconvert_exporter": "python",
      "pygments_lexer": "ipython3",
      "version": "3.8.5"
    },
    "colab": {
      "provenance": []
    }
  },
  "nbformat": 4,
  "nbformat_minor": 0
}